{
 "cells": [
  {
   "cell_type": "code",
   "execution_count": 2,
   "id": "29c07619-57ca-41ce-a41f-2d8c80fd4684",
   "metadata": {},
   "outputs": [],
   "source": [
    "import datetime"
   ]
  },
  {
   "cell_type": "code",
   "execution_count": 4,
   "id": "28d2b26b-81a6-4691-8463-db86335ef839",
   "metadata": {},
   "outputs": [
    {
     "data": {
      "text/plain": [
       "datetime.datetime(2024, 9, 12, 10, 33, 55, 139811)"
      ]
     },
     "execution_count": 4,
     "metadata": {},
     "output_type": "execute_result"
    }
   ],
   "source": [
    "# 현재 날짜와 시간을 가져와보겠습니다.\n",
    "datetime.datetime.now()"
   ]
  },
  {
   "cell_type": "code",
   "execution_count": 8,
   "id": "cc7c9db1-1731-4df2-bc3b-3c61362f87f2",
   "metadata": {},
   "outputs": [
    {
     "name": "stdout",
     "output_type": "stream",
     "text": [
      "2024-01-23 19:30:00\n"
     ]
    }
   ],
   "source": [
    "# 특정 날짜와 시간을 생성\n",
    "print(datetime.datetime(2024, 1, 23, 19, 30, 0))"
   ]
  },
  {
   "cell_type": "code",
   "execution_count": 10,
   "id": "a5e0e94e-2446-4e4c-9e2e-f3d4a971f024",
   "metadata": {},
   "outputs": [
    {
     "name": "stdout",
     "output_type": "stream",
     "text": [
      "2024-09-12\n"
     ]
    }
   ],
   "source": [
    "# 특정 형식으로 날짜와 시간 출력\n",
    "print(datetime.datetime.now().strftime(\"%Y-%m-%d\"))"
   ]
  },
  {
   "cell_type": "code",
   "execution_count": 12,
   "id": "f2636394-7d39-43a9-8878-7684ffeaf229",
   "metadata": {},
   "outputs": [
    {
     "name": "stdout",
     "output_type": "stream",
     "text": [
      "2024-09-11 10:37:58.690870\n"
     ]
    }
   ],
   "source": [
    "# 현재 시간에서 1일 전의 날짜를 계산\n",
    "print(datetime.datetime.now() - datetime.timedelta(days = 1))"
   ]
  },
  {
   "cell_type": "code",
   "execution_count": 14,
   "id": "33117424-5ff8-4ec4-9d8c-bf9d7dff050c",
   "metadata": {},
   "outputs": [],
   "source": [
    "# 시간대 변환\n",
    "import pytz"
   ]
  },
  {
   "cell_type": "code",
   "execution_count": 16,
   "id": "aa32bd51-9508-44f3-94b9-f1a4d4f2a806",
   "metadata": {},
   "outputs": [
    {
     "name": "stdout",
     "output_type": "stream",
     "text": [
      "2024-09-12 10:39:11.867906\n"
     ]
    }
   ],
   "source": [
    "now = datetime.datetime.now()\n",
    "print(now)"
   ]
  },
  {
   "cell_type": "code",
   "execution_count": 20,
   "id": "eaa1bf39-4243-4579-a604-bacdac11a2e0",
   "metadata": {},
   "outputs": [
    {
     "name": "stdout",
     "output_type": "stream",
     "text": [
      "2024-09-11 21:39:11.867906-04:00\n"
     ]
    }
   ],
   "source": [
    "new_timezone = pytz.timezone(\"America/New_York\")\n",
    "new_datetime = now.astimezone(new_timezone)\n",
    "print(new_datetime)"
   ]
  }
 ],
 "metadata": {
  "kernelspec": {
   "display_name": "Python 3 (ipykernel)",
   "language": "python",
   "name": "python3"
  },
  "language_info": {
   "codemirror_mode": {
    "name": "ipython",
    "version": 3
   },
   "file_extension": ".py",
   "mimetype": "text/x-python",
   "name": "python",
   "nbconvert_exporter": "python",
   "pygments_lexer": "ipython3",
   "version": "3.12.4"
  }
 },
 "nbformat": 4,
 "nbformat_minor": 5
}
