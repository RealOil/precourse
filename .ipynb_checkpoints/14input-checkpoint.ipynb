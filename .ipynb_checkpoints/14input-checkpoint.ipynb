{
 "cells": [
  {
   "cell_type": "code",
   "execution_count": 3,
   "id": "59e367a4-e7fe-49af-aa6e-8ed4779877ca",
   "metadata": {},
   "outputs": [
    {
     "name": "stdin",
     "output_type": "stream",
     "text": [
      "아무 값이나 입력하세요 아무 값이나 입력했습니다\n"
     ]
    },
    {
     "name": "stdout",
     "output_type": "stream",
     "text": [
      "아무 값이나 입력했습니다\n"
     ]
    }
   ],
   "source": [
    "# input()\n",
    "# 키보드 입력을 발을 떄 사용하는 내장 합수\n",
    "print(input(\"아무 값이나 입력하세요\"))\n",
    "# print(\"아무 값이나 입력했습니다.\")"
   ]
  },
  {
   "cell_type": "code",
   "execution_count": 5,
   "id": "ce636fc3-5f34-4963-a3b8-00fc1e53da78",
   "metadata": {},
   "outputs": [
    {
     "name": "stdin",
     "output_type": "stream",
     "text": [
      "정수 값을 입력해주세요 10\n"
     ]
    }
   ],
   "source": [
    "some_str = input(\"정수 값을 입력해주세요\") # str 값이 반환된다\n",
    "input_value = int(some_str)"
   ]
  },
  {
   "cell_type": "code",
   "execution_count": 7,
   "id": "0e99a3bd-1dc2-4058-a071-a7b84cb71a3f",
   "metadata": {},
   "outputs": [
    {
     "name": "stdout",
     "output_type": "stream",
     "text": [
      "<class 'int'>\n"
     ]
    }
   ],
   "source": [
    "print(type(input_value))"
   ]
  },
  {
   "cell_type": "code",
   "execution_count": 9,
   "id": "c6408a59-389d-4922-8665-3cb175a93c49",
   "metadata": {},
   "outputs": [
    {
     "name": "stdout",
     "output_type": "stream",
     "text": [
      "10\n"
     ]
    }
   ],
   "source": [
    "print(input_value)"
   ]
  },
  {
   "cell_type": "code",
   "execution_count": 11,
   "id": "83895d58-dc2f-44d7-8bb1-c37adb792dc9",
   "metadata": {},
   "outputs": [
    {
     "name": "stdin",
     "output_type": "stream",
     "text": [
      "정수 값을 입력해주세요 10\n"
     ]
    }
   ],
   "source": [
    "# 한 줄로 줄여서 이렇게 작성할 수 있다.\n",
    "input_value = int(input(\"정수 값을 입력해주세요\"))"
   ]
  },
  {
   "cell_type": "code",
   "execution_count": null,
   "id": "8da2922a-b596-48bd-a67d-6625b3699128",
   "metadata": {},
   "outputs": [],
   "source": []
  }
 ],
 "metadata": {
  "kernelspec": {
   "display_name": "Python 3 (ipykernel)",
   "language": "python",
   "name": "python3"
  },
  "language_info": {
   "codemirror_mode": {
    "name": "ipython",
    "version": 3
   },
   "file_extension": ".py",
   "mimetype": "text/x-python",
   "name": "python",
   "nbconvert_exporter": "python",
   "pygments_lexer": "ipython3",
   "version": "3.12.4"
  }
 },
 "nbformat": 4,
 "nbformat_minor": 5
}
