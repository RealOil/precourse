{
 "cells": [
  {
   "cell_type": "code",
   "execution_count": 25,
   "id": "e6f8067c-8e8d-4384-90a6-108b92d97831",
   "metadata": {},
   "outputs": [
    {
     "name": "stdout",
     "output_type": "stream",
     "text": [
      "['James', 'Robert', 'Lisa', 'Mary']\n",
      "['James', 'Paul', 'Robert', 'Lisa', 'Mary']\n"
     ]
    }
   ],
   "source": [
    "myFriends = ['James', 'Robert', 'Lisa', 'Mary']\n",
    "print(myFriends)\n",
    "myFriends.insert(1, 'Paul')\n",
    "print(myFriends)"
   ]
  },
  {
   "cell_type": "code",
   "execution_count": 28,
   "id": "12701805-39d9-4316-a69b-6d0f68670a5b",
   "metadata": {},
   "outputs": [
    {
     "name": "stdout",
     "output_type": "stream",
     "text": [
      "(9,)\n",
      "(10,)\n"
     ]
    }
   ],
   "source": [
    "tuple3 = (9,)\n",
    "tuple4 = 10,\n",
    "print(tuple3)\n",
    "print(tuple4)"
   ]
  },
  {
   "cell_type": "code",
   "execution_count": 30,
   "id": "003fca00-c738-462d-bca9-9c5b606dc82a",
   "metadata": {},
   "outputs": [
    {
     "name": "stdout",
     "output_type": "stream",
     "text": [
      "3\n"
     ]
    }
   ],
   "source": [
    "tuple7 = ('a', 'a', 'a', 'b', 'b', 'c', 'd')\n",
    "print(tuple7.count('a'))"
   ]
  },
  {
   "cell_type": "code",
   "execution_count": 32,
   "id": "c51a0866-540a-4ec5-bbd8-c58460b3eb2b",
   "metadata": {},
   "outputs": [
    {
     "name": "stdout",
     "output_type": "stream",
     "text": [
      "<class 'set'>\n",
      "{1, 2, 3}\n"
     ]
    }
   ],
   "source": [
    "set1 = {1, 2, 3}\n",
    "set1a = {1, 2, 3, 3}\n",
    "print(set)\n",
    "print(set1a)"
   ]
  },
  {
   "cell_type": "code",
   "execution_count": 44,
   "id": "c2e808aa-6908-42a4-b354-977ba3151534",
   "metadata": {},
   "outputs": [
    {
     "name": "stdout",
     "output_type": "stream",
     "text": [
      "{'영국': '런던', '프랑스': '파리', '스위스': '베른', '호주': '캔버라', '덴마크': '코펜하겐'}\n"
     ]
    }
   ],
   "source": [
    "country_capital = {\"영국\" : \"런던\", \"프랑스\" : \"파리\", \"스위스\" : \"베른\", \"호주\" : \"멜버른\", \"덴마크\" : \"코펜하겐\"}\n",
    "country_capital[\"호주\"] = \"캔버라\"\n",
    "print(country_capital)"
   ]
  },
  {
   "cell_type": "code",
   "execution_count": 46,
   "id": "af2314f5-171d-4d10-ac83-147f42ecc1a5",
   "metadata": {},
   "outputs": [
    {
     "name": "stdout",
     "output_type": "stream",
     "text": [
      "[['egg', 'salad', 'bread'], ['lamb', 'chicken'], ['apple']]\n"
     ]
    }
   ],
   "source": [
    "first = [\"egg\", \"salad\", \"bread\", \"soup\", \"canafe\"]\n",
    "second = [\"fish\", \"lamb\", \"pork\", \"beef\", \"chicken\"]\n",
    "third = [\"apple\", \"banana\", \"orange\", \"grape\", \"manago\"]\n",
    "\n",
    "order = [first, second, third]\n",
    "john = [order[0][:-2], second[1::3], third[0]]\n",
    "del john[2]\n",
    "john.extend([order[2][0:1]])\n",
    "print(john)"
   ]
  },
  {
   "cell_type": "code",
   "execution_count": null,
   "id": "a2538602-726f-4f6f-94d3-b834794494d8",
   "metadata": {},
   "outputs": [],
   "source": []
  }
 ],
 "metadata": {
  "kernelspec": {
   "display_name": "Python 3 (ipykernel)",
   "language": "python",
   "name": "python3"
  },
  "language_info": {
   "codemirror_mode": {
    "name": "ipython",
    "version": 3
   },
   "file_extension": ".py",
   "mimetype": "text/x-python",
   "name": "python",
   "nbconvert_exporter": "python",
   "pygments_lexer": "ipython3",
   "version": "3.12.4"
  }
 },
 "nbformat": 4,
 "nbformat_minor": 5
}
