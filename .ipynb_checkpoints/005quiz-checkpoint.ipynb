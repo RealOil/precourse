{
 "cells": [
  {
   "cell_type": "code",
   "execution_count": 16,
   "id": "f99c28c3-c70f-4dcb-95ec-3399558747bb",
   "metadata": {},
   "outputs": [
    {
     "name": "stdout",
     "output_type": "stream",
     "text": [
      "제 이름은 유진이고, 저는 28살입니다.\n"
     ]
    }
   ],
   "source": [
    "class Person:\n",
    "    def __init__(self, name, age):\n",
    "        self.name = name\n",
    "        self.age = age\n",
    "\n",
    "# 여기에 인스턴스를 생성하고 속성을 출력하는 코드를 작성하세요.\n",
    "yujin = Person(\"유진\", 28)\n",
    "print(f\"제 이름은 {yujin.name}이고, 저는 {yujin.age}살입니다.\")"
   ]
  },
  {
   "cell_type": "code",
   "execution_count": 18,
   "id": "a15587dd-368d-4a71-900c-735d2d77a7f7",
   "metadata": {},
   "outputs": [
    {
     "name": "stdout",
     "output_type": "stream",
     "text": [
      "현재 선수의 등번호는: 10\n",
      "현재 선수의 등번호는: 5\n"
     ]
    }
   ],
   "source": [
    "class SoccerPlayer(object):\n",
    "    def __init__(self, name, position, back_number):\n",
    "        self.name = name\n",
    "        self.position = position\n",
    "        self.back_number = back_number\n",
    "        \n",
    "    def change_back_number(self, back_number):\n",
    "        self.back_number = back_number  # 올바른 변수명으로 수정\n",
    "       \n",
    "jinhyun = SoccerPlayer(\"jinhyun\", \"MF\", 10)\n",
    "print(\"현재 선수의 등번호는:\", jinhyun.back_number)\n",
    "jinhyun.change_back_number(5)\n",
    "print(\"현재 선수의 등번호는:\", jinhyun.back_number)"
   ]
  },
  {
   "cell_type": "code",
   "execution_count": 20,
   "id": "3927bef2-e64b-425c-a26e-caaca66427e6",
   "metadata": {},
   "outputs": [
    {
     "name": "stdout",
     "output_type": "stream",
     "text": [
      "This car is a Toyota Camry.\n",
      "This car is a Hyundai Sonata.\n"
     ]
    }
   ],
   "source": [
    "class Car:\n",
    "    def __init__(self, brand, model):\n",
    "        self.brand = brand\n",
    "        self.model = model\n",
    "    def display_info(self):\n",
    "        return f\"This car is a {self.brand} {self.model}.\"\n",
    "   \n",
    "# 여기에 코드를 작성하여 실행 결과를 맞춰보세요.\n",
    "\n",
    "car1 = Car(\"Toyota\", \"Camry\")\n",
    "print(car1.display_info())\n",
    "\n",
    "car2 = Car(\"Hyundai\", \"Sonata\")\n",
    "print(car2.display_info())"
   ]
  },
  {
   "cell_type": "code",
   "execution_count": 22,
   "id": "b028714c-65b9-4582-884c-47075cfb38f4",
   "metadata": {},
   "outputs": [
    {
     "name": "stdout",
     "output_type": "stream",
     "text": [
      "원의 반지름: 5, 뭔의 면적: 78.5\n",
      "원의 반지름: 7, 원의 면적: 153.86\n"
     ]
    }
   ],
   "source": [
    "class Circle:\n",
    "    def __init__(self, radius):\n",
    "        self.radius = radius\n",
    "     \n",
    "    def area(self):\n",
    "        return 3.14 * self.radius ** 2\n",
    "    \n",
    "# 여기에 코드를 작성하여 실행 결과를 맞춰보세요.\n",
    "\n",
    "circle1 = Circle(5)\n",
    "print(f\"원의 반지름: {circle1.radius}, 뭔의 면적: {circle1.area()}\")\n",
    "\n",
    "circle2 = Circle(7)\n",
    "print(f\"원의 반지름: {circle2.radius}, 원의 면적: {circle2.area()}\")"
   ]
  },
  {
   "cell_type": "code",
   "execution_count": 37,
   "id": "cacac20c-4e8a-4c13-b8d7-a2ba8698c2aa",
   "metadata": {},
   "outputs": [
    {
     "name": "stdout",
     "output_type": "stream",
     "text": [
      "Writing factorial_calculator.py\n"
     ]
    }
   ],
   "source": [
    "%%writefile factorial_calculator.py\n",
    "#factorial_calculator.py\n",
    "def factorial(n):\n",
    "    if n == 0:\n",
    "        return 1\n",
    "    else:\n",
    "        return(n*factorial(n-1))"
   ]
  },
  {
   "cell_type": "code",
   "execution_count": 51,
   "id": "87b92c75-b803-425e-8e32-cf76c50b4499",
   "metadata": {},
   "outputs": [
    {
     "name": "stdout",
     "output_type": "stream",
     "text": [
      "720\n"
     ]
    }
   ],
   "source": [
    "from factorial_calculator import factorial\n",
    "print(factorial(6))\n",
    "\n",
    "# 6*5*4*3*2*1"
   ]
  }
 ],
 "metadata": {
  "kernelspec": {
   "display_name": "Python 3 (ipykernel)",
   "language": "python",
   "name": "python3"
  },
  "language_info": {
   "codemirror_mode": {
    "name": "ipython",
    "version": 3
   },
   "file_extension": ".py",
   "mimetype": "text/x-python",
   "name": "python",
   "nbconvert_exporter": "python",
   "pygments_lexer": "ipython3",
   "version": "3.12.4"
  }
 },
 "nbformat": 4,
 "nbformat_minor": 5
}
