{
 "cells": [
  {
   "cell_type": "code",
   "execution_count": 7,
   "id": "eea52f1b-899b-42a3-98b2-f48db2be19b2",
   "metadata": {},
   "outputs": [
    {
     "name": "stdin",
     "output_type": "stream",
     "text": [
      "한 개의 숫자를 입력하세요. 5\n"
     ]
    },
    {
     "name": "stdout",
     "output_type": "stream",
     "text": [
      "15\n"
     ]
    }
   ],
   "source": [
    "a = int(input(\"한 개의 숫자를 입력하세요.\"))\n",
    "print(a + 10)"
   ]
  },
  {
   "cell_type": "code",
   "execution_count": 13,
   "id": "4cfcdd49-d2e5-41d0-815d-018d56c0a30f",
   "metadata": {},
   "outputs": [
    {
     "name": "stdout",
     "output_type": "stream",
     "text": [
      "Before: 10\n",
      "In Funtion: 20\n",
      "After: 10\n"
     ]
    }
   ],
   "source": [
    "def test(t):\n",
    "    t = 20\n",
    "    print(\"In Funtion:\", t)\n",
    "\n",
    "x = 10\n",
    "print(\"Before:\", x)\n",
    "test(x)\n",
    "print(\"After:\", x)"
   ]
  },
  {
   "cell_type": "code",
   "execution_count": 19,
   "id": "46e564b3-21dd-4757-8961-5611411be86f",
   "metadata": {},
   "outputs": [
    {
     "name": "stdout",
     "output_type": "stream",
     "text": [
      "['green', 'blue']\n"
     ]
    }
   ],
   "source": [
    "def rain(colors):\n",
    "    colors.append(\"purple\")\n",
    "    colors = [\"green\", \"blue\"]\n",
    "    return colors\n",
    "\n",
    "rainbow = [\"red\", \"orange\"]\n",
    "print(rain(rainbow))"
   ]
  },
  {
   "cell_type": "code",
   "execution_count": 22,
   "id": "bc964fd7-e785-4dd9-8f7b-1c8f79ca46ba",
   "metadata": {},
   "outputs": [
    {
     "data": {
      "text/plain": [
       "8"
      ]
     },
     "execution_count": 22,
     "metadata": {},
     "output_type": "execute_result"
    }
   ],
   "source": [
    "def f(x, y):\n",
    "    return x **y\n",
    "\n",
    "f(2, 3)"
   ]
  },
  {
   "cell_type": "code",
   "execution_count": 33,
   "id": "315a89f4-7e06-4670-a014-9e3b4bf621b9",
   "metadata": {},
   "outputs": [
    {
     "data": {
      "text/plain": [
       "8"
      ]
     },
     "execution_count": 33,
     "metadata": {},
     "output_type": "execute_result"
    }
   ],
   "source": [
    "twice = lambda x, y: x **y\n",
    "twice(2, 3)"
   ]
  },
  {
   "cell_type": "code",
   "execution_count": 50,
   "id": "bbabd7a9-559a-44b6-beae-27d32fcbee64",
   "metadata": {},
   "outputs": [
    {
     "data": {
      "text/plain": [
       "[1, 4, 9, 16, 25]"
      ]
     },
     "execution_count": 50,
     "metadata": {},
     "output_type": "execute_result"
    }
   ],
   "source": [
    "a = [1, 2, 3, 4, 5]\n",
    "list(map(lambda x: x **2, a))"
   ]
  },
  {
   "cell_type": "code",
   "execution_count": 52,
   "id": "830b7c13-74c0-4f2f-9d53-61faa2758d17",
   "metadata": {},
   "outputs": [
    {
     "name": "stdout",
     "output_type": "stream",
     "text": [
      "1110\n",
      "168.67000000000002\n",
      "True\n",
      "True\n"
     ]
    }
   ],
   "source": [
    "# 주어진 변수들\n",
    "num_str = \"987\"\n",
    "num_int = 123\n",
    "num_float = 45.67\n",
    "bool_str_true = \"True\"\n",
    "bool_str_false = \"False\"\n",
    "bool_int_true = 1\n",
    "bool_int_false = 0\n",
    "\n",
    "# 형변환 후 출력\n",
    "result1 = int(num_str) + num_int\n",
    "result2 = float(num_int) + num_float\n",
    "result3 = bool(bool_str_true) and bool(bool_int_true)\n",
    "result4 = bool(bool_str_false) or bool(bool_int_false)\n",
    "\n",
    "print(result1) # 987 + 123 = 1110\n",
    "print(result2) # 123.0 + 45.67 = 168.67\n",
    "print(result3) # True and 1 = True\n",
    "print(result4) # False or 0 = True"
   ]
  }
 ],
 "metadata": {
  "kernelspec": {
   "display_name": "Python 3 (ipykernel)",
   "language": "python",
   "name": "python3"
  },
  "language_info": {
   "codemirror_mode": {
    "name": "ipython",
    "version": 3
   },
   "file_extension": ".py",
   "mimetype": "text/x-python",
   "name": "python",
   "nbconvert_exporter": "python",
   "pygments_lexer": "ipython3",
   "version": "3.12.4"
  }
 },
 "nbformat": 4,
 "nbformat_minor": 5
}
