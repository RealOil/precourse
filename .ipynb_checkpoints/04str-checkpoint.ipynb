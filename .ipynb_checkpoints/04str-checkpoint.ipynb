{
 "cells": [
  {
   "cell_type": "code",
   "execution_count": 1,
   "id": "aa8c9b2a-e415-475d-8f62-0275b21f5703",
   "metadata": {},
   "outputs": [
    {
     "name": "stdout",
     "output_type": "stream",
     "text": [
      "이것은 문자열 리터럴 입니다.\n",
      "이것은 문자열 리터럴 입니다.\n"
     ]
    }
   ],
   "source": [
    "# str: 시퀀스 자료형 중 하나\n",
    "# 시퀀스 자료형: 연속해서 값을 갖는 자료형\n",
    "# str literal: 작은 따옴표 혹은 큰 따옴표를 작성해서 텍스트의 범위를 나타낸다\n",
    "x = '이것은 문자열 리터럴 입니다.' # 문자열 리터럴\n",
    "y = \"이것은 문자열 리터럴 입니다.\" # 문자열 리터럴\n",
    "print(x)\n",
    "print(y)"
   ]
  },
  {
   "cell_type": "code",
   "execution_count": 3,
   "id": "e9089701-5663-4c9d-a3d1-9ae7d7d6ead4",
   "metadata": {},
   "outputs": [
    {
     "name": "stdout",
     "output_type": "stream",
     "text": [
      "<class 'str'>\n"
     ]
    }
   ],
   "source": [
    "print(type(x))"
   ]
  },
  {
   "cell_type": "code",
   "execution_count": 5,
   "id": "b7f298ae-2e3c-41e9-a685-e320df0b9259",
   "metadata": {},
   "outputs": [
    {
     "name": "stdout",
     "output_type": "stream",
     "text": [
      "<class 'str'>\n"
     ]
    }
   ],
   "source": [
    "print(type(y))"
   ]
  },
  {
   "cell_type": "code",
   "execution_count": 7,
   "id": "41637b7a-f487-4762-855c-5aef7d4336a6",
   "metadata": {},
   "outputs": [
    {
     "name": "stdout",
     "output_type": "stream",
     "text": [
      "don't do that\n",
      "don't do that\n"
     ]
    }
   ],
   "source": [
    "# 만약에 작은 따옴표를 텍스트 자체로 쓰고 싶다면\n",
    "text1 = 'don\\'t do that'   # 쓰고 싶은 따옴표 바로 앞에 \\\n",
    "print(text1)\n",
    "text2 = \"don't do that\"    # 안쓰는 따옴표로 묶기\n",
    "print(text2)"
   ]
  },
  {
   "cell_type": "code",
   "execution_count": 9,
   "id": "2e5fe28f-456e-4327-b0a0-1f0591b1d6be",
   "metadata": {},
   "outputs": [
    {
     "name": "stdout",
     "output_type": "stream",
     "text": [
      "그가 나를 바라보고 \"안녕하세요.\"라고 답했다.\n"
     ]
    }
   ],
   "source": [
    "text3 = '그가 나를 바라보고 \"안녕하세요.\"라고 답했다.'\n",
    "print(text3)"
   ]
  },
  {
   "cell_type": "code",
   "execution_count": 11,
   "id": "c83110d9-ee90-46e1-a0e1-ae9477a3d834",
   "metadata": {},
   "outputs": [
    {
     "name": "stdout",
     "output_type": "stream",
     "text": [
      "첫 번째 문장입니다.\n",
      "두 번째 문장입니다.\n"
     ]
    }
   ],
   "source": [
    "# 문자열 리터럴 안에 \\n이라는 것은 줄바꿈을 의미합니다.\n",
    "text4 = \"첫 번째 문장입니다.\\n두 번째 문장입니다.\"\n",
    "print(text4)"
   ]
  },
  {
   "cell_type": "code",
   "execution_count": 13,
   "id": "fbd5b095-fcbc-484d-a195-fe12dbdf0dc7",
   "metadata": {},
   "outputs": [
    {
     "name": "stdout",
     "output_type": "stream",
     "text": [
      "c:\n",
      "ame\n"
     ]
    }
   ],
   "source": [
    "# 경우에 따라 \\n이라는 값을 직접 문자열에 담고 싶을때\n",
    "# 1. raw str\n",
    "# 2. \\\\역슬래시를 두 번 써서 \\ 문자 그대로 출력되게\n",
    "text5 = \"c:\\name\"\n",
    "print(text5) # \\n 개행 문자로 동작"
   ]
  },
  {
   "cell_type": "code",
   "execution_count": 17,
   "id": "98af6155-e39d-45a6-8760-2060f6bc1c7f",
   "metadata": {},
   "outputs": [
    {
     "name": "stdout",
     "output_type": "stream",
     "text": [
      "c:\\name\n",
      "c:\\name\n"
     ]
    }
   ],
   "source": [
    "text6 = r\"c:\\name\" # raw str\n",
    "text7 = \"c:\\\\name\" # \\\\를 두번\n",
    "print(text6)\n",
    "print(text7)"
   ]
  },
  {
   "cell_type": "code",
   "execution_count": 25,
   "id": "8cb28558-3a07-4404-b301-24f80851e0e0",
   "metadata": {},
   "outputs": [
    {
     "name": "stdout",
     "output_type": "stream",
     "text": [
      "동해물과 백두산이\n",
      "\"마르고\" 닳도록\n",
      "끝\n"
     ]
    }
   ],
   "source": [
    "# 삼중 따옴표를 사용해서 문자열 리터럴 생성\n",
    "text8 = \"\"\"\\\n",
    "동해물과 백두산이\n",
    "\"마르고\" 닳도록\n",
    "끝\"\"\"                # \\ 줄바꿈 취소\n",
    "print(text8)"
   ]
  },
  {
   "cell_type": "code",
   "execution_count": 27,
   "id": "71d26e64-b527-405f-8ee6-7685ccd784d8",
   "metadata": {},
   "outputs": [
    {
     "name": "stdout",
     "output_type": "stream",
     "text": [
      "너무 너무 너무 너무 너무 너무 너무 너무 너무 너무 파이썬 공부가 즐겁습니다.\n"
     ]
    }
   ],
   "source": [
    "# 문자열에 대해서도 *, +을 할 수 있다.\n",
    "# *: 앞에 오는 문자열에 대해서 뒤에 오는 숫자만큼 반복\n",
    "# +: 더하기 연산자 앞 뒤로 있는 문자열을 합쳐서 이어줌\n",
    "text9 = '너무 '\n",
    "text10 = '파이썬 공부가 즐겁습니다.'\n",
    "print(text9 * 10 + text10)"
   ]
  },
  {
   "cell_type": "code",
   "execution_count": 33,
   "id": "3078053c-2f43-442f-a165-4512d4b0468c",
   "metadata": {},
   "outputs": [
    {
     "name": "stdout",
     "output_type": "stream",
     "text": [
      "n\n"
     ]
    }
   ],
   "source": [
    "# index: 0부터 순서대로 1씩 숫자가 증가하도록 시퀀스 자료형의 요소에 붙여놓은 것\n",
    "# 이 index 식별을 위한 숫자\n",
    "text11 = \"Python\"\n",
    "# \"P\" -> 0 index  -6 index\n",
    "# \"y\" -> 1 index  -5 index\n",
    "# \"t\" -> 2 index  -4 index\n",
    "# \"h\" -> 3 index  -3 index\n",
    "# \"o\" -> 4 index  -2 index\n",
    "# \"n\" -> 5 index  -1 index\n",
    "print(text11[-1])"
   ]
  },
  {
   "cell_type": "code",
   "execution_count": 35,
   "id": "c63a4eff-a8f6-4eb8-b1b2-7859b561fe3e",
   "metadata": {},
   "outputs": [
    {
     "ename": "IndexError",
     "evalue": "string index out of range",
     "output_type": "error",
     "traceback": [
      "\u001b[1;31m---------------------------------------------------------------------------\u001b[0m",
      "\u001b[1;31mIndexError\u001b[0m                                Traceback (most recent call last)",
      "Cell \u001b[1;32mIn[35], line 2\u001b[0m\n\u001b[0;32m      1\u001b[0m \u001b[38;5;66;03m# index의 경우 범위를 정확하게 쓰지 않으면 IndexError가 발생됩니다.\u001b[39;00m\n\u001b[1;32m----> 2\u001b[0m \u001b[38;5;28mprint\u001b[39m(text11[\u001b[38;5;241m6\u001b[39m])\n",
      "\u001b[1;31mIndexError\u001b[0m: string index out of range"
     ]
    }
   ],
   "source": [
    "# index의 경우 범위를 정확하게 쓰지 않으면 IndexError가 발생됩니다.\n",
    "print(text11[6])"
   ]
  },
  {
   "cell_type": "code",
   "execution_count": 39,
   "id": "8fe75370-d028-491f-be55-fb085f5f28a1",
   "metadata": {},
   "outputs": [
    {
     "name": "stdout",
     "output_type": "stream",
     "text": [
      "yth\n"
     ]
    }
   ],
   "source": [
    "# slicing: 범위로써 인덱스 위치에 있는 요소들을 꺼내옵니다.\n",
    "print(text11[1:4]) # 1, 2, 3에 해당되는 요소"
   ]
  },
  {
   "cell_type": "code",
   "execution_count": 41,
   "id": "fa2c5aee-881f-4ab4-96cc-8b74dc9d01ae",
   "metadata": {},
   "outputs": [
    {
     "name": "stdout",
     "output_type": "stream",
     "text": [
      "Py\n"
     ]
    }
   ],
   "source": [
    "print(text11[:2])"
   ]
  },
  {
   "cell_type": "code",
   "execution_count": 43,
   "id": "4579cdcc-49ac-40f2-ae7d-bd0e6ae5d7cb",
   "metadata": {},
   "outputs": [
    {
     "name": "stdout",
     "output_type": "stream",
     "text": [
      "Python\n"
     ]
    }
   ],
   "source": [
    "print(text11[:])"
   ]
  },
  {
   "cell_type": "code",
   "execution_count": 45,
   "id": "03798bc1-8a3b-4a27-aa2b-b323c82f9132",
   "metadata": {},
   "outputs": [
    {
     "name": "stdout",
     "output_type": "stream",
     "text": [
      "hon\n"
     ]
    }
   ],
   "source": [
    "print(text11[3:])"
   ]
  },
  {
   "cell_type": "code",
   "execution_count": 49,
   "id": "9584b686-7aba-430d-8ecc-ac840eea7fb5",
   "metadata": {},
   "outputs": [
    {
     "name": "stdout",
     "output_type": "stream",
     "text": [
      "hn\n"
     ]
    }
   ],
   "source": [
    "print(text11[3::2])\n",
    "#Python\n",
    "#012345\n",
    "#   3 5 -> 3::2"
   ]
  },
  {
   "cell_type": "code",
   "execution_count": 53,
   "id": "34ae0da4-9114-4426-9b6a-e90cb19529ee",
   "metadata": {},
   "outputs": [
    {
     "name": "stdout",
     "output_type": "stream",
     "text": [
      "nohtyP\n"
     ]
    }
   ],
   "source": [
    "print(text11[::-1])"
   ]
  },
  {
   "cell_type": "code",
   "execution_count": 55,
   "id": "75f22e20-c892-4053-9217-482cda0bed8b",
   "metadata": {},
   "outputs": [
    {
     "name": "stdout",
     "output_type": "stream",
     "text": [
      "nohtyP\n"
     ]
    }
   ],
   "source": [
    "print(text11[-1:-7:-1])"
   ]
  },
  {
   "cell_type": "code",
   "execution_count": 57,
   "id": "50c71e47-6e82-4aa4-a6ef-4cae1a4d2c92",
   "metadata": {},
   "outputs": [
    {
     "name": "stdout",
     "output_type": "stream",
     "text": [
      "nohtyP\n"
     ]
    }
   ],
   "source": [
    "print(text11[5::-1])"
   ]
  },
  {
   "cell_type": "code",
   "execution_count": 59,
   "id": "f9357ca1-637a-4fea-a98f-4d6394e0074f",
   "metadata": {},
   "outputs": [
    {
     "name": "stdout",
     "output_type": "stream",
     "text": [
      "Python\n"
     ]
    }
   ],
   "source": [
    "print(text11[:999:])"
   ]
  },
  {
   "cell_type": "code",
   "execution_count": 61,
   "id": "490c367c-92ba-4368-884a-53ca565a9c11",
   "metadata": {},
   "outputs": [
    {
     "name": "stdout",
     "output_type": "stream",
     "text": [
      "P\n"
     ]
    }
   ],
   "source": [
    "print(text11[0])"
   ]
  },
  {
   "cell_type": "code",
   "execution_count": 69,
   "id": "b2fe593b-acc3-4676-b27c-ce8d4bbe7ed8",
   "metadata": {},
   "outputs": [
    {
     "ename": "TypeError",
     "evalue": "'str' object does not support item assignment",
     "output_type": "error",
     "traceback": [
      "\u001b[1;31m---------------------------------------------------------------------------\u001b[0m",
      "\u001b[1;31mTypeError\u001b[0m                                 Traceback (most recent call last)",
      "Cell \u001b[1;32mIn[69], line 2\u001b[0m\n\u001b[0;32m      1\u001b[0m \u001b[38;5;66;03m# 인덱싱해서 요소를 접근하고 값을 수정하려고 하고 있습니다.\u001b[39;00m\n\u001b[1;32m----> 2\u001b[0m text11[\u001b[38;5;241m0\u001b[39m] \u001b[38;5;241m=\u001b[39m \u001b[38;5;124m\"\u001b[39m\u001b[38;5;124mA\u001b[39m\u001b[38;5;124m\"\u001b[39m\n",
      "\u001b[1;31mTypeError\u001b[0m: 'str' object does not support item assignment"
     ]
    }
   ],
   "source": [
    "# 인덱싱해서 요소를 접근하고 값을 수정하려고 하고 있습니다.\n",
    "text11[0] = \"A\"\n",
    "\n",
    "# 문자열(str)의 경우는 immutable(불변)이기 때문에 변경 불가"
   ]
  },
  {
   "cell_type": "code",
   "execution_count": 71,
   "id": "fd948403-7bf4-4a55-858f-a62db172bda5",
   "metadata": {},
   "outputs": [
    {
     "ename": "TypeError",
     "evalue": "'str' object does not support item assignment",
     "output_type": "error",
     "traceback": [
      "\u001b[1;31m---------------------------------------------------------------------------\u001b[0m",
      "\u001b[1;31mTypeError\u001b[0m                                 Traceback (most recent call last)",
      "Cell \u001b[1;32mIn[71], line 3\u001b[0m\n\u001b[0;32m      1\u001b[0m \u001b[38;5;66;03m# 슬라이싱을 통해서 요소를 변경하는 경우\u001b[39;00m\n\u001b[0;32m      2\u001b[0m \u001b[38;5;66;03m# 양쪽의 요소 개수가 같아야 한다.\u001b[39;00m\n\u001b[1;32m----> 3\u001b[0m text11[:\u001b[38;5;241m2\u001b[39m] \u001b[38;5;241m=\u001b[39m \u001b[38;5;124m'\u001b[39m\u001b[38;5;124mAa\u001b[39m\u001b[38;5;124m'\u001b[39m\n",
      "\u001b[1;31mTypeError\u001b[0m: 'str' object does not support item assignment"
     ]
    }
   ],
   "source": [
    "# 슬라이싱을 통해서 요소를 변경하는 경우\n",
    "# 양쪽의 요소 개수가 같아야 한다.\n",
    "text11[:2] = 'Aa'\n",
    "\n",
    "# 문자열(str)의 경우는 immutable(불변)이기 때문에 변경 불가"
   ]
  },
  {
   "cell_type": "code",
   "execution_count": 73,
   "id": "1c5af105-ff4d-450d-adca-57c24c4a8fad",
   "metadata": {},
   "outputs": [
    {
     "name": "stdout",
     "output_type": "stream",
     "text": [
      "Aathon\n"
     ]
    }
   ],
   "source": [
    "text12 = \"Aa\" + text11[2:]\n",
    "print(text12)"
   ]
  },
  {
   "cell_type": "code",
   "execution_count": 75,
   "id": "86d4619c-3486-482b-ac6e-6de10ded09b8",
   "metadata": {},
   "outputs": [
    {
     "data": {
      "text/plain": [
       "6"
      ]
     },
     "execution_count": 75,
     "metadata": {},
     "output_type": "execute_result"
    }
   ],
   "source": [
    "# Len()함수는 소괄호 안에 입력한 시퀀스의 크기를 구해준다\n",
    "len(text12)"
   ]
  },
  {
   "cell_type": "code",
   "execution_count": null,
   "id": "eacecf54-c0c3-4707-bb75-d9a9ed04bd68",
   "metadata": {},
   "outputs": [],
   "source": []
  }
 ],
 "metadata": {
  "kernelspec": {
   "display_name": "Python 3 (ipykernel)",
   "language": "python",
   "name": "python3"
  },
  "language_info": {
   "codemirror_mode": {
    "name": "ipython",
    "version": 3
   },
   "file_extension": ".py",
   "mimetype": "text/x-python",
   "name": "python",
   "nbconvert_exporter": "python",
   "pygments_lexer": "ipython3",
   "version": "3.12.4"
  }
 },
 "nbformat": 4,
 "nbformat_minor": 5
}
