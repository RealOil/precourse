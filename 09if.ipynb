{
 "cells": [
  {
   "cell_type": "code",
   "execution_count": 1,
   "id": "a07b91c5-77cc-41d3-a1f3-1f2767ab3ca8",
   "metadata": {},
   "outputs": [
    {
     "name": "stdout",
     "output_type": "stream",
     "text": [
      "hello world\n",
      "파이썬 공부 중입니다.\n"
     ]
    }
   ],
   "source": [
    "# if문\n",
    "# if문이라는 것은 특정 조건에만 실행되는 코드 블록을 작성할 떄 사용\n",
    "if True:\n",
    "    print(\"hello world\") # if문의 코드 블록: 조건식이 True 값을 최종적으로 가질 때 실행됩니다.\n",
    "print(\"파이썬 공부 중입니다.\")"
   ]
  },
  {
   "cell_type": "code",
   "execution_count": 3,
   "id": "d10bfe04-e163-438f-a783-5b9a0632011d",
   "metadata": {},
   "outputs": [
    {
     "name": "stdout",
     "output_type": "stream",
     "text": [
      "파이썬 공부 중입니다.\n"
     ]
    }
   ],
   "source": [
    "if False:\n",
    "    print(\"hello world\") # 조건식이 False의 결과를 가져올 때 실행되지 않습니다.\n",
    "print(\"파이썬 공부 중입니다.\")"
   ]
  },
  {
   "cell_type": "code",
   "execution_count": 5,
   "id": "1cd8d49d-3105-4671-898d-64e8d47d79bd",
   "metadata": {},
   "outputs": [
    {
     "ename": "IndentationError",
     "evalue": "expected an indented block after 'if' statement on line 1 (1335237641.py, line 2)",
     "output_type": "error",
     "traceback": [
      "\u001b[1;36m  Cell \u001b[1;32mIn[5], line 2\u001b[1;36m\u001b[0m\n\u001b[1;33m    print(\"if에 대한 선언 다음 줄에는 무조건 들여쓰기 부분이 나와야 한다.\")\u001b[0m\n\u001b[1;37m    ^\u001b[0m\n\u001b[1;31mIndentationError\u001b[0m\u001b[1;31m:\u001b[0m expected an indented block after 'if' statement on line 1\n"
     ]
    }
   ],
   "source": [
    "if False: # 'if' statement 다음 줄은 무조건 들여쓰기된 블록이 나와야 한다.\n",
    "print(\"if에 대한 선언 다음 줄에는 무조건 들여쓰기 부분이 나와야 한다.\")"
   ]
  },
  {
   "cell_type": "code",
   "execution_count": 7,
   "id": "f90c48bf-4462-4128-a4ac-1bc990dc0fc7",
   "metadata": {},
   "outputs": [
    {
     "ename": "SyntaxError",
     "evalue": "cannot assign to literal here. Maybe you meant '==' instead of '='? (3680711923.py, line 1)",
     "output_type": "error",
     "traceback": [
      "\u001b[1;36m  Cell \u001b[1;32mIn[7], line 1\u001b[1;36m\u001b[0m\n\u001b[1;33m    if 1 = 1: # 대입 연산자(=)는 같다는 의미(==)로 사용되지 않습니다.\u001b[0m\n\u001b[1;37m       ^\u001b[0m\n\u001b[1;31mSyntaxError\u001b[0m\u001b[1;31m:\u001b[0m cannot assign to literal here. Maybe you meant '==' instead of '='?\n"
     ]
    }
   ],
   "source": [
    "if 1 = 1: # 대입 연산자(=)는 같다는 의미(==)로 사용되지 않습니다.\n",
    "    print(\"들여쓰기를 지키더라도 오류가 발생됩니다.\")"
   ]
  },
  {
   "cell_type": "code",
   "execution_count": 12,
   "id": "a5a935d9-9022-4c06-b76e-74756d1e94a8",
   "metadata": {},
   "outputs": [
    {
     "name": "stdout",
     "output_type": "stream",
     "text": [
      "int 자료형입니다.\n",
      "갑사합니다\n"
     ]
    }
   ],
   "source": [
    "int_value = 10\n",
    "if type(int_value) is int: # int_value라는 변수에 타입이 int라면?\n",
    "    print(\"int 자료형입니다.\")\n",
    "print(\"갑사합니다\")"
   ]
  },
  {
   "cell_type": "code",
   "execution_count": 14,
   "id": "9341b4e8-f6a7-4c7d-885e-38857e1e0d99",
   "metadata": {},
   "outputs": [
    {
     "name": "stdout",
     "output_type": "stream",
     "text": [
      "갑사합니다\n"
     ]
    }
   ],
   "source": [
    "int_value = 10\n",
    "if type(int_value) is str: # int_value라는 변수에 타입이 str라면?\n",
    "    print(\"str 자료형입니다.\")\n",
    "print(\"갑사합니다\")"
   ]
  },
  {
   "cell_type": "code",
   "execution_count": 18,
   "id": "02bd492e-4f43-4107-994b-0625dc8e1c57",
   "metadata": {},
   "outputs": [
    {
     "name": "stdout",
     "output_type": "stream",
     "text": [
      "안녕하세요\n"
     ]
    }
   ],
   "source": [
    "# 복합적인 조건을 따져서 실행하는 if문을 작성하고 싶을 때는 논리연산자를 활용하는 것이 좋습니다.\n",
    "int_value2 = 100\n",
    "\n",
    "# int_value2의 값이 10보다 크고, int 값ㅇ르 가질 때만 \"안녕하세요\"를 출력\n",
    "if int_value2 > 10 and type(int_value2) is int:\n",
    "    print(\"안녕하세요\")"
   ]
  },
  {
   "cell_type": "code",
   "execution_count": 22,
   "id": "a0b8324d-a1b6-4a83-b3ff-a8a9752915ef",
   "metadata": {},
   "outputs": [
    {
     "name": "stdout",
     "output_type": "stream",
     "text": [
      "불합격입니다.\n"
     ]
    }
   ],
   "source": [
    "# if와 else를 활용한 분기\n",
    "score = 60 - 1 #59\n",
    "\n",
    "# score가 60점 이상일 때 합격 -> 합격입니다.를 출력, 60점 미만일 때는 불합격입니다.를 출력\n",
    "if score >= 60:\n",
    "    print(\"합격입니다.\")\n",
    "else:\n",
    "    print(\"불합격입니다.\")"
   ]
  },
  {
   "cell_type": "code",
   "execution_count": 24,
   "id": "405c3aa0-24a7-4bfa-b982-9ee1e49eee08",
   "metadata": {},
   "outputs": [],
   "source": [
    "# if와 elif를 활용한 분기\n",
    "age = 40\n",
    "\n",
    "# 20대라면 20대입니다.라고 출력\n",
    "if 20 <= age < 30: # False\n",
    "    print(\"20대입니다.\")\n",
    "# 30대라면 30대입니다.라고 출력\n",
    "elif 30 <= age < 40: # False\n",
    "    print(\"30대입니다.\")"
   ]
  },
  {
   "cell_type": "code",
   "execution_count": 26,
   "id": "4f5cd720-686c-4897-ba6d-bdfcfae1dfb9",
   "metadata": {},
   "outputs": [
    {
     "name": "stdout",
     "output_type": "stream",
     "text": [
      "30대입니다.\n"
     ]
    }
   ],
   "source": [
    "# if와 elif를 활용한 분기\n",
    "age = 37\n",
    "\n",
    "# 20대라면 20대입니다.라고 출력\n",
    "if 20 <= age < 30: # False\n",
    "    print(\"20대입니다.\")\n",
    "# 30대라면 30대입니다.라고 출력\n",
    "elif 30 <= age < 40: # True\n",
    "    print(\"30대입니다.\")"
   ]
  },
  {
   "cell_type": "code",
   "execution_count": 28,
   "id": "f1aeca2d-7ea1-4b87-b06e-32ac8e94ac5f",
   "metadata": {},
   "outputs": [
    {
     "name": "stdout",
     "output_type": "stream",
     "text": [
      "20대입니다.\n"
     ]
    }
   ],
   "source": [
    "# if와 elif를 활용한 분기\n",
    "age = 27\n",
    "\n",
    "# 20대라면 20대입니다.라고 출력\n",
    "if 20 <= age < 30: # True\n",
    "    print(\"20대입니다.\")\n",
    "# 30대라면 30대입니다.라고 출력\n",
    "elif 0 <= age < 40: # 조건에 대애서 따졌을 때는 True이지만 실행되지 않습니다.\n",
    "    print(\"30대입니다.\")"
   ]
  },
  {
   "cell_type": "code",
   "execution_count": 30,
   "id": "eb710b2e-0429-415d-90cf-d4e1c9a9e203",
   "metadata": {},
   "outputs": [
    {
     "name": "stdout",
     "output_type": "stream",
     "text": [
      "20대입니다.\n"
     ]
    }
   ],
   "source": [
    "# if와 elif를 활용한 분기\n",
    "age = 27\n",
    "\n",
    "# 30대라면 30대입니다.라고 출력\n",
    "if 30 <= age < 40: # True\n",
    "    print(\"30대입니다.\")\n",
    "# 20대라면 20대입니다.라고 출력\n",
    "elif 20 <= age < 30: # False\n",
    "    print(\"20대입니다.\")"
   ]
  },
  {
   "cell_type": "code",
   "execution_count": 32,
   "id": "4db0510c-7611-43c2-8048-6ce183a2d00b",
   "metadata": {},
   "outputs": [
    {
     "name": "stdout",
     "output_type": "stream",
     "text": [
      "2의 배수입니다.\n"
     ]
    }
   ],
   "source": [
    "# 2의 배수와 3의 배수인지 조건으르 따지는 분기문 작성\n",
    "some_number = 6\n",
    "\n",
    "# 2의 배수를 먼저 체크\n",
    "if some_number % 2 == 0:\n",
    "    print(\"2의 배수입니다.\")\n",
    "elif some_number % 3 == 0:\n",
    "    print(\"3의 배수입니다.\")"
   ]
  },
  {
   "cell_type": "code",
   "execution_count": 34,
   "id": "de8f7c9f-b5c2-4bc2-ad01-5f9b3c92a5fc",
   "metadata": {},
   "outputs": [
    {
     "name": "stdout",
     "output_type": "stream",
     "text": [
      "3의 배수입니다.\n"
     ]
    }
   ],
   "source": [
    "# 2의 배수와 3의 배수인지 조건으르 따지는 분기문 작성\n",
    "some_number = 6\n",
    "\n",
    "# 3의 배수를 먼저 체크\n",
    "if some_number % 3 == 0:\n",
    "    print(\"3의 배수입니다.\")\n",
    "elif some_number % 2 == 0:\n",
    "    print(\"2의 배수입니다.\")"
   ]
  },
  {
   "cell_type": "code",
   "execution_count": 36,
   "id": "8dea176e-8d90-431e-b1fb-78ed3e8f92ff",
   "metadata": {},
   "outputs": [
    {
     "name": "stdout",
     "output_type": "stream",
     "text": [
      "불혹을 넘기셨습니다.\n"
     ]
    }
   ],
   "source": [
    "# if와 elif를 활용한 분기\n",
    "age = 40\n",
    "\n",
    "# 30대라면 30대입니다.라고 출력\n",
    "if 30 <= age < 40: # False\n",
    "    print(\"30대입니다.\")\n",
    "# 20대라면 20대입니다.라고 출력\n",
    "elif 20 <= age < 30: # False\n",
    "    print(\"20대입니다.\")\n",
    "elif 0 <= age < 20: # False\n",
    "    print(\"미성년자입니다.\")\n",
    "else: # 40 이상일 때\n",
    "    print(\"불혹을 넘기셨습니다.\")"
   ]
  },
  {
   "cell_type": "code",
   "execution_count": 38,
   "id": "6d6aae25-3532-47c5-b5b1-b6d50dc5ade2",
   "metadata": {},
   "outputs": [
    {
     "name": "stdout",
     "output_type": "stream",
     "text": [
      "성적을 알려드립니다.\n",
      "A\n"
     ]
    }
   ],
   "source": [
    "score = 90\n",
    "\n",
    "print(\"성적을 알려드립니다.\")\n",
    "\n",
    "if score >= 90:\n",
    "    print(\"A\")\n",
    "elif 80 <= score < 90:\n",
    "    print(\"B\")\n",
    "elif 70 <= score < 80:\n",
    "    print(\"C\")\n",
    "elif 60 <= score < 70:\n",
    "    print(\"D\")\n",
    "else:\n",
    "    print(\"F\")"
   ]
  },
  {
   "cell_type": "code",
   "execution_count": 42,
   "id": "a63b5642-5af8-4145-b30b-d06f8c1486b5",
   "metadata": {},
   "outputs": [
    {
     "name": "stdout",
     "output_type": "stream",
     "text": [
      "성적을 알려드립니다.\n",
      "D\n"
     ]
    }
   ],
   "source": [
    "score = 65\n",
    "\n",
    "print(\"성적을 알려드립니다.\")\n",
    "\n",
    "if score >= 90: # False\n",
    "    print(\"A\")\n",
    "elif 80 <= score: # False\n",
    "    print(\"B\")\n",
    "elif 70 <= score: # False\n",
    "    print(\"C\")\n",
    "elif 60 <= score: # True\n",
    "    print(\"D\")\n",
    "else: # 실행되지 않는다\n",
    "    print(\"F\")"
   ]
  },
  {
   "cell_type": "code",
   "execution_count": null,
   "id": "5223324f-85f0-4c18-8c04-9d65ddfe9c63",
   "metadata": {},
   "outputs": [],
   "source": []
  }
 ],
 "metadata": {
  "kernelspec": {
   "display_name": "Python 3 (ipykernel)",
   "language": "python",
   "name": "python3"
  },
  "language_info": {
   "codemirror_mode": {
    "name": "ipython",
    "version": 3
   },
   "file_extension": ".py",
   "mimetype": "text/x-python",
   "name": "python",
   "nbconvert_exporter": "python",
   "pygments_lexer": "ipython3",
   "version": "3.12.4"
  }
 },
 "nbformat": 4,
 "nbformat_minor": 5
}
