{
 "cells": [
  {
   "cell_type": "code",
   "execution_count": 5,
   "id": "f0f993f9-8540-449e-a005-3597151442bd",
   "metadata": {},
   "outputs": [],
   "source": [
    "# dictionary: 비시퀀스 자료형\n",
    "# 순서가 없기 때문에 인덱스가 없다.\n",
    "# 시퀀스 자료형은 특정 값에 접근하기 위해서 인덱스를 활용\n",
    "# 비시퀀스 자료형 딕셔너리는 key:value로 쌍으로 이뤄지기 때문에\n",
    "# key를 통해서 value에 접근\n",
    "dic_var = {'key':'value'}"
   ]
  },
  {
   "cell_type": "code",
   "execution_count": 9,
   "id": "3920be16-7f50-4cc0-8b93-26f0537b3eb9",
   "metadata": {},
   "outputs": [
    {
     "name": "stdout",
     "output_type": "stream",
     "text": [
      "<class 'dict'>\n"
     ]
    }
   ],
   "source": [
    "print(type(dic_var))"
   ]
  },
  {
   "cell_type": "code",
   "execution_count": 13,
   "id": "a92f223d-92ee-4eba-887a-3222f45a3d2f",
   "metadata": {},
   "outputs": [
    {
     "name": "stdout",
     "output_type": "stream",
     "text": [
      "{'key': 'value'}\n"
     ]
    }
   ],
   "source": [
    "print(dic_var)"
   ]
  },
  {
   "cell_type": "code",
   "execution_count": 15,
   "id": "157bd80c-fdfb-4a31-996f-6a5f8650f7fd",
   "metadata": {},
   "outputs": [],
   "source": [
    "# key라는 값은 식별을 위한 것이기 때문에\n",
    "# 중복되는 값을 가질 수 없습니다.\n",
    "dic_var2 = {'one':'value', 'one':'last value'}"
   ]
  },
  {
   "cell_type": "code",
   "execution_count": 17,
   "id": "a62e7bf2-9c09-4b45-8b61-f94e4af11312",
   "metadata": {},
   "outputs": [
    {
     "name": "stdout",
     "output_type": "stream",
     "text": [
      "{'one': 'last value'}\n"
     ]
    }
   ],
   "source": [
    "print(dic_var2)"
   ]
  },
  {
   "cell_type": "code",
   "execution_count": 21,
   "id": "1a31bfae-39b0-44b1-9035-9082d02cd84d",
   "metadata": {},
   "outputs": [
    {
     "name": "stdout",
     "output_type": "stream",
     "text": [
      "{'key': 'value', 1: 'value4', 1.1: 'value3', ('key', 1, 1.1, True): 'value5'}\n"
     ]
    }
   ],
   "source": [
    "# key로 사용할 수 있는 자료형\n",
    "# 문자열, 정수, 실수, 불, 튜플\n",
    "# dictionary 안에서 key는 단 하나의 타입만을 써야 하는 것은 아니고\n",
    "# key 타입으로 여러가지를 가질 수 있다.\n",
    "dic_var3 = {\n",
    "    'key':'value', \n",
    "    1:'value2', \n",
    "    1.1:'value3',\n",
    "    True:'value4',\n",
    "    ('key', 1, 1.1, True):'value5'\n",
    "}\n",
    "print(dic_var3) # python에서는 1과 True는 같다. 0과 False도 동일"
   ]
  },
  {
   "cell_type": "code",
   "execution_count": 23,
   "id": "e77d6e1d-7a13-4dfc-9a36-37011b0a6a8e",
   "metadata": {},
   "outputs": [
    {
     "name": "stdout",
     "output_type": "stream",
     "text": [
      "{'key': 'value', 2: 2, 1.1: 1.1, True: False, ('key', 1, 1.1, True): ('key', 1, 1.1, True), 'list': [1, 1.1, True], 'dict': {'key': 'value'}, 'set': {'key', 'key2'}}\n"
     ]
    }
   ],
   "source": [
    "# value는 모든 자료형이 올 수 있다\n",
    "dic_var4 = {\n",
    "    'key':'value',\n",
    "    2:2,\n",
    "    1.1:1.1,\n",
    "    True:False,\n",
    "    ('key', 1, 1.1, True):('key', 1, 1.1, True),\n",
    "    'list':[1, 1.1, True],\n",
    "    'dict':{'key':'value'},\n",
    "    'set':{'key', 'key2'}\n",
    "}\n",
    "print(dic_var4)"
   ]
  },
  {
   "cell_type": "code",
   "execution_count": 27,
   "id": "b550144d-69f9-43a8-a6c8-3b5859c95a7d",
   "metadata": {},
   "outputs": [
    {
     "name": "stdout",
     "output_type": "stream",
     "text": [
      "dict_values(['value', 2, 1.1, False, ('key', 1, 1.1, True), [1, 1.1, True], {'key': 'value'}, {'key', 'key2'}])\n"
     ]
    }
   ],
   "source": [
    "print(dic_var4.values()) # value만"
   ]
  },
  {
   "cell_type": "code",
   "execution_count": 31,
   "id": "720d511d-7894-4424-8f36-407ad0aedf6f",
   "metadata": {},
   "outputs": [
    {
     "name": "stdout",
     "output_type": "stream",
     "text": [
      "[<class 'str'>, <class 'int'>, <class 'float'>, <class 'bool'>, <class 'tuple'>, <class 'list'>, <class 'dict'>, <class 'set'>]\n"
     ]
    }
   ],
   "source": [
    "print(list(map(type,dic_var4.values()))) # value의 type"
   ]
  },
  {
   "cell_type": "code",
   "execution_count": 33,
   "id": "fae49a91-2197-49bb-8a5a-7659861f7d52",
   "metadata": {},
   "outputs": [
    {
     "name": "stdout",
     "output_type": "stream",
     "text": [
      "<class 'dict'>\n"
     ]
    }
   ],
   "source": [
    "# 빈 dictionary는 {}, dict()라는 arguments가 없는 함수 호출을 통해서 생성할 수 있다.\n",
    "empty_dict = {}\n",
    "print(type(empty_dict))"
   ]
  },
  {
   "cell_type": "code",
   "execution_count": 35,
   "id": "e372b869-a24b-492b-adf9-938dc0f98bbb",
   "metadata": {},
   "outputs": [
    {
     "name": "stdout",
     "output_type": "stream",
     "text": [
      "<class 'dict'>\n"
     ]
    }
   ],
   "source": [
    "empty_dict = dict()\n",
    "print(type(empty_dict))"
   ]
  },
  {
   "cell_type": "code",
   "execution_count": 37,
   "id": "fa832720-1e71-4a03-a031-e48e48afec4b",
   "metadata": {},
   "outputs": [
    {
     "name": "stdout",
     "output_type": "stream",
     "text": [
      "<class 'dict'>\n",
      "{'one': 'value1', 'two': 'value2'}\n"
     ]
    }
   ],
   "source": [
    "# dictionary는 dict() 함수를 통해서 생성할 수 있다.\n",
    "# 이때 arguments라는 것은 표현에 제약이 존재하기 때문에\n",
    "# key 값이 문자열로만 존재하게 된다.\n",
    "dict_a = dict(one='value1', two='value2')\n",
    "print(type(dict_a))\n",
    "print(dict_a)"
   ]
  },
  {
   "cell_type": "code",
   "execution_count": 39,
   "id": "55d8e835-7e20-4e5d-bd80-a94e3557801f",
   "metadata": {},
   "outputs": [
    {
     "name": "stdout",
     "output_type": "stream",
     "text": [
      "{1: 'value1', 2: 'value2'}\n"
     ]
    }
   ],
   "source": [
    "# dict 함수의 key값은 변수명과 비슷하게 작용하기 때문에 숫자가 처음으로 올 수 없다.\n",
    "# dict_b = dict(1='value1', 2='value2')\n",
    "# 그래서 나온 대안\n",
    "# dict() 함수를 써서 key의 type을 str(문자열)이 아닌 값으로 할당하는 법\n",
    "dict_c = dict([[1, \"value1\"], [2, \"value2\"]])\n",
    "print(dict_c)"
   ]
  },
  {
   "cell_type": "code",
   "execution_count": 41,
   "id": "7e556f6c-42e0-4cb5-b649-5ea1a3611d52",
   "metadata": {},
   "outputs": [
    {
     "name": "stdout",
     "output_type": "stream",
     "text": [
      "{'key1': 'value1', 'key2': 'value2', 'key3': 'value3'}\n"
     ]
    }
   ],
   "source": [
    "# key의 값을 갖는 리스트\n",
    "# value의 값들을 갖는 리스트가 각각 별개로 존재할 때\n",
    "# zip() 함수에 이 각각의 리스트를 argumens로 넣어주면\n",
    "# 인덱스가 같은 요소들을 꺼내서 하나씩 쌍으로 튜플로 만들어 줍니다.\n",
    "# dict() 함수와 함께 사용하면 key의 리스트와 value의 리스트를\n",
    "# dictionary 자료형으로 만들 수 있다.\n",
    "keys = ['key1', 'key2', 'key3']\n",
    "values = ['value1', 'value2', 'value3']\n",
    "print(dict(zip(keys, values)))"
   ]
  },
  {
   "cell_type": "code",
   "execution_count": 43,
   "id": "0ee12c83-57c7-4cc6-95f7-36d350ad9f84",
   "metadata": {},
   "outputs": [
    {
     "name": "stdout",
     "output_type": "stream",
     "text": [
      "{'key1': 'value1', 'key2': 'value2', 'key3': 'value3'}\n"
     ]
    }
   ],
   "source": [
    "dict_d = dict(zip(keys, values))\n",
    "print(dict_d)"
   ]
  },
  {
   "cell_type": "code",
   "execution_count": 45,
   "id": "b77f5584-aef3-433f-85fa-acd9a4b2bca0",
   "metadata": {},
   "outputs": [
    {
     "name": "stdout",
     "output_type": "stream",
     "text": [
      "value2\n"
     ]
    }
   ],
   "source": [
    "print(dict_d['key2'])"
   ]
  },
  {
   "cell_type": "code",
   "execution_count": 47,
   "id": "834ee4cd-a83c-4c43-b16c-961e33f77a16",
   "metadata": {},
   "outputs": [
    {
     "name": "stdout",
     "output_type": "stream",
     "text": [
      "{'key1': 'value1', 'key2': 'value2', 'key3': 'value3', 'key': 'supervalue'}\n"
     ]
    }
   ],
   "source": [
    "dict_d['key'] = 'supervalue'\n",
    "print(dict_d)"
   ]
  },
  {
   "cell_type": "code",
   "execution_count": 49,
   "id": "5787fcb4-e687-49f8-8d9f-c131ddbd5cef",
   "metadata": {},
   "outputs": [
    {
     "name": "stdout",
     "output_type": "stream",
     "text": [
      "{'key1': 'supervalue', 'key2': 'value2', 'key3': 'value3', 'key': 'supervalue'}\n"
     ]
    }
   ],
   "source": [
    "dict_d['key1'] = 'supervalue'\n",
    "print(dict_d)"
   ]
  },
  {
   "cell_type": "code",
   "execution_count": 53,
   "id": "127d5a25-2581-4e3e-8e25-8dc4122d5a76",
   "metadata": {},
   "outputs": [
    {
     "name": "stdout",
     "output_type": "stream",
     "text": [
      "True\n"
     ]
    }
   ],
   "source": [
    "# dictionary 자료형에서 특정 key 값이 존재하는지 확인할 때 in\n",
    "print('key' in dict_d)"
   ]
  },
  {
   "cell_type": "code",
   "execution_count": 55,
   "id": "2fa8c8e5-f45d-4491-8df8-9137a01a578e",
   "metadata": {},
   "outputs": [
    {
     "name": "stdout",
     "output_type": "stream",
     "text": [
      "False\n"
     ]
    }
   ],
   "source": [
    "print('key456' in dict_d)"
   ]
  },
  {
   "cell_type": "code",
   "execution_count": 57,
   "id": "7db84e08-dc95-4c54-8d73-4c4d5e527845",
   "metadata": {},
   "outputs": [
    {
     "name": "stdout",
     "output_type": "stream",
     "text": [
      "dict_values(['supervalue', 'value2', 'value3', 'supervalue'])\n"
     ]
    }
   ],
   "source": [
    "# dictionary 자료형에서 특정 value 값이 존재하는지 확인할 때\n",
    "# dictionary values를 구해야 합니다.\n",
    "print(dict_d.values())"
   ]
  },
  {
   "cell_type": "code",
   "execution_count": 61,
   "id": "55101ae3-3b92-43af-bdab-4e45604182d4",
   "metadata": {},
   "outputs": [
    {
     "name": "stdout",
     "output_type": "stream",
     "text": [
      "True\n"
     ]
    }
   ],
   "source": [
    "print('supervalue' in dict_d.values())"
   ]
  },
  {
   "cell_type": "code",
   "execution_count": 63,
   "id": "36d4521f-a205-43a2-92e9-fa00db94c3ae",
   "metadata": {},
   "outputs": [
    {
     "name": "stdout",
     "output_type": "stream",
     "text": [
      "False\n"
     ]
    }
   ],
   "source": [
    "print('supervalues' in dict_d.values())"
   ]
  },
  {
   "cell_type": "code",
   "execution_count": 65,
   "id": "d350339c-0b5d-4e05-8d50-cd92dfe14c1e",
   "metadata": {},
   "outputs": [
    {
     "name": "stdout",
     "output_type": "stream",
     "text": [
      "{'key1': 'supervalue', 'key2': 'value2', 'key3': 'value3', 'key': 'supervalue'}\n"
     ]
    }
   ],
   "source": [
    "print(dict_d)"
   ]
  },
  {
   "cell_type": "code",
   "execution_count": 67,
   "id": "78920ded-21e4-41f3-a324-87da7b3ae9c3",
   "metadata": {},
   "outputs": [],
   "source": [
    "del dict_d['key']"
   ]
  },
  {
   "cell_type": "code",
   "execution_count": 69,
   "id": "a9d0c10f-35b3-4779-896b-bb7adfc954a1",
   "metadata": {},
   "outputs": [
    {
     "name": "stdout",
     "output_type": "stream",
     "text": [
      "{'key1': 'supervalue', 'key2': 'value2', 'key3': 'value3'}\n"
     ]
    }
   ],
   "source": [
    "print(dict_d)"
   ]
  },
  {
   "cell_type": "code",
   "execution_count": 71,
   "id": "9c3913d9-1631-40c1-9592-f7430b320d0e",
   "metadata": {},
   "outputs": [
    {
     "name": "stdout",
     "output_type": "stream",
     "text": [
      "3\n"
     ]
    }
   ],
   "source": [
    "# dictionary 자료형에서 element(요소)의 개수는 len()함수를 통해 구할 수 있습니다.\n",
    "# 이때 요소의 개수는 키의 개수이자 값의 개수이기도 합니다.\n",
    "# 왜냐하면 키와 값은 1:!로 매핑되기 때문입니다.\n",
    "print(len(dict_d))"
   ]
  },
  {
   "cell_type": "code",
   "execution_count": null,
   "id": "b4d0ab8c-4f26-4324-a802-0645b64fc50a",
   "metadata": {},
   "outputs": [],
   "source": []
  }
 ],
 "metadata": {
  "kernelspec": {
   "display_name": "Python 3 (ipykernel)",
   "language": "python",
   "name": "python3"
  },
  "language_info": {
   "codemirror_mode": {
    "name": "ipython",
    "version": 3
   },
   "file_extension": ".py",
   "mimetype": "text/x-python",
   "name": "python",
   "nbconvert_exporter": "python",
   "pygments_lexer": "ipython3",
   "version": "3.12.4"
  }
 },
 "nbformat": 4,
 "nbformat_minor": 5
}
