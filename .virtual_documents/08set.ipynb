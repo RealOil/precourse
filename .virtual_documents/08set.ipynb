# set 자료형은 비시퀀스이기 때문에 순서가 없다.
# 중괄호로 작성하는 것은 dictionary와 같다.
# 하지만, dictionary key:value의 쌍으로 이뤄진에 반해
# set은 key(value) 하나로만 구성을 합니다.
# 중복되는 요소 값을 갖지 않는다.
set_var = {'key1', 'key2',}


print(type(set_var))


print(set_var)


# 빈 세트는 set() 함수로만 작성할 수 있다.
var1 = {}
print(type(var1)) # 빈 중괄호는 딕셔너리가 생성된다.


var2 = set()
print(type(var2))


# set 자료형에 요소를 추가할 때는 add() 메소드를 사용한다.
print(var2)


var2.add(1)
print(var2)


var2.add(1)
print(var2)


var2.add(2)
print(var2) # 중복되는 값을 가질 수 없다.


# set 자료형에 요소를 삭제할 때는 remove() 메소드를 호출한다.
var2.remove(2)


print(var2)


var2.remove(2) # 없는 요소를 삭제하려 하면 remove() 메소드는 에러를 발생


var2.add(2)
print(var2)


var2.discard(2)
print(var2)


var2.discard(2) # discard() 메소드는 없는 값을 삭제하려해도 에러가 나지 않는다.


# set 생성
set_var2 = {0, 3, 6, 9, 12, 15, 18}
print(set_var2)


# pop() 메소드는 임의의 순서의 요소를 삭제 
set_var2.pop()


print(set_var2)


set_var2.pop()
print(set_var2)


set_var2.clear() # set 자료형 내에 요소를 모두 삭제한다.
print(set_var2)


len(set_var2)


set_var2.add(2)
len(set_var2) # 요소의 개수를 구한 때 len() 내장함수를 사용한다.


# set 자료형의 합집합(union)
a = {1, 2, 3, 4}
b = {2, 4, 5}
print(set.union(a, b))


print(a | b)


# set 자료형의 교집합(intersection)
print(set.intersection(a, b))


print(a & b)


# set 자료형의 차집합(difference)
print(set.difference(a, b))


print(a - b)


print(a.update(b))


print(a) # a라는 변수에 직접적인 결과의 대입이 이뤄진다


a |= b
print(a)


a.intersection_update(b)
print(a)


a &= b
print(a)


a.difference_update(b)
print(a)


a -= b
print(a)


a = {0, 1, 2}
b = {0, 1, 2}
a.issubset(b) # a가 b의 부분집합


b.issubset(a) # b가 a의 부분집합


a = {0, 1}
b = {0, 1, 2}


a.issubset(b)


b.issubset(a)


a.issuperset(b) # a가 b의 상위집합?


b.issuperset(a) # b가 a의 상위집합?


print(a)


print(b)


print(a == b)


a = {0, 1}
b = {0, 1}
print(a == b)


a = {0, 1, 2}
b = {3, 4, 5}
a.isdisjoint(b) # 두 set 자료형 간에 겹치지 않는가?


a = {0, 1, 2, 3}
a.isdisjoint(b)



