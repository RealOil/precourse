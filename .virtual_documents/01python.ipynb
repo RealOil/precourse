import sys
print(sys.version)


!dir



