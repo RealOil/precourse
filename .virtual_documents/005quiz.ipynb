class Person:
    def __init__(self, name, age):
        self.name = name
        self.age = age

# 여기에 인스턴스를 생성하고 속성을 출력하는 코드를 작성하세요.
yujin = Person("유진", 28)
print(f"제 이름은 {yujin.name}이고, 저는 {yujin.age}살입니다.")


class SoccerPlayer(object):
    def __init__(self, name, position, back_number):
        self.name = name
        self.position = position
        self.back_number = back_number
        
    def change_back_number(self, back_number):
        self.back_number = back_number  # 올바른 변수명으로 수정
       
jinhyun = SoccerPlayer("jinhyun", "MF", 10)
print("현재 선수의 등번호는:", jinhyun.back_number)
jinhyun.change_back_number(5)
print("현재 선수의 등번호는:", jinhyun.back_number)


class Car:
    def __init__(self, brand, model):
        self.brand = brand
        self.model = model
    def display_info(self):
        return f"This car is a {self.brand} {self.model}."
   
# 여기에 코드를 작성하여 실행 결과를 맞춰보세요.

car1 = Car("Toyota", "Camry")
print(car1.display_info())

car2 = Car("Hyundai", "Sonata")
print(car2.display_info())


class Circle:
    def __init__(self, radius):
        self.radius = radius
     
    def area(self):
        return 3.14 * self.radius ** 2
    
# 여기에 코드를 작성하여 실행 결과를 맞춰보세요.

circle1 = Circle(5)
print(f"원의 반지름: {circle1.radius}, 뭔의 면적: {circle1.area()}")

circle2 = Circle(7)
print(f"원의 반지름: {circle2.radius}, 원의 면적: {circle2.area()}")


%%writefile factorial_calculator.py
#factorial_calculator.py
def factorial(n):
    if n == 0:
        return 1
    else:
        return(n*factorial(n-1))


from factorial_calculator import factorial
print(factorial(6))

# 6*5*4*3*2*1



