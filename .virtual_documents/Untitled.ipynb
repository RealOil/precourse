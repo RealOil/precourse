# dictionary: 비시퀀스 자료형
# 순서가 없기 때문에 인덱스가 없다.
# 시퀀스 자료형은 특정 값에 접근하기 위해서 인덱스를 활용
# 비시퀀스 자료형 딕셔너리는 key:value로 쌍으로 이뤄지기 때문에
# key를 통해서 value에 접근
dic_var = {'key':'value'}


print(type(dic_var))


print(dic_var)


# key라는 값은 식별을 위한 것이기 때문에
# 중복되는 값을 가질 수 없습니다.
dic_var2 = {'one':'value', 'one':'last value'}


print(dic_var2)


# key로 사용할 수 있는 자료형
# 문자열, 정수, 실수, 불, 튜플
# dictionary 안에서 key는 단 하나의 타입만을 써야 하는 것은 아니고
# key 타입으로 여러가지를 가질 수 있다.
dic_var3 = {
    'key':'value', 
    1:'value2', 
    1.1:'value3',
    True:'value4',
    ('key', 1, 1.1, True):'value5'
}
print(dic_var3) # python에서는 1과 True는 같다. 0과 False도 동일


# value는 모든 자료형이 올 수 있다
dic_var4 = {
    'key':'value',
    2:2,
    1.1:1.1,
    True:False,
    ('key', 1, 1.1, True):('key', 1, 1.1, True),
    'list':[1, 1.1, True],
    'dict':{'key':'value'},
    'set':{'key', 'key2'}
}
print(dic_var4)


print(dic_var4.values()) # value만


print(list(map(type,dic_var4.values()))) # value의 type


# 빈 dictionary는 {}, dict()라는 arguments가 없는 함수 호출을 통해서 생성할 수 있다.
empty_dict = {}
print(type(empty_dict))


empty_dict = dict()
print(type(empty_dict))


# dictionary는 dict() 함수를 통해서 생성할 수 있다.
# 이때 arguments라는 것은 표현에 제약이 존재하기 때문에
# key 값이 문자열로만 존재하게 된다.
dict_a = dict(one='value1', two='value2')
print(type(dict_a))
print(dict_a)


# dict 함수의 key값은 변수명과 비슷하게 작용하기 때문에 숫자가 처음으로 올 수 없다.
# dict_b = dict(1='value1', 2='value2')
# 그래서 나온 대안
# dict() 함수를 써서 key의 type을 str(문자열)이 아닌 값으로 할당하는 법
dict_c = dict([[1, "value1"], [2, "value2"]])
print(dict_c)


# key의 값을 갖는 리스트
# value의 값들을 갖는 리스트가 각각 별개로 존재할 때
# zip() 함수에 이 각각의 리스트를 argumens로 넣어주면
# 인덱스가 같은 요소들을 꺼내서 하나씩 쌍으로 튜플로 만들어 줍니다.
# dict() 함수와 함께 사용하면 key의 리스트와 value의 리스트를
# dictionary 자료형으로 만들 수 있다.
keys = ['key1', 'key2', 'key3']
values = ['value1', 'value2', 'value3']
print(dict(zip(keys, values)))


dict_d = dict(zip(keys, values))
print(dict_d)


print(dict_d['key2'])


dict_d['key'] = 'supervalue'
print(dict_d)


dict_d['key1'] = 'supervalue'
print(dict_d)


# dictionary 자료형에서 특정 key 값이 존재하는지 확인할 때 in
print('key' in dict_d)


print('key456' in dict_d)


# dictionary 자료형에서 특정 value 값이 존재하는지 확인할 때
# dictionary values를 구해야 합니다.
print(dict_d.values())


print('supervalue' in dict_d.values())


print('supervalues' in dict_d.values())


print(dict_d)


del dict_d['key']


print(dict_d)


# dictionary 자료형에서 element(요소)의 개수는 len()함수를 통해 구할 수 있습니다.
# 이때 요소의 개수는 키의 개수이자 값의 개수이기도 합니다.
# 왜냐하면 키와 값은 1:!로 매핑되기 때문입니다.
print(len(dict_d))



