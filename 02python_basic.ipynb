{
 "cells": [
  {
   "cell_type": "code",
   "execution_count": null,
   "id": "bfc4c026-ada0-49bc-be5b-6b3d8287e3c9",
   "metadata": {},
   "outputs": [],
   "source": [
    "# Command mode 단축키\n",
    "# esc : command mode로\n",
    "# A: 현재 cell 위에 새로운 cell\n",
    "# B: 현재 cell 밑에 새로운 cell\n",
    "# D + D: 현재 cell 삭제 \n",
    "# M: Markdown셀로 변환\n",
    "# Y: Code셀로 변환\n",
    "# R: Raw셀로 변환\n",
    "# Ctrl + B: 파일탐색기를 숨기거나 보이게 제어\n",
    "# Shift + M: 두 개의 셀을 한 개의 셀로 Merge\n",
    "# Shift + 아래: 현재 셀에서 아래쪽 위치로 새로운 셀 같이 선택\n",
    "# Shift + 위: 현재 셀에서 위쪽 위치로 새로운 셀 같이 선택"
   ]
  },
  {
   "cell_type": "code",
   "execution_count": null,
   "id": "0b765c11-1864-4b53-b55b-3af9f6faa6c4",
   "metadata": {},
   "outputs": [],
   "source": [
    "# Edit mode 단축키\n",
    "# Ctrl + /: 선택한 코드를 주석처리\n",
    "# Ctrl + Shift + -: 현재 커서 위치를 기준으로 두 개의 셀로 구분\n",
    "# Ctrl + D: 한 줄 삭제"
   ]
  },
  {
   "cell_type": "code",
   "execution_count": null,
   "id": "2e034b99-eecc-4020-ab58-1f864c55a88f",
   "metadata": {},
   "outputs": [],
   "source": [
    "# Code Cell이면서 Command, Edit mode일 때\n",
    "# Ctrl + Enter: 해당 셀을 실행\n",
    "# Shift + Enter: 해당 셀을 실행하고 아래에 새로운 셀을 생성"
   ]
  },
  {
   "cell_type": "code",
   "execution_count": 7,
   "id": "605d6fa8-9785-4ae6-9e45-3d6b23d35367",
   "metadata": {},
   "outputs": [
    {
     "name": "stdout",
     "output_type": "stream",
     "text": [
      "Hello world\n"
     ]
    }
   ],
   "source": [
    "print(\"Hello world\")"
   ]
  },
  {
   "cell_type": "code",
   "execution_count": 11,
   "id": "102f7e55-558c-422f-81c8-5c00f6ad1e2d",
   "metadata": {},
   "outputs": [
    {
     "name": "stdout",
     "output_type": "stream",
     "text": [
      "Hello world\n"
     ]
    }
   ],
   "source": [
    "# 주석 사용하기\n",
    "print(\"Hello world\") # print(\"주석입니다.)\""
   ]
  },
  {
   "cell_type": "code",
   "execution_count": 13,
   "id": "eef39d11-e3c7-4a46-8bfe-489f4b549b91",
   "metadata": {},
   "outputs": [
    {
     "name": "stdout",
     "output_type": "stream",
     "text": [
      "# 이것은 주석일까요?\n"
     ]
    }
   ],
   "source": [
    "print(\"# 이것은 주석일까요?\")"
   ]
  },
  {
   "cell_type": "code",
   "execution_count": 15,
   "id": "f9996936-06a1-4feb-a9b3-d917fc49e8d6",
   "metadata": {},
   "outputs": [
    {
     "name": "stdout",
     "output_type": "stream",
     "text": [
      "1\n"
     ]
    }
   ],
   "source": [
    "x = 1\n",
    "# 변수(x) 대입 연산자(=) 리터럴(1)\n",
    "print(x)"
   ]
  },
  {
   "cell_type": "code",
   "execution_count": null,
   "id": "b1f8a020-dba8-42fa-91d2-9b116e09d100",
   "metadata": {},
   "outputs": [],
   "source": [
    "x = \"Hello world\"`"
   ]
  },
  {
   "cell_type": "code",
   "execution_count": 23,
   "id": "d516a5eb-9fc9-4297-89ad-5d38003e0a85",
   "metadata": {},
   "outputs": [
    {
     "name": "stdout",
     "output_type": "stream",
     "text": [
      "1\n"
     ]
    }
   ],
   "source": [
    "print(x)"
   ]
  },
  {
   "cell_type": "code",
   "execution_count": 39,
   "id": "ab460756-1a0f-4455-8cc4-023b92e9eb7c",
   "metadata": {},
   "outputs": [
    {
     "data": {
      "text/plain": [
       "4"
      ]
     },
     "execution_count": 39,
     "metadata": {},
     "output_type": "execute_result"
    }
   ],
   "source": [
    "2 + 2 # 덧셈 정수"
   ]
  },
  {
   "cell_type": "code",
   "execution_count": 41,
   "id": "6e83cefb-7ede-4e05-a32d-7895e89b69c3",
   "metadata": {},
   "outputs": [
    {
     "data": {
      "text/plain": [
       "3"
      ]
     },
     "execution_count": 41,
     "metadata": {},
     "output_type": "execute_result"
    }
   ],
   "source": [
    "4 - 1 # 뺄셈 정수"
   ]
  },
  {
   "cell_type": "code",
   "execution_count": 43,
   "id": "37d5c4f2-4702-4e7c-a3ec-5c6b9d37e4b3",
   "metadata": {},
   "outputs": [
    {
     "data": {
      "text/plain": [
       "6"
      ]
     },
     "execution_count": 43,
     "metadata": {},
     "output_type": "execute_result"
    }
   ],
   "source": [
    "3 * 2 # 곱셈 정수"
   ]
  },
  {
   "cell_type": "code",
   "execution_count": 47,
   "id": "165bae22-0463-49ce-9301-43222aa133e8",
   "metadata": {},
   "outputs": [
    {
     "data": {
      "text/plain": [
       "2.5"
      ]
     },
     "execution_count": 47,
     "metadata": {},
     "output_type": "execute_result"
    }
   ],
   "source": [
    "5 / 2 # 나눗셈 항상 실수"
   ]
  },
  {
   "cell_type": "code",
   "execution_count": 49,
   "id": "4940365a-1fff-434f-97c6-e6afd6542bd8",
   "metadata": {},
   "outputs": [
    {
     "data": {
      "text/plain": [
       "3"
      ]
     },
     "execution_count": 49,
     "metadata": {},
     "output_type": "execute_result"
    }
   ],
   "source": [
    "7 // 2 # 몫 구하기 정수"
   ]
  },
  {
   "cell_type": "code",
   "execution_count": 51,
   "id": "caa37504-ecf8-46e6-9dbf-6ff2e06cd16c",
   "metadata": {},
   "outputs": [
    {
     "data": {
      "text/plain": [
       "1"
      ]
     },
     "execution_count": 51,
     "metadata": {},
     "output_type": "execute_result"
    }
   ],
   "source": [
    "3 % 2 # 나머지 구하기 정수"
   ]
  },
  {
   "cell_type": "code",
   "execution_count": 53,
   "id": "1dc09c97-2204-448f-a26a-d047d0bd558f",
   "metadata": {},
   "outputs": [
    {
     "data": {
      "text/plain": [
       "128"
      ]
     },
     "execution_count": 53,
     "metadata": {},
     "output_type": "execute_result"
    }
   ],
   "source": [
    "2 ** 7 # 거듭제곱 정수"
   ]
  },
  {
   "cell_type": "code",
   "execution_count": 55,
   "id": "cb7b648c-cb98-43ff-8b9e-7d22b1b81229",
   "metadata": {},
   "outputs": [
    {
     "data": {
      "text/plain": [
       "1.7320508075688772"
      ]
     },
     "execution_count": 55,
     "metadata": {},
     "output_type": "execute_result"
    }
   ],
   "source": [
    "3 ** (1/2) # 제곱근 실수"
   ]
  },
  {
   "cell_type": "code",
   "execution_count": 59,
   "id": "a228f4b4-b484-418f-a448-68372a828b59",
   "metadata": {},
   "outputs": [
    {
     "data": {
      "text/plain": [
       "3"
      ]
     },
     "execution_count": 59,
     "metadata": {},
     "output_type": "execute_result"
    }
   ],
   "source": [
    "# 정수: int\n",
    "# 실수: float\n",
    "# 복소수 complex: 실수 + 허수j로 표현\n",
    "    # 실수 접근: 복소수.real\n",
    "    # 허수 접근: 복소수.imag\n",
    "\n",
    "int(3.3)"
   ]
  },
  {
   "cell_type": "code",
   "execution_count": 61,
   "id": "572c8581-e604-45e3-b3db-dc6695bd4a04",
   "metadata": {},
   "outputs": [
    {
     "data": {
      "text/plain": [
       "2"
      ]
     },
     "execution_count": 61,
     "metadata": {},
     "output_type": "execute_result"
    }
   ],
   "source": [
    "int(5/2)"
   ]
  },
  {
   "cell_type": "code",
   "execution_count": 63,
   "id": "5b696910-1adf-4e2f-8839-95c7a9866e2f",
   "metadata": {},
   "outputs": [
    {
     "data": {
      "text/plain": [
       "104"
      ]
     },
     "execution_count": 63,
     "metadata": {},
     "output_type": "execute_result"
    }
   ],
   "source": [
    "int('104')"
   ]
  },
  {
   "cell_type": "code",
   "execution_count": 65,
   "id": "ef6cc10b-911d-42db-9852-029fe1735a0a",
   "metadata": {},
   "outputs": [
    {
     "data": {
      "text/plain": [
       "3.0"
      ]
     },
     "execution_count": 65,
     "metadata": {},
     "output_type": "execute_result"
    }
   ],
   "source": [
    "float(3)"
   ]
  },
  {
   "cell_type": "code",
   "execution_count": 67,
   "id": "eb04747d-3f4c-4711-994e-297a98d74c13",
   "metadata": {},
   "outputs": [
    {
     "data": {
      "text/plain": [
       "16.0"
      ]
     },
     "execution_count": 67,
     "metadata": {},
     "output_type": "execute_result"
    }
   ],
   "source": [
    "float(4 * 4)"
   ]
  },
  {
   "cell_type": "code",
   "execution_count": 69,
   "id": "96e9be50-93aa-49a0-b82c-8517db358680",
   "metadata": {},
   "outputs": [
    {
     "data": {
      "text/plain": [
       "3.14"
      ]
     },
     "execution_count": 69,
     "metadata": {},
     "output_type": "execute_result"
    }
   ],
   "source": [
    "float('3.14')"
   ]
  },
  {
   "cell_type": "code",
   "execution_count": 73,
   "id": "9ac9e827-4e43-4dac-816b-d246b713a10d",
   "metadata": {},
   "outputs": [
    {
     "data": {
      "text/plain": [
       "123450.0"
      ]
     },
     "execution_count": 73,
     "metadata": {},
     "output_type": "execute_result"
    }
   ],
   "source": [
    "# 지수 표기(Exponential Notattion)\n",
    "1.2345e5 # 1.2345 * 10^5"
   ]
  },
  {
   "cell_type": "code",
   "execution_count": 75,
   "id": "b09b417b-0844-4adf-81d7-2a64d34e1ff4",
   "metadata": {},
   "outputs": [
    {
     "data": {
      "text/plain": [
       "1.2345"
      ]
     },
     "execution_count": 75,
     "metadata": {},
     "output_type": "execute_result"
    }
   ],
   "source": [
    "1234.5e-3 # 1234.5 * 10^-3"
   ]
  },
  {
   "cell_type": "code",
   "execution_count": 101,
   "id": "e3063731-e2e7-49d9-b888-1b7242a1f0f9",
   "metadata": {},
   "outputs": [
    {
     "data": {
      "text/plain": [
       "17"
      ]
     },
     "execution_count": 101,
     "metadata": {},
     "output_type": "execute_result"
    }
   ],
   "source": [
    "# 2진수 표기 -> 숫자 0과 알파벳 b\n",
    "0b10001 # 2^4 + 1 = 16 + 1 = 17\n",
    "        # 이진수 -> 십진수"
   ]
  },
  {
   "cell_type": "code",
   "execution_count": 103,
   "id": "385d2a07-6854-4e9e-aef1-52c5628e90fd",
   "metadata": {},
   "outputs": [
    {
     "data": {
      "text/plain": [
       "'0b10001'"
      ]
     },
     "execution_count": 103,
     "metadata": {},
     "output_type": "execute_result"
    }
   ],
   "source": [
    "bin(17) # 십진수 -> 이진수"
   ]
  },
  {
   "cell_type": "code",
   "execution_count": 105,
   "id": "82615f7b-dfde-45f6-9d2a-6b699adb3aae",
   "metadata": {},
   "outputs": [
    {
     "data": {
      "text/plain": [
       "17"
      ]
     },
     "execution_count": 105,
     "metadata": {},
     "output_type": "execute_result"
    }
   ],
   "source": [
    "# 8진수 표기 -> 숫자 0과 알파벳 o\n",
    "0o21 # 2*8 + 1 = 16 + 1\n",
    "     # 8진수 -> 십진수"
   ]
  },
  {
   "cell_type": "code",
   "execution_count": 107,
   "id": "c083b8ce-58f2-4a07-8594-81c3200d6530",
   "metadata": {},
   "outputs": [
    {
     "data": {
      "text/plain": [
       "'0o21'"
      ]
     },
     "execution_count": 107,
     "metadata": {},
     "output_type": "execute_result"
    }
   ],
   "source": [
    "oct(17) # 십진수 -> 8진수"
   ]
  },
  {
   "cell_type": "code",
   "execution_count": 109,
   "id": "883a4b86-f65d-4cb2-8785-80595cffe634",
   "metadata": {},
   "outputs": [
    {
     "data": {
      "text/plain": [
       "31"
      ]
     },
     "execution_count": 109,
     "metadata": {},
     "output_type": "execute_result"
    }
   ],
   "source": [
    "# 16진수 표기 -> 숫자 0과 알파벳 x\n",
    "# 0 1 2 3 4 5 6 7 8 9 a  b  c  d  e  f\n",
    "# 0 1 2 3 4 5 6 7 8 9 10 11 12 13 14 15\n",
    "0x1f # 1*16 + 15\n",
    "     # 16진수 -> 십진수"
   ]
  },
  {
   "cell_type": "code",
   "execution_count": 111,
   "id": "61ad223e-29b5-4324-8b16-74867d503ef7",
   "metadata": {},
   "outputs": [
    {
     "data": {
      "text/plain": [
       "'0x1f'"
      ]
     },
     "execution_count": 111,
     "metadata": {},
     "output_type": "execute_result"
    }
   ],
   "source": [
    "hex(31) # 십진수 -> 16진수"
   ]
  },
  {
   "cell_type": "code",
   "execution_count": 2,
   "id": "547ae3a0-2183-490c-98c8-3c8e8bc67adf",
   "metadata": {},
   "outputs": [
    {
     "data": {
      "text/plain": [
       "True"
      ]
     },
     "execution_count": 2,
     "metadata": {},
     "output_type": "execute_result"
    }
   ],
   "source": [
    "# bool type의 값은 대소문자를 정확히 구분해야 합니다.\n",
    "True"
   ]
  },
  {
   "cell_type": "code",
   "execution_count": 6,
   "id": "9dd27ec7-d662-48a1-80e3-cd062e419bcf",
   "metadata": {},
   "outputs": [
    {
     "data": {
      "text/plain": [
       "False"
      ]
     },
     "execution_count": 6,
     "metadata": {},
     "output_type": "execute_result"
    }
   ],
   "source": [
    "False"
   ]
  },
  {
   "cell_type": "code",
   "execution_count": 16,
   "id": "7f229421-ad07-448d-bb5e-d244d419a49c",
   "metadata": {},
   "outputs": [
    {
     "data": {
      "text/plain": [
       "True"
      ]
     },
     "execution_count": 16,
     "metadata": {},
     "output_type": "execute_result"
    }
   ],
   "source": [
    "True and True # 논리곱"
   ]
  },
  {
   "cell_type": "code",
   "execution_count": 18,
   "id": "2fa266e7-fea7-4444-a27c-8580454112c4",
   "metadata": {},
   "outputs": [
    {
     "data": {
      "text/plain": [
       "False"
      ]
     },
     "execution_count": 18,
     "metadata": {},
     "output_type": "execute_result"
    }
   ],
   "source": [
    "True and False # 논리곱"
   ]
  },
  {
   "cell_type": "code",
   "execution_count": 20,
   "id": "de70a864-b94e-49d4-a5f8-489def20666e",
   "metadata": {},
   "outputs": [
    {
     "data": {
      "text/plain": [
       "False"
      ]
     },
     "execution_count": 20,
     "metadata": {},
     "output_type": "execute_result"
    }
   ],
   "source": [
    "False and True # 논리곱"
   ]
  },
  {
   "cell_type": "code",
   "execution_count": 22,
   "id": "28704978-7f7c-4e82-9f07-1c86238a7e62",
   "metadata": {},
   "outputs": [
    {
     "data": {
      "text/plain": [
       "False"
      ]
     },
     "execution_count": 22,
     "metadata": {},
     "output_type": "execute_result"
    }
   ],
   "source": [
    "False and False # 논리곱"
   ]
  },
  {
   "cell_type": "code",
   "execution_count": 48,
   "id": "eb90dc0c-6641-418d-8349-cad835c763d9",
   "metadata": {},
   "outputs": [
    {
     "data": {
      "text/plain": [
       "True"
      ]
     },
     "execution_count": 48,
     "metadata": {},
     "output_type": "execute_result"
    }
   ],
   "source": [
    "True or True # 논리합"
   ]
  },
  {
   "cell_type": "code",
   "execution_count": 50,
   "id": "1c3f0c46-dabf-4602-9349-4f9f0c45074b",
   "metadata": {},
   "outputs": [
    {
     "data": {
      "text/plain": [
       "True"
      ]
     },
     "execution_count": 50,
     "metadata": {},
     "output_type": "execute_result"
    }
   ],
   "source": [
    "True or False # 논리합"
   ]
  },
  {
   "cell_type": "code",
   "execution_count": 52,
   "id": "6542065c-d45e-4925-8635-6629fe260b40",
   "metadata": {},
   "outputs": [
    {
     "data": {
      "text/plain": [
       "True"
      ]
     },
     "execution_count": 52,
     "metadata": {},
     "output_type": "execute_result"
    }
   ],
   "source": [
    "False or True # 논리합"
   ]
  },
  {
   "cell_type": "code",
   "execution_count": 54,
   "id": "07c40175-91e0-4aaa-b15f-e702a17ba74d",
   "metadata": {},
   "outputs": [
    {
     "data": {
      "text/plain": [
       "False"
      ]
     },
     "execution_count": 54,
     "metadata": {},
     "output_type": "execute_result"
    }
   ],
   "source": [
    "False or False # 논리합"
   ]
  },
  {
   "cell_type": "code",
   "execution_count": 56,
   "id": "c7978345-979b-435d-a108-1919de109f5a",
   "metadata": {},
   "outputs": [
    {
     "data": {
      "text/plain": [
       "False"
      ]
     },
     "execution_count": 56,
     "metadata": {},
     "output_type": "execute_result"
    }
   ],
   "source": [
    "not True # 논리 부정"
   ]
  },
  {
   "cell_type": "code",
   "execution_count": 58,
   "id": "74d28800-fd38-46e9-9541-a871b775a1c3",
   "metadata": {},
   "outputs": [
    {
     "data": {
      "text/plain": [
       "True"
      ]
     },
     "execution_count": 58,
     "metadata": {},
     "output_type": "execute_result"
    }
   ],
   "source": [
    "not False # 논리 부정"
   ]
  },
  {
   "cell_type": "code",
   "execution_count": 36,
   "id": "f5a50f7f-4ca6-4ad5-a763-c27d10e9f103",
   "metadata": {},
   "outputs": [
    {
     "data": {
      "text/plain": [
       "True"
      ]
     },
     "execution_count": 36,
     "metadata": {},
     "output_type": "execute_result"
    }
   ],
   "source": [
    "# 비교 연선자\n",
    "2 == 2"
   ]
  },
  {
   "cell_type": "code",
   "execution_count": 38,
   "id": "ccd39c28-6b1e-4038-a3f6-391a6827df17",
   "metadata": {},
   "outputs": [
    {
     "data": {
      "text/plain": [
       "False"
      ]
     },
     "execution_count": 38,
     "metadata": {},
     "output_type": "execute_result"
    }
   ],
   "source": [
    "3 == 2"
   ]
  },
  {
   "cell_type": "code",
   "execution_count": 40,
   "id": "06ec52de-fc0c-4cdc-9416-5cc847726ba9",
   "metadata": {},
   "outputs": [
    {
     "data": {
      "text/plain": [
       "True"
      ]
     },
     "execution_count": 40,
     "metadata": {},
     "output_type": "execute_result"
    }
   ],
   "source": [
    "3 != 2"
   ]
  },
  {
   "cell_type": "code",
   "execution_count": 42,
   "id": "c32f4084-6128-4511-9ecc-0980656318cb",
   "metadata": {},
   "outputs": [
    {
     "data": {
      "text/plain": [
       "True"
      ]
     },
     "execution_count": 42,
     "metadata": {},
     "output_type": "execute_result"
    }
   ],
   "source": [
    "3 > 2"
   ]
  },
  {
   "cell_type": "code",
   "execution_count": 44,
   "id": "58481969-54f2-433d-ad7f-8ca47d6322a4",
   "metadata": {},
   "outputs": [
    {
     "data": {
      "text/plain": [
       "True"
      ]
     },
     "execution_count": 44,
     "metadata": {},
     "output_type": "execute_result"
    }
   ],
   "source": [
    "2 >= 2"
   ]
  },
  {
   "cell_type": "code",
   "execution_count": 46,
   "id": "9da0047d-1857-4713-a1c3-83218d87dc39",
   "metadata": {},
   "outputs": [
    {
     "data": {
      "text/plain": [
       "True"
      ]
     },
     "execution_count": 46,
     "metadata": {},
     "output_type": "execute_result"
    }
   ],
   "source": [
    "5 <= 5"
   ]
  },
  {
   "cell_type": "code",
   "execution_count": null,
   "id": "22094f06-9f6a-40a4-a3ed-ed72cad56b27",
   "metadata": {},
   "outputs": [],
   "source": []
  }
 ],
 "metadata": {
  "kernelspec": {
   "display_name": "Python 3 (ipykernel)",
   "language": "python",
   "name": "python3"
  },
  "language_info": {
   "codemirror_mode": {
    "name": "ipython",
    "version": 3
   },
   "file_extension": ".py",
   "mimetype": "text/x-python",
   "name": "python",
   "nbconvert_exporter": "python",
   "pygments_lexer": "ipython3",
   "version": "3.12.4"
  }
 },
 "nbformat": 4,
 "nbformat_minor": 5
}
