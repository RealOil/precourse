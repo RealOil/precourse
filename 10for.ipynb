{
 "cells": [
  {
   "cell_type": "code",
   "execution_count": 2,
   "id": "d6f41c3f-e945-410c-9a43-b8d20ae40060",
   "metadata": {},
   "outputs": [],
   "source": [
    "# for문\n",
    "# 반복문\n",
    "# 코드 블록을 요소의 개수만큼 반복 실행\n",
    "\n",
    "# 만약 Hello world라는 문자열을 1,000번 출력한다면 어떻게 작성할 것인가?\n",
    "# print(\"Hello world\")을 1,000번 붙일 것인가?"
   ]
  },
  {
   "cell_type": "code",
   "execution_count": 4,
   "id": "748620aa-198d-4b45-ae14-dcc843c6417d",
   "metadata": {},
   "outputs": [
    {
     "data": {
      "text/plain": [
       "range(0, 1000)"
      ]
     },
     "execution_count": 4,
     "metadata": {},
     "output_type": "execute_result"
    }
   ],
   "source": [
    "range(1000) # 0부터 1씩 증가하는 정수를 1000미만일 떄까지 만들어줍니다.\n",
    "# 즉, 이 range(숫자)는 숫자만큼 요소를 만들어줍니다."
   ]
  },
  {
   "cell_type": "code",
   "execution_count": 6,
   "id": "abcc789b-d438-409b-a80c-29d522b15852",
   "metadata": {},
   "outputs": [
    {
     "name": "stdout",
     "output_type": "stream",
     "text": [
      "Hello world\n",
      "Hello world\n",
      "Hello world\n",
      "Hello world\n",
      "Hello world\n",
      "Hello world\n",
      "Hello world\n",
      "Hello world\n",
      "Hello world\n",
      "Hello world\n"
     ]
    }
   ],
   "source": [
    "for variable in range(10): # variable은 0부터 999까지 숫자를 차례로 받아옵니다.\n",
    "    print(\"Hello world\")"
   ]
  },
  {
   "cell_type": "code",
   "execution_count": 13,
   "id": "cbafbf64-27b5-4efc-a118-100a3a62f9d0",
   "metadata": {},
   "outputs": [],
   "source": [
    "# range() 내장함수로 리스트를 만들기\n",
    "# range(시작=0, 끝, 증감=1)\n",
    "# range(1000) -> 0부터 1씩 증가하는 정수를 만든다, 끝 숫자보다 미만일 경우까지만 동작\n",
    "\n",
    "# 2부터 100 미만의 2씩 증가하는 숫자\n",
    "even_number = list(range(2, 100, 2))"
   ]
  },
  {
   "cell_type": "code",
   "execution_count": 17,
   "id": "150bcd93-1673-43e2-839d-255f3a90c0c3",
   "metadata": {},
   "outputs": [
    {
     "name": "stdout",
     "output_type": "stream",
     "text": [
      "[2, 4, 6, 8, 10, 12, 14, 16, 18, 20, 22, 24, 26, 28, 30, 32, 34, 36, 38, 40, 42, 44, 46, 48, 50, 52, 54, 56, 58, 60, 62, 64, 66, 68, 70, 72, 74, 76, 78, 80, 82, 84, 86, 88, 90, 92, 94, 96, 98]\n"
     ]
    }
   ],
   "source": [
    "print(even_number)"
   ]
  },
  {
   "cell_type": "code",
   "execution_count": null,
   "id": "f932a6d7-0e2d-4d56-9afe-3238c5f9e8c1",
   "metadata": {},
   "outputs": [],
   "source": []
  }
 ],
 "metadata": {
  "kernelspec": {
   "display_name": "Python 3 (ipykernel)",
   "language": "python",
   "name": "python3"
  },
  "language_info": {
   "codemirror_mode": {
    "name": "ipython",
    "version": 3
   },
   "file_extension": ".py",
   "mimetype": "text/x-python",
   "name": "python",
   "nbconvert_exporter": "python",
   "pygments_lexer": "ipython3",
   "version": "3.12.4"
  }
 },
 "nbformat": 4,
 "nbformat_minor": 5
}
