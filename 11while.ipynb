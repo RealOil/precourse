{
 "cells": [
  {
   "cell_type": "code",
   "execution_count": 3,
   "id": "ccd68b61-133e-4f07-a0ce-d9383ad23ac6",
   "metadata": {},
   "outputs": [
    {
     "name": "stdout",
     "output_type": "stream",
     "text": [
      "Hello world\n",
      "Hello world\n",
      "Hello world\n",
      "Hello world\n",
      "Hello world\n",
      "Hello world\n",
      "Hello world\n",
      "Hello world\n",
      "Hello world\n",
      "Hello world\n"
     ]
    }
   ],
   "source": [
    "# while문\n",
    "# 반복문\n",
    "# for문이 요소가 있을 때 하나씩 꺼내서 하나 꺼낼 때마다 코드 블록을 반복\n",
    "# while문은 우측에 위치하는 조건문이 True일 떄 코드블록을 ㅡ실행하고 다시 조건문으로 돌아와 조건문이 True라면 코드불럭 실행,\n",
    "# 조건문의 최종 값이 False라면 while문을 빠져나갑니다.\n",
    "\n",
    "i = 0 # 초기값\n",
    "\n",
    "while i < 10: # 조건식\n",
    "    print(\"Hello world\")\n",
    "    i += 1 # 증감식"
   ]
  },
  {
   "cell_type": "code",
   "execution_count": 10,
   "id": "2878ce41-d751-4f25-a2b0-ac5c4b70790f",
   "metadata": {},
   "outputs": [
    {
     "name": "stdout",
     "output_type": "stream",
     "text": [
      "98\n",
      "89\n",
      "28\n"
     ]
    }
   ],
   "source": [
    "scores = [98, 89, 28]\n",
    "\n",
    "idx = 0\n",
    "while idx < len(scores): # 3\n",
    "    print(scores[idx])\n",
    "    idx += 1"
   ]
  },
  {
   "cell_type": "code",
   "execution_count": 14,
   "id": "bada229d-4162-4c16-a8a7-a45f5f1137fc",
   "metadata": {},
   "outputs": [
    {
     "name": "stdout",
     "output_type": "stream",
     "text": [
      "98\n",
      "89\n"
     ]
    }
   ],
   "source": [
    "# break는 반복문에서 break 만나게 되면 제일 가까이에 있는 반복문을 빠져나갑니다.\n",
    "\n",
    "scores = [98, 89, 28]\n",
    "\n",
    "idx = 0\n",
    "while idx < len(scores):\n",
    "    print(scores[idx])\n",
    "    if scores[idx] < 90:\n",
    "        break\n",
    "    idx += 1"
   ]
  },
  {
   "cell_type": "code",
   "execution_count": 19,
   "id": "1028f7d5-cd3f-409f-823c-fde77b71e872",
   "metadata": {},
   "outputs": [
    {
     "name": "stdout",
     "output_type": "stream",
     "text": [
      "1\n",
      "3\n",
      "5\n",
      "7\n",
      "9\n",
      "11\n",
      "13\n",
      "15\n",
      "17\n",
      "19\n",
      "21\n",
      "23\n",
      "25\n",
      "27\n",
      "29\n",
      "31\n",
      "33\n",
      "35\n",
      "37\n",
      "39\n",
      "41\n",
      "43\n",
      "45\n",
      "47\n",
      "49\n",
      "51\n",
      "53\n",
      "55\n",
      "57\n",
      "59\n",
      "61\n",
      "63\n",
      "65\n",
      "67\n",
      "69\n",
      "71\n",
      "73\n",
      "75\n",
      "77\n",
      "79\n",
      "81\n",
      "83\n",
      "85\n",
      "87\n",
      "89\n",
      "91\n",
      "93\n",
      "95\n",
      "97\n",
      "99\n"
     ]
    }
   ],
   "source": [
    "# continue는 반복문에서 만나게 됐을 때 while문에서는 조건식으로 이동하게 됩니다.\n",
    "# for문에서는 iterable(한번에 하나씩 요소를 꺼낼 수 있는 객체) 안에 남아있는 요소가 있는지 체크하는 곳으로 이동하게 됩니다.\n",
    "\n",
    "i = 0\n",
    "while i < 100:\n",
    "    i += 1\n",
    "    if i % 2 == 0: # 2의 배수\n",
    "        continue\n",
    "    print(i)"
   ]
  },
  {
   "cell_type": "code",
   "execution_count": null,
   "id": "42962c8e-da59-4f23-ad9c-c03e1e73c1ec",
   "metadata": {},
   "outputs": [],
   "source": []
  }
 ],
 "metadata": {
  "kernelspec": {
   "display_name": "Python 3 (ipykernel)",
   "language": "python",
   "name": "python3"
  },
  "language_info": {
   "codemirror_mode": {
    "name": "ipython",
    "version": 3
   },
   "file_extension": ".py",
   "mimetype": "text/x-python",
   "name": "python",
   "nbconvert_exporter": "python",
   "pygments_lexer": "ipython3",
   "version": "3.12.4"
  }
 },
 "nbformat": 4,
 "nbformat_minor": 5
}
