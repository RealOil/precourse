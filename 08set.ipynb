{
 "cells": [
  {
   "cell_type": "code",
   "execution_count": 1,
   "id": "97227b83-a5b4-4754-9901-0f1fd4d3caea",
   "metadata": {},
   "outputs": [],
   "source": [
    "# set 자료형은 비시퀀스이기 때문에 순서가 없다.\n",
    "# 중괄호로 작성하는 것은 dictionary와 같다.\n",
    "# 하지만, dictionary key:value의 쌍으로 이뤄진에 반해\n",
    "# set은 key(value) 하나로만 구성을 합니다.\n",
    "# 중복되는 요소 값을 갖지 않는다.\n",
    "set_var = {'key1', 'key2',}"
   ]
  },
  {
   "cell_type": "code",
   "execution_count": 3,
   "id": "ab1f6409-b9db-4487-8343-158239d3e548",
   "metadata": {},
   "outputs": [
    {
     "name": "stdout",
     "output_type": "stream",
     "text": [
      "<class 'set'>\n"
     ]
    }
   ],
   "source": [
    "print(type(set_var))"
   ]
  },
  {
   "cell_type": "code",
   "execution_count": 5,
   "id": "554a0489-b7df-4053-9b0f-fa90ec482926",
   "metadata": {},
   "outputs": [
    {
     "name": "stdout",
     "output_type": "stream",
     "text": [
      "{'key1', 'key2'}\n"
     ]
    }
   ],
   "source": [
    "print(set_var)"
   ]
  },
  {
   "cell_type": "code",
   "execution_count": 11,
   "id": "037bf1e8-9b19-499e-bbaf-47ededd42e31",
   "metadata": {},
   "outputs": [
    {
     "name": "stdout",
     "output_type": "stream",
     "text": [
      "<class 'dict'>\n"
     ]
    }
   ],
   "source": [
    "# 빈 세트는 set() 함수로만 작성할 수 있다.\n",
    "var1 = {}\n",
    "print(type(var1)) # 빈 중괄호는 딕셔너리가 생성된다."
   ]
  },
  {
   "cell_type": "code",
   "execution_count": 13,
   "id": "eef6dfab-d753-4ddb-bc10-d6a3d19a80ac",
   "metadata": {},
   "outputs": [
    {
     "name": "stdout",
     "output_type": "stream",
     "text": [
      "<class 'set'>\n"
     ]
    }
   ],
   "source": [
    "var2 = set()\n",
    "print(type(var2))"
   ]
  },
  {
   "cell_type": "code",
   "execution_count": 15,
   "id": "6b8e8ec6-4134-46bb-a2b3-719c6f462269",
   "metadata": {},
   "outputs": [
    {
     "name": "stdout",
     "output_type": "stream",
     "text": [
      "set()\n"
     ]
    }
   ],
   "source": [
    "# set 자료형에 요소를 추가할 때는 add() 메소드를 사용한다.\n",
    "print(var2)"
   ]
  },
  {
   "cell_type": "code",
   "execution_count": 17,
   "id": "46c391a7-e0c7-4f87-a31a-eadd94ab9837",
   "metadata": {},
   "outputs": [
    {
     "name": "stdout",
     "output_type": "stream",
     "text": [
      "{1}\n"
     ]
    }
   ],
   "source": [
    "var2.add(1)\n",
    "print(var2)"
   ]
  },
  {
   "cell_type": "code",
   "execution_count": 19,
   "id": "4addde98-b4d6-440a-96b8-c16f5b003af8",
   "metadata": {},
   "outputs": [
    {
     "name": "stdout",
     "output_type": "stream",
     "text": [
      "{1}\n"
     ]
    }
   ],
   "source": [
    "var2.add(1)\n",
    "print(var2)"
   ]
  },
  {
   "cell_type": "code",
   "execution_count": 21,
   "id": "94aa5503-c287-4eb3-9648-128e381a1b39",
   "metadata": {},
   "outputs": [
    {
     "name": "stdout",
     "output_type": "stream",
     "text": [
      "{1, 2}\n"
     ]
    }
   ],
   "source": [
    "var2.add(2)\n",
    "print(var2) # 중복되는 값을 가질 수 없다."
   ]
  },
  {
   "cell_type": "code",
   "execution_count": 25,
   "id": "af3a0747-6f62-46e2-ac4b-4e32b5a8dd89",
   "metadata": {},
   "outputs": [],
   "source": [
    "# set 자료형에 요소를 삭제할 때는 remove() 메소드를 호출한다.\n",
    "var2.remove(2)"
   ]
  },
  {
   "cell_type": "code",
   "execution_count": 27,
   "id": "3969f3d2-8a14-43f7-b5f5-b01bdb0290c3",
   "metadata": {},
   "outputs": [
    {
     "name": "stdout",
     "output_type": "stream",
     "text": [
      "{1}\n"
     ]
    }
   ],
   "source": [
    "print(var2)"
   ]
  },
  {
   "cell_type": "code",
   "execution_count": 29,
   "id": "542b7ba0-ebe3-45e2-9127-bafa0e12e3e3",
   "metadata": {},
   "outputs": [
    {
     "ename": "KeyError",
     "evalue": "2",
     "output_type": "error",
     "traceback": [
      "\u001b[1;31m---------------------------------------------------------------------------\u001b[0m",
      "\u001b[1;31mKeyError\u001b[0m                                  Traceback (most recent call last)",
      "Cell \u001b[1;32mIn[29], line 1\u001b[0m\n\u001b[1;32m----> 1\u001b[0m var2\u001b[38;5;241m.\u001b[39mremove(\u001b[38;5;241m2\u001b[39m)\n",
      "\u001b[1;31mKeyError\u001b[0m: 2"
     ]
    }
   ],
   "source": [
    "var2.remove(2) # 없는 요소를 삭제하려 하면 remove() 메소드는 에러를 발생"
   ]
  },
  {
   "cell_type": "code",
   "execution_count": 31,
   "id": "0d6a9d0c-3457-459c-8ec5-a17a385b79fa",
   "metadata": {},
   "outputs": [
    {
     "name": "stdout",
     "output_type": "stream",
     "text": [
      "{1, 2}\n"
     ]
    }
   ],
   "source": [
    "var2.add(2)\n",
    "print(var2)"
   ]
  },
  {
   "cell_type": "code",
   "execution_count": 33,
   "id": "fdc03ef6-b414-49cf-9971-f4ab68e71324",
   "metadata": {},
   "outputs": [
    {
     "name": "stdout",
     "output_type": "stream",
     "text": [
      "{1}\n"
     ]
    }
   ],
   "source": [
    "var2.discard(2)\n",
    "print(var2)"
   ]
  },
  {
   "cell_type": "code",
   "execution_count": 35,
   "id": "d9c21b7a-45c7-49f5-a497-173fd583c696",
   "metadata": {},
   "outputs": [],
   "source": [
    "var2.discard(2) # discard() 메소드는 없는 값을 삭제하려해도 에러가 나지 않는다."
   ]
  },
  {
   "cell_type": "code",
   "execution_count": 49,
   "id": "ed45ae58-e95b-40b8-9ea0-b6cdf1dd76bb",
   "metadata": {},
   "outputs": [
    {
     "name": "stdout",
     "output_type": "stream",
     "text": [
      "{0, 18, 3, 6, 9, 12, 15}\n"
     ]
    }
   ],
   "source": [
    "# set 생성\n",
    "set_var2 = {0, 3, 6, 9, 12, 15, 18}\n",
    "print(set_var2)"
   ]
  },
  {
   "cell_type": "code",
   "execution_count": 51,
   "id": "ab7649de-1109-47b9-9059-b632f352e5a4",
   "metadata": {},
   "outputs": [
    {
     "data": {
      "text/plain": [
       "0"
      ]
     },
     "execution_count": 51,
     "metadata": {},
     "output_type": "execute_result"
    }
   ],
   "source": [
    "# pop() 메소드는 임의의 순서의 요소를 삭제 \n",
    "set_var2.pop()"
   ]
  },
  {
   "cell_type": "code",
   "execution_count": 53,
   "id": "7deb46af-c36c-4ace-8cba-39e2427f5955",
   "metadata": {},
   "outputs": [
    {
     "name": "stdout",
     "output_type": "stream",
     "text": [
      "{18, 3, 6, 9, 12, 15}\n"
     ]
    }
   ],
   "source": [
    "print(set_var2)"
   ]
  },
  {
   "cell_type": "code",
   "execution_count": 55,
   "id": "83842fed-26e0-4d42-9a7e-5a02831f072d",
   "metadata": {},
   "outputs": [
    {
     "name": "stdout",
     "output_type": "stream",
     "text": [
      "{3, 6, 9, 12, 15}\n"
     ]
    }
   ],
   "source": [
    "set_var2.pop()\n",
    "print(set_var2)"
   ]
  },
  {
   "cell_type": "code",
   "execution_count": 59,
   "id": "9ec44789-74a3-4ff4-91d7-33a8a4865834",
   "metadata": {},
   "outputs": [
    {
     "name": "stdout",
     "output_type": "stream",
     "text": [
      "set()\n"
     ]
    }
   ],
   "source": [
    "set_var2.clear() # set 자료형 내에 요소를 모두 삭제한다.\n",
    "print(set_var2)"
   ]
  },
  {
   "cell_type": "code",
   "execution_count": 61,
   "id": "459c3335-0cdc-4794-a19f-b5b6bb8da32f",
   "metadata": {},
   "outputs": [
    {
     "data": {
      "text/plain": [
       "0"
      ]
     },
     "execution_count": 61,
     "metadata": {},
     "output_type": "execute_result"
    }
   ],
   "source": [
    "len(set_var2)"
   ]
  },
  {
   "cell_type": "code",
   "execution_count": 63,
   "id": "69c68a4b-ac48-492c-bf4b-8ac671f29d05",
   "metadata": {},
   "outputs": [
    {
     "data": {
      "text/plain": [
       "1"
      ]
     },
     "execution_count": 63,
     "metadata": {},
     "output_type": "execute_result"
    }
   ],
   "source": [
    "set_var2.add(2)\n",
    "len(set_var2) # 요소의 개수를 구한 때 len() 내장함수를 사용한다."
   ]
  },
  {
   "cell_type": "code",
   "execution_count": 99,
   "id": "a16f9132-3a24-41fe-859d-72b645b6a00f",
   "metadata": {},
   "outputs": [
    {
     "name": "stdout",
     "output_type": "stream",
     "text": [
      "{1, 2, 3, 4, 5}\n"
     ]
    }
   ],
   "source": [
    "# set 자료형의 합집합(union)\n",
    "a = {1, 2, 3, 4}\n",
    "b = {2, 4, 5}\n",
    "print(set.union(a, b))"
   ]
  },
  {
   "cell_type": "code",
   "execution_count": 67,
   "id": "cff99556-5f76-49c2-bb75-6c754016bdcc",
   "metadata": {},
   "outputs": [
    {
     "name": "stdout",
     "output_type": "stream",
     "text": [
      "{1, 2, 3, 4, 5}\n"
     ]
    }
   ],
   "source": [
    "print(a | b)"
   ]
  },
  {
   "cell_type": "code",
   "execution_count": 69,
   "id": "9b11fdf7-a9a8-40d2-ae4d-82fe72ff0e7b",
   "metadata": {},
   "outputs": [
    {
     "name": "stdout",
     "output_type": "stream",
     "text": [
      "{2, 4}\n"
     ]
    }
   ],
   "source": [
    "# set 자료형의 교집합(intersection)\n",
    "print(set.intersection(a, b))"
   ]
  },
  {
   "cell_type": "code",
   "execution_count": 71,
   "id": "434f54cb-1071-4656-af66-4dd199dfca97",
   "metadata": {},
   "outputs": [
    {
     "name": "stdout",
     "output_type": "stream",
     "text": [
      "{2, 4}\n"
     ]
    }
   ],
   "source": [
    "print(a & b)"
   ]
  },
  {
   "cell_type": "code",
   "execution_count": 73,
   "id": "536471b0-a375-428b-92de-2ff80bffd267",
   "metadata": {},
   "outputs": [
    {
     "name": "stdout",
     "output_type": "stream",
     "text": [
      "{1, 3}\n"
     ]
    }
   ],
   "source": [
    "# set 자료형의 차집합(difference)\n",
    "print(set.difference(a, b))"
   ]
  },
  {
   "cell_type": "code",
   "execution_count": 75,
   "id": "2edb5e25-3240-45ca-9379-aa76a13317b5",
   "metadata": {},
   "outputs": [
    {
     "name": "stdout",
     "output_type": "stream",
     "text": [
      "{1, 3}\n"
     ]
    }
   ],
   "source": [
    "print(a - b)"
   ]
  },
  {
   "cell_type": "code",
   "execution_count": 77,
   "id": "0b3640c7-99ce-40ed-abc6-f51e35db8f2a",
   "metadata": {},
   "outputs": [
    {
     "name": "stdout",
     "output_type": "stream",
     "text": [
      "None\n"
     ]
    }
   ],
   "source": [
    "print(a.update(b))"
   ]
  },
  {
   "cell_type": "code",
   "execution_count": 81,
   "id": "fdbd54b8-0811-4da1-90d6-a13bb101aeee",
   "metadata": {},
   "outputs": [
    {
     "name": "stdout",
     "output_type": "stream",
     "text": [
      "{1, 2, 3, 4, 5}\n"
     ]
    }
   ],
   "source": [
    "print(a) # a라는 변수에 직접적인 결과의 대입이 이뤄진다"
   ]
  },
  {
   "cell_type": "code",
   "execution_count": 85,
   "id": "b564aa8a-85f4-437d-93b3-20937e4463f3",
   "metadata": {},
   "outputs": [
    {
     "name": "stdout",
     "output_type": "stream",
     "text": [
      "{1, 2, 3, 4, 5}\n"
     ]
    }
   ],
   "source": [
    "a |= b\n",
    "print(a)"
   ]
  },
  {
   "cell_type": "code",
   "execution_count": 89,
   "id": "25bf44be-4c08-4b59-9329-c0d2f36e9ed3",
   "metadata": {},
   "outputs": [
    {
     "name": "stdout",
     "output_type": "stream",
     "text": [
      "{2, 4}\n"
     ]
    }
   ],
   "source": [
    "a.intersection_update(b)\n",
    "print(a)"
   ]
  },
  {
   "cell_type": "code",
   "execution_count": 93,
   "id": "764fe7e3-8059-46cc-90f3-cc2dc36694dc",
   "metadata": {},
   "outputs": [
    {
     "name": "stdout",
     "output_type": "stream",
     "text": [
      "{2, 4}\n"
     ]
    }
   ],
   "source": [
    "a &= b\n",
    "print(a)"
   ]
  },
  {
   "cell_type": "code",
   "execution_count": 97,
   "id": "d888f8c7-76bf-4b6b-a192-aac6a8ae508e",
   "metadata": {},
   "outputs": [
    {
     "name": "stdout",
     "output_type": "stream",
     "text": [
      "{1, 3}\n"
     ]
    }
   ],
   "source": [
    "a.difference_update(b)\n",
    "print(a)"
   ]
  },
  {
   "cell_type": "code",
   "execution_count": 101,
   "id": "93789051-0bd9-4518-bb99-3fa5ecf290fc",
   "metadata": {},
   "outputs": [
    {
     "name": "stdout",
     "output_type": "stream",
     "text": [
      "{1, 3}\n"
     ]
    }
   ],
   "source": [
    "a -= b\n",
    "print(a)"
   ]
  },
  {
   "cell_type": "code",
   "execution_count": 111,
   "id": "534f9498-1b4c-4fec-9a06-f4f7f7498376",
   "metadata": {},
   "outputs": [
    {
     "data": {
      "text/plain": [
       "True"
      ]
     },
     "execution_count": 111,
     "metadata": {},
     "output_type": "execute_result"
    }
   ],
   "source": [
    "a = {0, 1, 2}\n",
    "b = {0, 1, 2}\n",
    "a.issubset(b) # a가 b의 부분집합"
   ]
  },
  {
   "cell_type": "code",
   "execution_count": 113,
   "id": "4be24070-a3b5-46e5-b254-a2bfaec5ddbc",
   "metadata": {},
   "outputs": [
    {
     "data": {
      "text/plain": [
       "True"
      ]
     },
     "execution_count": 113,
     "metadata": {},
     "output_type": "execute_result"
    }
   ],
   "source": [
    "b.issubset(a) # b가 a의 부분집합"
   ]
  },
  {
   "cell_type": "code",
   "execution_count": 115,
   "id": "d9a1b5e1-40a0-4e76-90f2-46baef279292",
   "metadata": {},
   "outputs": [],
   "source": [
    "a = {0, 1}\n",
    "b = {0, 1, 2}"
   ]
  },
  {
   "cell_type": "code",
   "execution_count": 119,
   "id": "63f98d6b-aa62-468e-930a-242567d20737",
   "metadata": {},
   "outputs": [
    {
     "data": {
      "text/plain": [
       "True"
      ]
     },
     "execution_count": 119,
     "metadata": {},
     "output_type": "execute_result"
    }
   ],
   "source": [
    "a.issubset(b)"
   ]
  },
  {
   "cell_type": "code",
   "execution_count": 121,
   "id": "d90ae1b8-48b1-4feb-8b14-ad80315fd904",
   "metadata": {},
   "outputs": [
    {
     "data": {
      "text/plain": [
       "False"
      ]
     },
     "execution_count": 121,
     "metadata": {},
     "output_type": "execute_result"
    }
   ],
   "source": [
    "b.issubset(a)"
   ]
  },
  {
   "cell_type": "code",
   "execution_count": 127,
   "id": "bba2d87c-6a9d-4fe5-a353-f081aa349de0",
   "metadata": {},
   "outputs": [
    {
     "data": {
      "text/plain": [
       "False"
      ]
     },
     "execution_count": 127,
     "metadata": {},
     "output_type": "execute_result"
    }
   ],
   "source": [
    "a.issuperset(b) # a가 b의 상위집합?"
   ]
  },
  {
   "cell_type": "code",
   "execution_count": 129,
   "id": "0fcec73c-a0ce-438b-a5a4-da44b7bf6995",
   "metadata": {},
   "outputs": [
    {
     "data": {
      "text/plain": [
       "True"
      ]
     },
     "execution_count": 129,
     "metadata": {},
     "output_type": "execute_result"
    }
   ],
   "source": [
    "b.issuperset(a) # b가 a의 상위집합?"
   ]
  },
  {
   "cell_type": "code",
   "execution_count": 131,
   "id": "47e01c5d-ee13-474d-a795-098760f7f745",
   "metadata": {},
   "outputs": [
    {
     "name": "stdout",
     "output_type": "stream",
     "text": [
      "{0, 1}\n"
     ]
    }
   ],
   "source": [
    "print(a)"
   ]
  },
  {
   "cell_type": "code",
   "execution_count": 133,
   "id": "3fc68d91-fcdd-45c8-899f-b8dbeb332e69",
   "metadata": {},
   "outputs": [
    {
     "name": "stdout",
     "output_type": "stream",
     "text": [
      "{0, 1, 2}\n"
     ]
    }
   ],
   "source": [
    "print(b)"
   ]
  },
  {
   "cell_type": "code",
   "execution_count": 135,
   "id": "dc125f09-d6ef-4dcb-8af5-85aedfa97e46",
   "metadata": {},
   "outputs": [
    {
     "name": "stdout",
     "output_type": "stream",
     "text": [
      "False\n"
     ]
    }
   ],
   "source": [
    "print(a == b)"
   ]
  },
  {
   "cell_type": "code",
   "execution_count": 137,
   "id": "8daa67e9-8eac-427a-840b-273685b12e94",
   "metadata": {},
   "outputs": [
    {
     "name": "stdout",
     "output_type": "stream",
     "text": [
      "True\n"
     ]
    }
   ],
   "source": [
    "a = {0, 1}\n",
    "b = {0, 1}\n",
    "print(a == b)"
   ]
  },
  {
   "cell_type": "code",
   "execution_count": 143,
   "id": "cd3c3f13-2736-494d-8dee-6501209273d8",
   "metadata": {},
   "outputs": [
    {
     "data": {
      "text/plain": [
       "True"
      ]
     },
     "execution_count": 143,
     "metadata": {},
     "output_type": "execute_result"
    }
   ],
   "source": [
    "a = {0, 1, 2}\n",
    "b = {3, 4, 5}\n",
    "a.isdisjoint(b) # 두 set 자료형 간에 겹치지 않는가?"
   ]
  },
  {
   "cell_type": "code",
   "execution_count": 145,
   "id": "fc6c4336-8107-4975-bca5-01d29e1fb6bf",
   "metadata": {},
   "outputs": [
    {
     "data": {
      "text/plain": [
       "False"
      ]
     },
     "execution_count": 145,
     "metadata": {},
     "output_type": "execute_result"
    }
   ],
   "source": [
    "a = {0, 1, 2, 3}\n",
    "a.isdisjoint(b)"
   ]
  },
  {
   "cell_type": "code",
   "execution_count": null,
   "id": "778b3ae7-4cc5-499a-8ca7-e94f2f33fd5d",
   "metadata": {},
   "outputs": [],
   "source": []
  }
 ],
 "metadata": {
  "kernelspec": {
   "display_name": "Python 3 (ipykernel)",
   "language": "python",
   "name": "python3"
  },
  "language_info": {
   "codemirror_mode": {
    "name": "ipython",
    "version": 3
   },
   "file_extension": ".py",
   "mimetype": "text/x-python",
   "name": "python",
   "nbconvert_exporter": "python",
   "pygments_lexer": "ipython3",
   "version": "3.12.4"
  }
 },
 "nbformat": 4,
 "nbformat_minor": 5
}
