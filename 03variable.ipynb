{
 "cells": [
  {
   "cell_type": "code",
   "execution_count": 9,
   "id": "4a6f38e1-6672-4fbd-963b-80a6568cdfe1",
   "metadata": {},
   "outputs": [
    {
     "name": "stdout",
     "output_type": "stream",
     "text": [
      "30\n"
     ]
    }
   ],
   "source": [
    "# a 변수 선언 후 숫자 리터럴 10 값을 할당\n",
    "a = 10\n",
    "\n",
    "# a 변수 값에 20을 더한 결과를 다시 a에 할당\n",
    "a = a + 20\n",
    "# 또는 a += 20\n",
    "\n",
    "print(a)"
   ]
  },
  {
   "cell_type": "code",
   "execution_count": 11,
   "id": "f4763225-8dbb-4476-bbb9-a34993f45ff1",
   "metadata": {},
   "outputs": [],
   "source": [
    "# a 변수 삭제 후 a 변수 출력\n",
    "del a"
   ]
  },
  {
   "cell_type": "code",
   "execution_count": null,
   "id": "898e2198-c67d-4ec9-a14b-fc21a4607e84",
   "metadata": {},
   "outputs": [],
   "source": []
  }
 ],
 "metadata": {
  "kernelspec": {
   "display_name": "Python 3 (ipykernel)",
   "language": "python",
   "name": "python3"
  },
  "language_info": {
   "codemirror_mode": {
    "name": "ipython",
    "version": 3
   },
   "file_extension": ".py",
   "mimetype": "text/x-python",
   "name": "python",
   "nbconvert_exporter": "python",
   "pygments_lexer": "ipython3",
   "version": "3.12.4"
  }
 },
 "nbformat": 4,
 "nbformat_minor": 5
}
