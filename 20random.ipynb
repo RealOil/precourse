{
 "cells": [
  {
   "cell_type": "code",
   "execution_count": 2,
   "id": "dade5bce-bb70-4f23-a6e0-c5357140ef28",
   "metadata": {},
   "outputs": [],
   "source": [
    "import random"
   ]
  },
  {
   "cell_type": "code",
   "execution_count": 4,
   "id": "0e0215dd-7d74-454e-b5b8-4c385fa277b4",
   "metadata": {},
   "outputs": [
    {
     "name": "stdout",
     "output_type": "stream",
     "text": [
      "0.4603192372789988\n"
     ]
    }
   ],
   "source": [
    "# 0이상 1미만 부동 소수점의 난수를 생성\n",
    "num = random.random()\n",
    "print(num)"
   ]
  },
  {
   "cell_type": "code",
   "execution_count": 8,
   "id": "14e7dcc1-9af3-47ba-988d-2c42071cfec7",
   "metadata": {},
   "outputs": [
    {
     "name": "stdout",
     "output_type": "stream",
     "text": [
      "4\n"
     ]
    }
   ],
   "source": [
    "# 1이상 10이하의 정수 난수를 생성\n",
    "num2 = random.randint(1, 10)\n",
    "print(num2)"
   ]
  },
  {
   "cell_type": "code",
   "execution_count": 10,
   "id": "1b481c93-3744-4d3d-8ccc-1348fd1c034a",
   "metadata": {},
   "outputs": [
    {
     "name": "stdout",
     "output_type": "stream",
     "text": [
      "orange\n"
     ]
    }
   ],
   "source": [
    "# 주어진 시퀀스 자료형에서 임의의 요소를 하나 반환합니다.\n",
    "fruits = [\"apple\", \"banana\", \"orange\", \"grape\"]\n",
    "random_fruit = random.choice(fruits)\n",
    "print(random_fruit)"
   ]
  },
  {
   "cell_type": "code",
   "execution_count": 14,
   "id": "3e15be02-c715-465b-82fa-b95acc0a5ed1",
   "metadata": {},
   "outputs": [
    {
     "name": "stdout",
     "output_type": "stream",
     "text": [
      "['2', '3', '4', '5', '6', '7', '8', '9', '10', 'A', 'J', 'Q', 'K']\n"
     ]
    }
   ],
   "source": [
    "# 리스트의 요소를 임의의 순서로 섞습니다.\n",
    "cards = list(map(str, range(2, 11))) + list(\"AJQK\")\n",
    "print(cards)"
   ]
  },
  {
   "cell_type": "code",
   "execution_count": 16,
   "id": "7f6e1939-678f-405f-a2f0-59891755db1b",
   "metadata": {},
   "outputs": [
    {
     "name": "stdout",
     "output_type": "stream",
     "text": [
      "['6', 'Q', '8', '10', '7', 'A', 'K', '3', 'J', '5', '4', '9', '2']\n"
     ]
    }
   ],
   "source": [
    "random.shuffle(cards)\n",
    "print(cards)"
   ]
  },
  {
   "cell_type": "code",
   "execution_count": 22,
   "id": "fdb4359b-06ed-428f-aa84-cac5d1ea82ad",
   "metadata": {},
   "outputs": [
    {
     "name": "stdout",
     "output_type": "stream",
     "text": [
      "[5, 1, 3]\n"
     ]
    }
   ],
   "source": [
    "# 리스트에서 중복되지 않는 3개의 요소를 선택\n",
    "numbers = list(range(1, 11))\n",
    "random_selection = random.sample(numbers, 3)\n",
    "print(random_selection)"
   ]
  }
 ],
 "metadata": {
  "kernelspec": {
   "display_name": "Python 3 (ipykernel)",
   "language": "python",
   "name": "python3"
  },
  "language_info": {
   "codemirror_mode": {
    "name": "ipython",
    "version": 3
   },
   "file_extension": ".py",
   "mimetype": "text/x-python",
   "name": "python",
   "nbconvert_exporter": "python",
   "pygments_lexer": "ipython3",
   "version": "3.12.4"
  }
 },
 "nbformat": 4,
 "nbformat_minor": 5
}
