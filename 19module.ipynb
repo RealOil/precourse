{
 "cells": [
  {
   "cell_type": "code",
   "execution_count": 28,
   "id": "1c25685e-b481-4fef-ac65-5e3d204d8a6e",
   "metadata": {},
   "outputs": [],
   "source": [
    "# 모듈(module) 만들기\n",
    "class Character:\n",
    "    def __init__(self, name, health):\n",
    "        self.name = name\n",
    "        self.health = health\n",
    "\n",
    "    def attack(self):\n",
    "        print(f\"{self.name}이(가) 공격합니다!\")\n",
    "\n",
    "# 프롬프트에서\n",
    "# C:\\python\n",
    "# jupyter nbconvert script 파일명.ipynb"
   ]
  },
  {
   "cell_type": "code",
   "execution_count": 7,
   "id": "acab3400-d196-4ff9-91bf-86464da970b9",
   "metadata": {},
   "outputs": [
    {
     "name": "stdout",
     "output_type": "stream",
     "text": [
      "Writing character.py\n"
     ]
    }
   ],
   "source": [
    "%%writefile character.py\n",
    "class Character:\n",
    "    def __init__(self, name, health):\n",
    "        self.name = name\n",
    "        self.health = health\n",
    "\n",
    "    def attack(self):\n",
    "        print(f\"{self.name}이(가) 공격합니다!\")"
   ]
  },
  {
   "cell_type": "code",
   "execution_count": 13,
   "id": "47fb3c13-9f1d-498b-935d-bb563bea0fcb",
   "metadata": {},
   "outputs": [],
   "source": [
    "# 모듈을 저장할 때에는 변수 명령 규칙과 동일하게 숫자가 앞에 와서는 안 된다.\n",
    "import character"
   ]
  },
  {
   "cell_type": "code",
   "execution_count": 17,
   "id": "a6b92b99-0aef-46d2-aaab-506be6009fb2",
   "metadata": {},
   "outputs": [],
   "source": [
    "character_var = character.Character(\"name\", 100)"
   ]
  },
  {
   "cell_type": "code",
   "execution_count": 19,
   "id": "586e991d-e1b4-43a8-9fd5-d57375f237b7",
   "metadata": {},
   "outputs": [
    {
     "name": "stdout",
     "output_type": "stream",
     "text": [
      "name이(가) 공격합니다!\n"
     ]
    }
   ],
   "source": [
    "character_var.attack()"
   ]
  },
  {
   "cell_type": "code",
   "execution_count": null,
   "id": "8cbfb655-de59-43e3-b74b-1467df638245",
   "metadata": {},
   "outputs": [],
   "source": []
  }
 ],
 "metadata": {
  "kernelspec": {
   "display_name": "Python 3 (ipykernel)",
   "language": "python",
   "name": "python3"
  },
  "language_info": {
   "codemirror_mode": {
    "name": "ipython",
    "version": 3
   },
   "file_extension": ".py",
   "mimetype": "text/x-python",
   "name": "python",
   "nbconvert_exporter": "python",
   "pygments_lexer": "ipython3",
   "version": "3.12.4"
  }
 },
 "nbformat": 4,
 "nbformat_minor": 5
}
