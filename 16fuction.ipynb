{
 "cells": [
  {
   "cell_type": "code",
   "execution_count": 2,
   "id": "e2f5f1a3-cd05-4ae5-8bbe-08cd263ea4a5",
   "metadata": {},
   "outputs": [],
   "source": [
    "# 사칙연산을 하는 간단한 함수를 만들어보도록 하겠습니다.\n",
    "\n",
    "# 함수에 대한 정의 부분\n",
    "def add(a, b):\n",
    "    \"\"\"두 개의 숫자를 더해서 그 값을 반환합니다.\"\"\"\n",
    "    return a + b;\n",
    "\n",
    "def subtract(a, b):\n",
    "    \"\"\"두 개의 숫자를 빼서 그 값을 반환합니다.\"\"\"\n",
    "    return a - b;\n",
    "\n",
    "def multiply(a, b):\n",
    "    \"\"\"두 개의 숫자를 곱해서 그 값을 반환합니다.\"\"\"\n",
    "    return a * b;\n",
    "\n",
    "def divide(a, b):\n",
    "    \"\"\"두 개의 숫자를 나눠서 그 값을 반환합니다.\"\"\"\n",
    "    return a / b;"
   ]
  },
  {
   "cell_type": "code",
   "execution_count": 4,
   "id": "fcc70a50-9f1f-4f50-a670-5521ee2204c5",
   "metadata": {},
   "outputs": [
    {
     "name": "stdout",
     "output_type": "stream",
     "text": [
      "8\n"
     ]
    }
   ],
   "source": [
    "# 함수의 호출\n",
    "# 함수의 이름: add, subtract, multiply, divide\n",
    "add_result = add(5, 3)\n",
    "# add_result = 8 # 반환 값으로 return 오른편에 있는 값이 호출하는 부분에 대치가 된다.\n",
    "print(add_result)"
   ]
  },
  {
   "cell_type": "code",
   "execution_count": 6,
   "id": "4b667bdc-eead-48c3-865d-65bea086cd97",
   "metadata": {},
   "outputs": [
    {
     "name": "stdout",
     "output_type": "stream",
     "text": [
      "2\n"
     ]
    }
   ],
   "source": [
    "subtract_result = subtract(5, 3)\n",
    "print(subtract_result)"
   ]
  },
  {
   "cell_type": "code",
   "execution_count": 8,
   "id": "bc7b18fa-ec9d-43e8-933a-f915c7b47f3c",
   "metadata": {},
   "outputs": [
    {
     "name": "stdout",
     "output_type": "stream",
     "text": [
      "15\n"
     ]
    }
   ],
   "source": [
    "multiply_result = multiply(a=5, b=3) # keyword arguments로 전달\n",
    "print(multiply_result)"
   ]
  },
  {
   "cell_type": "code",
   "execution_count": 10,
   "id": "ef809ee2-7a33-4bfc-95d1-48f3e826ee2d",
   "metadata": {},
   "outputs": [
    {
     "name": "stdout",
     "output_type": "stream",
     "text": [
      "1.6666666666666667\n"
     ]
    }
   ],
   "source": [
    "divide_result = divide(5, b=3) # positional과 keyword 방식을 섞어 쓸 경우에 positional을 더 왼편에 작성해야 한다.\n",
    "print(divide_result)"
   ]
  },
  {
   "cell_type": "code",
   "execution_count": 12,
   "id": "de9ac8c0-a043-4f73-b4c0-85b5113deeeb",
   "metadata": {},
   "outputs": [
    {
     "name": "stdout",
     "output_type": "stream",
     "text": [
      "Help on function add in module __main__:\n",
      "\n",
      "add(a, b)\n",
      "    두 개의 숫자를 더해서 그 값을 반환합니다.\n",
      "\n"
     ]
    }
   ],
   "source": [
    "help(add)"
   ]
  },
  {
   "cell_type": "code",
   "execution_count": 14,
   "id": "dfb5ff4c-9770-47be-853f-ee402fdfebb5",
   "metadata": {},
   "outputs": [
    {
     "name": "stdout",
     "output_type": "stream",
     "text": [
      "Help on built-in function len in module builtins:\n",
      "\n",
      "len(obj, /)\n",
      "    Return the number of items in a container.\n",
      "\n"
     ]
    }
   ],
   "source": [
    "help(len)"
   ]
  },
  {
   "cell_type": "code",
   "execution_count": 20,
   "id": "fb8602d6-5e6e-41d9-94af-6b4eb97ebaab",
   "metadata": {},
   "outputs": [
    {
     "name": "stdout",
     "output_type": "stream",
     "text": [
      "Help on built-in function print in module builtins:\n",
      "\n",
      "print(*args, sep=' ', end='\\n', file=None, flush=False)\n",
      "    Prints the values to a stream, or to sys.stdout by default.\n",
      "\n",
      "    sep\n",
      "      string inserted between values, default a space.\n",
      "    end\n",
      "      string appended after the last value, default a newline.\n",
      "    file\n",
      "      a file-like object (stream); defaults to the current sys.stdout.\n",
      "    flush\n",
      "      whether to forcibly flush the stream.\n",
      "\n"
     ]
    }
   ],
   "source": [
    "help(print)"
   ]
  },
  {
   "cell_type": "code",
   "execution_count": 22,
   "id": "5bf7771d-6896-4186-8909-782799edb099",
   "metadata": {},
   "outputs": [
    {
     "name": "stdout",
     "output_type": "stream",
     "text": [
      "두 개의 숫자를 더해서 그 값을 반환합니다.\n"
     ]
    }
   ],
   "source": [
    "print(add.__doc__)"
   ]
  },
  {
   "cell_type": "code",
   "execution_count": null,
   "id": "5a7b9a4e-e5bf-4409-a796-16b29edd4d94",
   "metadata": {},
   "outputs": [],
   "source": []
  }
 ],
 "metadata": {
  "kernelspec": {
   "display_name": "Python 3 (ipykernel)",
   "language": "python",
   "name": "python3"
  },
  "language_info": {
   "codemirror_mode": {
    "name": "ipython",
    "version": 3
   },
   "file_extension": ".py",
   "mimetype": "text/x-python",
   "name": "python",
   "nbconvert_exporter": "python",
   "pygments_lexer": "ipython3",
   "version": "3.12.4"
  }
 },
 "nbformat": 4,
 "nbformat_minor": 5
}
