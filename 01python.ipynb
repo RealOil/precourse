{
 "cells": [
  {
   "cell_type": "code",
   "execution_count": 1,
   "id": "c4eb3f8a-deeb-4b29-90b4-c28d6f36e174",
   "metadata": {},
   "outputs": [
    {
     "name": "stdout",
     "output_type": "stream",
     "text": [
      "3.12.4 | packaged by Anaconda, Inc. | (main, Jun 18 2024, 15:03:56) [MSC v.1929 64 bit (AMD64)]\n"
     ]
    }
   ],
   "source": [
    "import sys\n",
    "print(sys.version)"
   ]
  },
  {
   "cell_type": "code",
   "execution_count": 3,
   "id": "eb391d1b-4be6-4983-ab8d-1c8f28b3fd3f",
   "metadata": {},
   "outputs": [
    {
     "name": "stdout",
     "output_type": "stream",
     "text": [
      " C 드라이브의 볼륨: OS\n",
      " 볼륨 일련 번호: 6290-59E4\n",
      "\n",
      " C:\\python 디렉터리\n",
      "\n",
      "2024-09-04  오후 10:18    <DIR>          .\n",
      "2024-09-04  오후 10:15    <DIR>          .ipynb_checkpoints\n",
      "2024-09-04  오후 10:15    <DIR>          .virtual_documents\n",
      "2024-09-04  오후 10:18             1,023 01oython.ipynb\n",
      "               1개 파일               1,023 바이트\n",
      "               3개 디렉터리  216,821,682,176 바이트 남음\n"
     ]
    }
   ],
   "source": [
    "!dir"
   ]
  },
  {
   "cell_type": "code",
   "execution_count": null,
   "id": "c4fbf7b9-adc3-46ba-8184-6402a4c34dd1",
   "metadata": {},
   "outputs": [],
   "source": []
  }
 ],
 "metadata": {
  "kernelspec": {
   "display_name": "Python 3 (ipykernel)",
   "language": "python",
   "name": "python3"
  },
  "language_info": {
   "codemirror_mode": {
    "name": "ipython",
    "version": 3
   },
   "file_extension": ".py",
   "mimetype": "text/x-python",
   "name": "python",
   "nbconvert_exporter": "python",
   "pygments_lexer": "ipython3",
   "version": "3.12.4"
  }
 },
 "nbformat": 4,
 "nbformat_minor": 5
}
