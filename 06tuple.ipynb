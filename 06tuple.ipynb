{
 "cells": [
  {
   "cell_type": "code",
   "execution_count": 1,
   "id": "0490bd64-18d0-4cd6-a073-550415fd3a99",
   "metadata": {},
   "outputs": [
    {
     "name": "stdout",
     "output_type": "stream",
     "text": [
      "(1, 2, 3, 4, 5, 6)\n"
     ]
    }
   ],
   "source": [
    "# tuple: 시퀀스 자료형 중 하나 불변(immutalbe)\n",
    "# 변수 = (항목1, 항목2, ...)\n",
    "\n",
    "x = (1, 2, 3, 4, 5, 6)\n",
    "print(x)"
   ]
  },
  {
   "cell_type": "code",
   "execution_count": 3,
   "id": "cb377fb2-2e71-430d-bbe6-dd81b114df26",
   "metadata": {},
   "outputs": [
    {
     "name": "stdout",
     "output_type": "stream",
     "text": [
      "<class 'tuple'>\n"
     ]
    }
   ],
   "source": [
    "print(type(x))"
   ]
  },
  {
   "cell_type": "code",
   "execution_count": 5,
   "id": "a3fc3d9d-4be8-43dc-b13a-2db3646133ce",
   "metadata": {},
   "outputs": [],
   "source": [
    "x = ()"
   ]
  },
  {
   "cell_type": "code",
   "execution_count": 7,
   "id": "8853d966-e3e7-4f5d-b805-e4c0f49f0aeb",
   "metadata": {},
   "outputs": [
    {
     "name": "stdout",
     "output_type": "stream",
     "text": [
      "<class 'tuple'>\n"
     ]
    }
   ],
   "source": [
    "print(type(x))"
   ]
  },
  {
   "cell_type": "code",
   "execution_count": 9,
   "id": "45d54114-e230-4f10-a1e6-b3f61e70ef50",
   "metadata": {},
   "outputs": [
    {
     "data": {
      "text/plain": [
       "0"
      ]
     },
     "execution_count": 9,
     "metadata": {},
     "output_type": "execute_result"
    }
   ],
   "source": [
    "len(x)"
   ]
  },
  {
   "cell_type": "code",
   "execution_count": 11,
   "id": "11b38c6b-42b6-4e7b-b210-dc90003fc0c5",
   "metadata": {},
   "outputs": [
    {
     "name": "stdout",
     "output_type": "stream",
     "text": [
      "()\n"
     ]
    }
   ],
   "source": [
    "print(x)"
   ]
  },
  {
   "cell_type": "code",
   "execution_count": 13,
   "id": "81305b73-b6a3-48f9-8d9d-114470aae279",
   "metadata": {},
   "outputs": [],
   "source": [
    "y = tuple()"
   ]
  },
  {
   "cell_type": "code",
   "execution_count": 15,
   "id": "491d736a-2331-4222-b3e4-0156579f0d32",
   "metadata": {},
   "outputs": [
    {
     "name": "stdout",
     "output_type": "stream",
     "text": [
      "()\n"
     ]
    }
   ],
   "source": [
    "print(y)"
   ]
  },
  {
   "cell_type": "code",
   "execution_count": 17,
   "id": "abea21c9-1008-4c44-a3ac-7f74050288b6",
   "metadata": {},
   "outputs": [
    {
     "name": "stdout",
     "output_type": "stream",
     "text": [
      "<class 'tuple'>\n"
     ]
    }
   ],
   "source": [
    "print(type(y))"
   ]
  },
  {
   "cell_type": "code",
   "execution_count": 19,
   "id": "9d482cd3-3a62-478f-8ec5-0c1030a8de0d",
   "metadata": {},
   "outputs": [],
   "source": [
    "x1 = (1, 2, 3, 4, 5)"
   ]
  },
  {
   "cell_type": "code",
   "execution_count": 21,
   "id": "2573b695-d4f6-42d4-b077-bce1fb0d610f",
   "metadata": {},
   "outputs": [
    {
     "data": {
      "text/plain": [
       "2"
      ]
     },
     "execution_count": 21,
     "metadata": {},
     "output_type": "execute_result"
    }
   ],
   "source": [
    "x1[1]"
   ]
  },
  {
   "cell_type": "code",
   "execution_count": 23,
   "id": "92ad5b1e-e385-4826-956b-66edc378e86b",
   "metadata": {},
   "outputs": [
    {
     "ename": "TypeError",
     "evalue": "'tuple' object does not support item assignment",
     "output_type": "error",
     "traceback": [
      "\u001b[1;31m---------------------------------------------------------------------------\u001b[0m",
      "\u001b[1;31mTypeError\u001b[0m                                 Traceback (most recent call last)",
      "Cell \u001b[1;32mIn[23], line 1\u001b[0m\n\u001b[1;32m----> 1\u001b[0m x1[\u001b[38;5;241m1\u001b[39m] \u001b[38;5;241m=\u001b[39m \u001b[38;5;241m1\u001b[39m\n",
      "\u001b[1;31mTypeError\u001b[0m: 'tuple' object does not support item assignment"
     ]
    }
   ],
   "source": [
    "x1[1] = 1"
   ]
  },
  {
   "cell_type": "code",
   "execution_count": 25,
   "id": "f40c8ac8-6e63-40a3-af61-d50c6f144e55",
   "metadata": {},
   "outputs": [
    {
     "data": {
      "text/plain": [
       "(1, 2)"
      ]
     },
     "execution_count": 25,
     "metadata": {},
     "output_type": "execute_result"
    }
   ],
   "source": [
    "x1[:2]"
   ]
  },
  {
   "cell_type": "code",
   "execution_count": 27,
   "id": "ff549f91-2ff6-49ed-95c9-d9d54aa100ae",
   "metadata": {},
   "outputs": [
    {
     "ename": "TypeError",
     "evalue": "'tuple' object does not support item assignment",
     "output_type": "error",
     "traceback": [
      "\u001b[1;31m---------------------------------------------------------------------------\u001b[0m",
      "\u001b[1;31mTypeError\u001b[0m                                 Traceback (most recent call last)",
      "Cell \u001b[1;32mIn[27], line 1\u001b[0m\n\u001b[1;32m----> 1\u001b[0m x1[:\u001b[38;5;241m2\u001b[39m] \u001b[38;5;241m=\u001b[39m (\u001b[38;5;241m5\u001b[39m, \u001b[38;5;241m6\u001b[39m)\n",
      "\u001b[1;31mTypeError\u001b[0m: 'tuple' object does not support item assignment"
     ]
    }
   ],
   "source": [
    "x1[:2] = (5, 6)"
   ]
  },
  {
   "cell_type": "code",
   "execution_count": 29,
   "id": "edaac441-be90-47de-a506-1a013dc0aac0",
   "metadata": {},
   "outputs": [
    {
     "name": "stdout",
     "output_type": "stream",
     "text": [
      "2\n"
     ]
    }
   ],
   "source": [
    "print(x1[1])"
   ]
  },
  {
   "cell_type": "code",
   "execution_count": 31,
   "id": "165c820e-ddbd-4fc4-99fa-6573e65dd704",
   "metadata": {},
   "outputs": [
    {
     "ename": "TypeError",
     "evalue": "'tuple' object doesn't support item deletion",
     "output_type": "error",
     "traceback": [
      "\u001b[1;31m---------------------------------------------------------------------------\u001b[0m",
      "\u001b[1;31mTypeError\u001b[0m                                 Traceback (most recent call last)",
      "Cell \u001b[1;32mIn[31], line 1\u001b[0m\n\u001b[1;32m----> 1\u001b[0m \u001b[38;5;28;01mdel\u001b[39;00m x1[\u001b[38;5;241m1\u001b[39m]\n",
      "\u001b[1;31mTypeError\u001b[0m: 'tuple' object doesn't support item deletion"
     ]
    }
   ],
   "source": [
    "del x1[1]"
   ]
  },
  {
   "cell_type": "code",
   "execution_count": 34,
   "id": "47296d1c-15a3-45bb-bab7-c04afeea07b8",
   "metadata": {},
   "outputs": [
    {
     "name": "stdout",
     "output_type": "stream",
     "text": [
      "<class 'tuple'>\n",
      "('음', '오', '아', '예')\n"
     ]
    }
   ],
   "source": [
    "x2 = '음', '오', '아', '예'\n",
    "print(type(x2))\n",
    "print(x2)"
   ]
  },
  {
   "cell_type": "code",
   "execution_count": null,
   "id": "fafce329-9e59-4695-8532-65ed2640ff9c",
   "metadata": {},
   "outputs": [],
   "source": [
    "# 튜플 메소드\n",
    "# .index(): tuple에서 인자와 일치하는 첫 번째 요소의 위치를 반환\n",
    "# .count(): tuple에서 인자와 일치하는 요소의 개수를 반환\n",
    "\n",
    "# tuple을 사용하는 이유\n",
    "# list는 크기가 바뀔 수 있기 때문에 그에 따른 초과 할당까지 고려해서 메모리 부담이 있음\n",
    "# tuple은 빠르게 생성할 수 있고 리스트보다 메모리 부담이 적음, 대신 내용 변경 불가\n",
    "# 변하지 않는 값은 튜플을 쓰는 것이 좋겠다."
   ]
  }
 ],
 "metadata": {
  "kernelspec": {
   "display_name": "Python 3 (ipykernel)",
   "language": "python",
   "name": "python3"
  },
  "language_info": {
   "codemirror_mode": {
    "name": "ipython",
    "version": 3
   },
   "file_extension": ".py",
   "mimetype": "text/x-python",
   "name": "python",
   "nbconvert_exporter": "python",
   "pygments_lexer": "ipython3",
   "version": "3.12.4"
  }
 },
 "nbformat": 4,
 "nbformat_minor": 5
}
