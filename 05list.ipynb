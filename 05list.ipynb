{
 "cells": [
  {
   "cell_type": "code",
   "execution_count": 8,
   "id": "dba84fdc-b35a-42a2-b900-0276641b76a7",
   "metadata": {},
   "outputs": [],
   "source": [
    "# list: 시퀀스 자료형 중 하나 가변의 특징\n",
    "x = [] # 빈 리스트를 생성"
   ]
  },
  {
   "cell_type": "code",
   "execution_count": 10,
   "id": "9e6b49f7-6d63-474a-a549-148b121a49ca",
   "metadata": {},
   "outputs": [
    {
     "data": {
      "text/plain": [
       "list"
      ]
     },
     "execution_count": 10,
     "metadata": {},
     "output_type": "execute_result"
    }
   ],
   "source": [
    "type(x)"
   ]
  },
  {
   "cell_type": "code",
   "execution_count": 12,
   "id": "1bf85c65-ef3d-4650-aa01-75897f755bd2",
   "metadata": {},
   "outputs": [
    {
     "data": {
      "text/plain": [
       "0"
      ]
     },
     "execution_count": 12,
     "metadata": {},
     "output_type": "execute_result"
    }
   ],
   "source": [
    "len(x)"
   ]
  },
  {
   "cell_type": "code",
   "execution_count": 39,
   "id": "bc610799-d448-41a0-a8bc-869600cd1e61",
   "metadata": {},
   "outputs": [],
   "source": [
    "squares = [1**2, 2**2, 3**2]"
   ]
  },
  {
   "cell_type": "code",
   "execution_count": 17,
   "id": "914080cf-f14b-42c6-84e0-c4f02cab5561",
   "metadata": {},
   "outputs": [
    {
     "name": "stdout",
     "output_type": "stream",
     "text": [
      "[1, 4, 9]\n"
     ]
    }
   ],
   "source": [
    "print(squares)"
   ]
  },
  {
   "cell_type": "code",
   "execution_count": 19,
   "id": "c5e6d1a0-ad31-4504-8ecc-58d0432103ae",
   "metadata": {},
   "outputs": [
    {
     "name": "stdout",
     "output_type": "stream",
     "text": [
      "<class 'list'>\n"
     ]
    }
   ],
   "source": [
    "print(type(squares))"
   ]
  },
  {
   "cell_type": "code",
   "execution_count": 21,
   "id": "b3c2d3c3-f2f5-4d1f-9ca0-22178aaaf132",
   "metadata": {},
   "outputs": [
    {
     "name": "stdout",
     "output_type": "stream",
     "text": [
      "3\n"
     ]
    }
   ],
   "source": [
    "print(len(squares))"
   ]
  },
  {
   "cell_type": "code",
   "execution_count": 23,
   "id": "99b00a72-b12b-422c-a31e-e12ceadf2892",
   "metadata": {},
   "outputs": [
    {
     "name": "stdout",
     "output_type": "stream",
     "text": [
      "1\n"
     ]
    }
   ],
   "source": [
    "# 인덱싱을 통해 해당하는 항목(item)을 반환\n",
    "print(squares[0])"
   ]
  },
  {
   "cell_type": "code",
   "execution_count": 25,
   "id": "0d313985-ad78-4d49-b046-981f6be63659",
   "metadata": {},
   "outputs": [
    {
     "name": "stdout",
     "output_type": "stream",
     "text": [
      "4\n"
     ]
    }
   ],
   "source": [
    "print(squares[1])"
   ]
  },
  {
   "cell_type": "code",
   "execution_count": 27,
   "id": "95bd3e4a-396d-4b58-bbce-cec1ba2803b4",
   "metadata": {},
   "outputs": [
    {
     "name": "stdout",
     "output_type": "stream",
     "text": [
      "[4, 9]\n"
     ]
    }
   ],
   "source": [
    "# 슬라이싱을 통해 해당하는 항목(item)으르 여러 개 반환 받을 수 있습니다.\n",
    "print(squares[1:])"
   ]
  },
  {
   "cell_type": "code",
   "execution_count": 29,
   "id": "a6df6dbe-af2c-4e1e-88ed-47296f737590",
   "metadata": {},
   "outputs": [
    {
     "name": "stdout",
     "output_type": "stream",
     "text": [
      "[1, 4, 9]\n"
     ]
    }
   ],
   "source": [
    "print(squares)"
   ]
  },
  {
   "cell_type": "code",
   "execution_count": 31,
   "id": "b025910f-8ec5-42cd-a05c-ca96480fe0d8",
   "metadata": {},
   "outputs": [
    {
     "name": "stdout",
     "output_type": "stream",
     "text": [
      "[1, 4, 9, 16, 25, 36]\n"
     ]
    }
   ],
   "source": [
    "# list의 덧셈\n",
    "print(squares + [4**2, 5**2, 6**2])"
   ]
  },
  {
   "cell_type": "code",
   "execution_count": 33,
   "id": "d70df4fc-b223-4c00-ab44-746a9bf0e76f",
   "metadata": {},
   "outputs": [
    {
     "name": "stdout",
     "output_type": "stream",
     "text": [
      "[1, 4, 9, 1, 4, 9, 1, 4, 9]\n"
     ]
    }
   ],
   "source": [
    "# list의 곱셈\n",
    "print(squares * 3)"
   ]
  },
  {
   "cell_type": "code",
   "execution_count": 35,
   "id": "0907e774-4a77-47b3-bb23-cd75fdedbbed",
   "metadata": {},
   "outputs": [],
   "source": [
    "squares = squares * 3"
   ]
  },
  {
   "cell_type": "code",
   "execution_count": 41,
   "id": "06ee3174-11ae-447c-9e48-00b93d95de39",
   "metadata": {},
   "outputs": [
    {
     "name": "stdout",
     "output_type": "stream",
     "text": [
      "[1, 4, 9]\n"
     ]
    }
   ],
   "source": [
    "print(squares)"
   ]
  },
  {
   "cell_type": "code",
   "execution_count": 43,
   "id": "3adece7c-510e-4e86-83d9-7387bad396e1",
   "metadata": {},
   "outputs": [],
   "source": [
    "squares *= 3"
   ]
  },
  {
   "cell_type": "code",
   "execution_count": 45,
   "id": "ba3a8c3a-8630-4827-b56e-af7d7e7a1c77",
   "metadata": {},
   "outputs": [
    {
     "name": "stdout",
     "output_type": "stream",
     "text": [
      "[1, 4, 9, 1, 4, 9, 1, 4, 9]\n"
     ]
    }
   ],
   "source": [
    "print(squares)"
   ]
  },
  {
   "cell_type": "code",
   "execution_count": 59,
   "id": "d1ddee66-cca0-4ad4-a282-3d22acfa4b2b",
   "metadata": {},
   "outputs": [],
   "source": [
    "# list(가변, mutable)의 값을 변경하기\n",
    "# 인덱싱을 통해서 하나의 요소의 값을 변경\n",
    "cubes = [1, 8, 27, 65, 125] # 65가 잘못된 값이라서 64로 변경\n",
    "cubes[3] = 4**3 # 인덱싱을 통한 요소의 값 변경"
   ]
  },
  {
   "cell_type": "code",
   "execution_count": 61,
   "id": "5c67b15f-5b39-463c-88c1-c75b33d93bd8",
   "metadata": {},
   "outputs": [
    {
     "name": "stdout",
     "output_type": "stream",
     "text": [
      "[1, 8, 27, 64, 125]\n"
     ]
    }
   ],
   "source": [
    "print(cubes)"
   ]
  },
  {
   "cell_type": "code",
   "execution_count": 63,
   "id": "2699884c-3108-4497-8755-18974192b6c2",
   "metadata": {},
   "outputs": [],
   "source": [
    "# 슬라이싱을 통해서 여러 개의 요소를 변경\n",
    "letters = [\"c\", \"d\", \"e\"] # [\"a\", \"b\", \"e\"]\n",
    "letters[:2] = [\"a\", \"b\"] # 슬리아싱을 통한 요소들의 변경\n",
    "                         # 요소의 개수가 서로 같아야 합니다."
   ]
  },
  {
   "cell_type": "code",
   "execution_count": 65,
   "id": "a424cff5-a515-4785-b825-8889f0b97a85",
   "metadata": {},
   "outputs": [
    {
     "name": "stdout",
     "output_type": "stream",
     "text": [
      "['a', 'b', 'e']\n"
     ]
    }
   ],
   "source": [
    "print(letters)"
   ]
  },
  {
   "cell_type": "code",
   "execution_count": 67,
   "id": "eae56697-7c04-437c-a3c0-bf5244ee30da",
   "metadata": {},
   "outputs": [
    {
     "name": "stdout",
     "output_type": "stream",
     "text": [
      "3\n"
     ]
    }
   ],
   "source": [
    "# list 요소의 개수를 구하기\n",
    "print(len(letters))"
   ]
  },
  {
   "cell_type": "code",
   "execution_count": 69,
   "id": "82a467d3-29e9-4bac-8a16-47d7c4eddbc7",
   "metadata": {},
   "outputs": [
    {
     "name": "stdout",
     "output_type": "stream",
     "text": [
      "['a', 'b', 'c']\n",
      "[1, 2, 3]\n",
      "[['a', 'b', 'c'], [1, 2, 3]]\n"
     ]
    }
   ],
   "source": [
    "# list 안에 list 만들기\n",
    "a = ['a', 'b', 'c']\n",
    "b = [1, 2, 3]\n",
    "c = [a, b]\n",
    "print(a)\n",
    "print(b)\n",
    "print(c)"
   ]
  },
  {
   "cell_type": "code",
   "execution_count": 71,
   "id": "d8b661ad-87ff-42fa-8420-000b1405416c",
   "metadata": {},
   "outputs": [
    {
     "name": "stdout",
     "output_type": "stream",
     "text": [
      "['a', 'b', 'c']\n"
     ]
    }
   ],
   "source": [
    "# 중첩된 list의 인덱싱\n",
    "print(c[0])"
   ]
  },
  {
   "cell_type": "code",
   "execution_count": 73,
   "id": "59ce4c1e-4dab-4e36-bd6e-a33ac783c10e",
   "metadata": {},
   "outputs": [
    {
     "name": "stdout",
     "output_type": "stream",
     "text": [
      "a\n"
     ]
    }
   ],
   "source": [
    "c[0] # ['a', 'b', 'c']\n",
    "print(c[0][0])"
   ]
  },
  {
   "cell_type": "code",
   "execution_count": 75,
   "id": "6c5edcd1-f2dc-4811-a8f3-d34bec3da65d",
   "metadata": {},
   "outputs": [
    {
     "data": {
      "text/plain": [
       "2"
      ]
     },
     "execution_count": 75,
     "metadata": {},
     "output_type": "execute_result"
    }
   ],
   "source": [
    "c[1][1]"
   ]
  },
  {
   "cell_type": "code",
   "execution_count": 105,
   "id": "0a0bacec-c417-41b6-a2e8-5cacf3b2735a",
   "metadata": {},
   "outputs": [
    {
     "name": "stdout",
     "output_type": "stream",
     "text": [
      "True\n"
     ]
    }
   ],
   "source": [
    "# list 요소에 포함 여부를 확인하는 방법으로 in이라는 키워드를 사용\n",
    "numbers = [1, 2, 3, 4, 5, 6, 7]\n",
    "print(3 in numbers)"
   ]
  },
  {
   "cell_type": "code",
   "execution_count": 107,
   "id": "b3c4b06e-bc16-4a2b-84c3-37ce9f87b942",
   "metadata": {},
   "outputs": [
    {
     "name": "stdout",
     "output_type": "stream",
     "text": [
      "False\n"
     ]
    }
   ],
   "source": [
    "print(-10 in numbers)"
   ]
  },
  {
   "cell_type": "code",
   "execution_count": 153,
   "id": "522ff3f8-7204-426c-9e16-7cc8e7e25ed7",
   "metadata": {},
   "outputs": [],
   "source": [
    "# list 메소드(함수와 같다)\n",
    "# .append(): list에서 요소 하나를 맨 마지막에 추가\n",
    "# .insert(): list에서 특정 위치에 요소를 삽입\n",
    "# .extend(): list에서 요소 여러 개를 맨 마지막에 추가\n",
    "# .remove(): 입력값과 첫 번째로 일치하는 요소를 list에서 삭제\n",
    "# .pop(): list의 마지막 요소를 제거한 후에 반환\n",
    "# .index(): list에서 인자와 일치하는 첫 번 째 요소의 위치를 반환\n",
    "# .count(): list에서 인자와 일치하는 요소의 개수를 반환\n",
    "# .sort(): 숫자나 문자열로 구성된 list 요소를 순방향으로 정렬\n",
    "# .reverse(): list 요소를 끝에서부터 역순으로 배열(내림차순 정렬 아님)\n",
    "# .clear(): list의 모든 요소를 제거"
   ]
  },
  {
   "cell_type": "code",
   "execution_count": 111,
   "id": "259d51d9-ea0d-420a-849b-2b0d4d1fed8b",
   "metadata": {},
   "outputs": [
    {
     "name": "stdout",
     "output_type": "stream",
     "text": [
      "[1, 2, 3, 4, 5, 6, 7]\n"
     ]
    }
   ],
   "source": [
    "# 리스트변수.append(추가하고 싶은 요소)\n",
    "print(numbers)"
   ]
  },
  {
   "cell_type": "code",
   "execution_count": 113,
   "id": "960748cd-c567-4c0a-92b9-1f3c52ce5a93",
   "metadata": {},
   "outputs": [],
   "source": [
    "numbers.append(8)"
   ]
  },
  {
   "cell_type": "code",
   "execution_count": 115,
   "id": "9534a238-925d-42f2-a129-d013c9d7e949",
   "metadata": {},
   "outputs": [
    {
     "name": "stdout",
     "output_type": "stream",
     "text": [
      "[1, 2, 3, 4, 5, 6, 7, 8]\n"
     ]
    }
   ],
   "source": [
    "print(numbers)"
   ]
  },
  {
   "cell_type": "code",
   "execution_count": 117,
   "id": "a3548a31-b5ac-484e-8793-231bd4839ad2",
   "metadata": {},
   "outputs": [],
   "source": [
    "# 리스트변수.insert(인덱스, 추가하고 싶은 요소)\n",
    "numbers.insert(0, 0) # 0번째 인덱스에 0을 추가"
   ]
  },
  {
   "cell_type": "code",
   "execution_count": 119,
   "id": "67b4865f-cc07-4653-a8b8-064a48b0cde2",
   "metadata": {},
   "outputs": [
    {
     "name": "stdout",
     "output_type": "stream",
     "text": [
      "[0, 1, 2, 3, 4, 5, 6, 7, 8]\n"
     ]
    }
   ],
   "source": [
    "print(numbers)"
   ]
  },
  {
   "cell_type": "code",
   "execution_count": 121,
   "id": "42b787b8-c954-4785-8745-f0017be38e6b",
   "metadata": {},
   "outputs": [
    {
     "name": "stdout",
     "output_type": "stream",
     "text": [
      "[0, 1, 2, 3, 0, 4, 5, 6, 7, 8]\n"
     ]
    }
   ],
   "source": [
    "numbers.insert(4, 0)\n",
    "print(numbers)"
   ]
  },
  {
   "cell_type": "code",
   "execution_count": 123,
   "id": "a65e7b4b-08d8-42a5-9a81-fe82b3e163db",
   "metadata": {},
   "outputs": [
    {
     "name": "stdout",
     "output_type": "stream",
     "text": [
      "[0, 1, 2, 3, 0, 4, 0, 5, 6, 7, 8]\n"
     ]
    }
   ],
   "source": [
    "numbers.insert(6, 0)\n",
    "print(numbers)"
   ]
  },
  {
   "cell_type": "code",
   "execution_count": 125,
   "id": "26c817c5-1164-4357-8111-3561c5ce582e",
   "metadata": {},
   "outputs": [
    {
     "name": "stdout",
     "output_type": "stream",
     "text": [
      "11\n"
     ]
    }
   ],
   "source": [
    "print(len(numbers))"
   ]
  },
  {
   "cell_type": "code",
   "execution_count": 127,
   "id": "82f391bd-dc0b-4b91-863c-fe1bb86f0875",
   "metadata": {},
   "outputs": [
    {
     "name": "stdout",
     "output_type": "stream",
     "text": [
      "[0, 1, 2, 3, 0, 4, 0, 5, 6, 7, 8, 0]\n"
     ]
    }
   ],
   "source": [
    "numbers.insert(len(numbers), 0)\n",
    "print(numbers)"
   ]
  },
  {
   "cell_type": "code",
   "execution_count": 129,
   "id": "e860679e-939b-46ca-9aa4-c309e6001665",
   "metadata": {},
   "outputs": [
    {
     "name": "stdout",
     "output_type": "stream",
     "text": [
      "[0, 1, 2, 3, 0, 4, 0, 5, 6, 7, 8, 0, 9, 10, 11]\n"
     ]
    }
   ],
   "source": [
    "# 리스트변수1.extend(리스트변수2)\n",
    "# 리스트변수1의 제일 마지막에 리스트2의 요소들을 추가\n",
    "numbers.extend([9, 10, 11])\n",
    "print(numbers)"
   ]
  },
  {
   "cell_type": "code",
   "execution_count": 131,
   "id": "b9ebc39e-8997-4bc5-8167-dca2e00479fa",
   "metadata": {},
   "outputs": [
    {
     "name": "stdout",
     "output_type": "stream",
     "text": [
      "[0, 1, 2, 3, 0, 4, 0, 5, 6, 7, 8, 0, 9, 10, 11]\n"
     ]
    }
   ],
   "source": [
    "# 리스트변수.remove(삭제하고 싶은 요소의 값)\n",
    "# 삭제하고 싶은 요소의 값과 동일한 첫 번째 요소를 제거\n",
    "print(numbers)"
   ]
  },
  {
   "cell_type": "code",
   "execution_count": 133,
   "id": "4fbf7b8d-fd78-464e-9612-e098c10bf95a",
   "metadata": {},
   "outputs": [
    {
     "name": "stdout",
     "output_type": "stream",
     "text": [
      "[1, 2, 3, 0, 4, 0, 5, 6, 7, 8, 0, 9, 10, 11]\n"
     ]
    }
   ],
   "source": [
    "numbers.remove(0)\n",
    "print(numbers)"
   ]
  },
  {
   "cell_type": "code",
   "execution_count": 135,
   "id": "07649b9f-7b12-4cd6-ac1b-4debb6771cab",
   "metadata": {},
   "outputs": [
    {
     "name": "stdout",
     "output_type": "stream",
     "text": [
      "11\n"
     ]
    }
   ],
   "source": [
    "# 리스트변수.pop() 제일 마지막 요소를 반환 and 제거\n",
    "print(numbers.pop())"
   ]
  },
  {
   "cell_type": "code",
   "execution_count": 137,
   "id": "2281584f-2c00-4e11-bb5d-643fa401a663",
   "metadata": {},
   "outputs": [
    {
     "name": "stdout",
     "output_type": "stream",
     "text": [
      "[1, 2, 3, 0, 4, 0, 5, 6, 7, 8, 0, 9, 10]\n"
     ]
    }
   ],
   "source": [
    "print(numbers)"
   ]
  },
  {
   "cell_type": "code",
   "execution_count": 139,
   "id": "dc15ea34-6f56-4cd1-9181-ed7c80c470a8",
   "metadata": {},
   "outputs": [
    {
     "name": "stdout",
     "output_type": "stream",
     "text": [
      "None\n"
     ]
    }
   ],
   "source": [
    "print(numbers.append(11))"
   ]
  },
  {
   "cell_type": "code",
   "execution_count": 141,
   "id": "3fb2ce49-0fe0-4cf0-b5d8-caa9f4303d64",
   "metadata": {},
   "outputs": [
    {
     "name": "stdout",
     "output_type": "stream",
     "text": [
      "[1, 2, 3, 0, 4, 0, 5, 6, 7, 8, 0, 9, 10, 11]\n"
     ]
    }
   ],
   "source": [
    "print(numbers)"
   ]
  },
  {
   "cell_type": "code",
   "execution_count": 143,
   "id": "0e589aca-5370-462b-acc5-62002ded5f9c",
   "metadata": {},
   "outputs": [
    {
     "data": {
      "text/plain": [
       "3"
      ]
     },
     "execution_count": 143,
     "metadata": {},
     "output_type": "execute_result"
    }
   ],
   "source": [
    "# 리스트변수.index(인덱스를 찾고자 하는 요소의 값)\n",
    "# 인덱스 위치를 알고 싶은 요소의 값과 일치하는\n",
    "# 인덱스 순서로 봤을 때 첫 번째로 등장한 요소의 인덱스 숫자를 반환\n",
    "numbers.index(0)"
   ]
  },
  {
   "cell_type": "code",
   "execution_count": 145,
   "id": "d41182e5-4bc0-491d-b17d-84545571109f",
   "metadata": {},
   "outputs": [
    {
     "name": "stdout",
     "output_type": "stream",
     "text": [
      "3\n"
     ]
    }
   ],
   "source": [
    "# 리스트변수.count(요소의 값)\n",
    "# 소괄호 안에 넣어준 요소의 값(인자)과 같은 것의 개수를 반환\n",
    "print(numbers.count(0))"
   ]
  },
  {
   "cell_type": "code",
   "execution_count": 147,
   "id": "109f3e06-b8a8-4b9e-8bb8-740ebce372c0",
   "metadata": {},
   "outputs": [
    {
     "name": "stdout",
     "output_type": "stream",
     "text": [
      "[0, 0, 0, 1, 2, 3, 4, 5, 6, 7, 8, 9, 10, 11]\n"
     ]
    }
   ],
   "source": [
    "# 리스트변수.sort()\n",
    "# 리스트변수를 오름차순으로 정렬\n",
    "numbers.sort()\n",
    "print(numbers)"
   ]
  },
  {
   "cell_type": "code",
   "execution_count": 149,
   "id": "630a4e23-a9ce-45a6-b256-e1cb56797b4d",
   "metadata": {},
   "outputs": [
    {
     "name": "stdout",
     "output_type": "stream",
     "text": [
      "[11, 10, 9, 8, 7, 6, 5, 4, 3, 2, 1, 0, 0, 0]\n"
     ]
    }
   ],
   "source": [
    "# 리스트변수.reverse()\n",
    "# 리스트변수의 요소를 반대 방향으로 뒤집어줍니다.(정렬은 아님)\n",
    "numbers.reverse()\n",
    "print(numbers)"
   ]
  },
  {
   "cell_type": "code",
   "execution_count": 155,
   "id": "955149ca-a815-4dac-924f-bd9b3ff4e796",
   "metadata": {},
   "outputs": [],
   "source": [
    "# list로 stack구조 활용하기\n",
    "# 3, 4, 5라는 값을 순서대로 넣기\n",
    "# 6이라는 값과 7이라는 값을 차례로 넣기\n",
    "# 제일 바깥쪽(last)에 있는 값을 순서대로 3개를 꺼내기\n",
    "stack_var = [3, 4, 5]"
   ]
  },
  {
   "cell_type": "code",
   "execution_count": 159,
   "id": "23a923af-c8cf-4339-b0a6-fe67484c3085",
   "metadata": {},
   "outputs": [],
   "source": [
    "stack_var.append(6)"
   ]
  },
  {
   "cell_type": "code",
   "execution_count": 161,
   "id": "3b5d14f3-1a83-499d-aef5-da37ce0727c4",
   "metadata": {},
   "outputs": [],
   "source": [
    "stack_var.append(7)"
   ]
  },
  {
   "cell_type": "code",
   "execution_count": 163,
   "id": "f889bd00-a206-4cd2-9886-9242bfa2e4d8",
   "metadata": {},
   "outputs": [
    {
     "name": "stdout",
     "output_type": "stream",
     "text": [
      "[3, 4, 5, 6, 7]\n"
     ]
    }
   ],
   "source": [
    "print(stack_var)"
   ]
  },
  {
   "cell_type": "code",
   "execution_count": 165,
   "id": "0572451b-219c-43ca-a1ef-78a9dc5796d1",
   "metadata": {},
   "outputs": [
    {
     "data": {
      "text/plain": [
       "7"
      ]
     },
     "execution_count": 165,
     "metadata": {},
     "output_type": "execute_result"
    }
   ],
   "source": [
    "stack_var.pop()"
   ]
  },
  {
   "cell_type": "code",
   "execution_count": 167,
   "id": "d0cdaede-0ea0-4bb4-9bf8-6d0ba7556bd7",
   "metadata": {},
   "outputs": [
    {
     "name": "stdout",
     "output_type": "stream",
     "text": [
      "[3, 4, 5, 6]\n"
     ]
    }
   ],
   "source": [
    "print(stack_var)"
   ]
  },
  {
   "cell_type": "code",
   "execution_count": 169,
   "id": "2cb1b4b5-baf3-436c-b1ff-b312dd7d53fc",
   "metadata": {},
   "outputs": [
    {
     "data": {
      "text/plain": [
       "6"
      ]
     },
     "execution_count": 169,
     "metadata": {},
     "output_type": "execute_result"
    }
   ],
   "source": [
    "stack_var.pop()"
   ]
  },
  {
   "cell_type": "code",
   "execution_count": 171,
   "id": "91e1c4f8-66f7-448c-8d71-85d7ced7cd27",
   "metadata": {},
   "outputs": [
    {
     "name": "stdout",
     "output_type": "stream",
     "text": [
      "[3, 4, 5]\n"
     ]
    }
   ],
   "source": [
    "print(stack_var)"
   ]
  },
  {
   "cell_type": "code",
   "execution_count": 173,
   "id": "91ea42da-c643-41d7-af19-bd23056f50a1",
   "metadata": {},
   "outputs": [
    {
     "data": {
      "text/plain": [
       "5"
      ]
     },
     "execution_count": 173,
     "metadata": {},
     "output_type": "execute_result"
    }
   ],
   "source": [
    "stack_var.pop()"
   ]
  },
  {
   "cell_type": "code",
   "execution_count": 175,
   "id": "81e33c34-1fa9-49f0-a98f-96e0fd72e66b",
   "metadata": {},
   "outputs": [
    {
     "name": "stdout",
     "output_type": "stream",
     "text": [
      "[3, 4]\n"
     ]
    }
   ],
   "source": [
    "print(stack_var)"
   ]
  },
  {
   "cell_type": "code",
   "execution_count": null,
   "id": "8b033fba-415d-457b-832d-60c6d99bef70",
   "metadata": {},
   "outputs": [],
   "source": []
  }
 ],
 "metadata": {
  "kernelspec": {
   "display_name": "Python 3 (ipykernel)",
   "language": "python",
   "name": "python3"
  },
  "language_info": {
   "codemirror_mode": {
    "name": "ipython",
    "version": 3
   },
   "file_extension": ".py",
   "mimetype": "text/x-python",
   "name": "python",
   "nbconvert_exporter": "python",
   "pygments_lexer": "ipython3",
   "version": "3.12.4"
  }
 },
 "nbformat": 4,
 "nbformat_minor": 5
}
