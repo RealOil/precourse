{
 "cells": [
  {
   "cell_type": "code",
   "execution_count": 4,
   "id": "306c9877-c343-4d61-a744-a93b795ec31c",
   "metadata": {},
   "outputs": [],
   "source": [
    "# 자동차에 대한 데이터를 변수로 관리하는 예를 들어보겠습니다.\n",
    "\n",
    "# 자동차라는 것은 바퀴가 4개인 특징(속성)을 갖습니다.\n",
    "# 자동차는 색상(속성)을 갖습니다.\n",
    "# 가속페달을 밟으면 차가 앞으로 가는 특징(메소드)를 갖습니다.\n",
    "wheels = 4\n",
    "color = \"white\"\n",
    "acc = lambda x: \"차가 앞으로 갑니다.\" if x else \"차가 멈춰있습니다.\""
   ]
  },
  {
   "cell_type": "code",
   "execution_count": 8,
   "id": "7bb47ef3-213a-4539-afe7-7a11ed293588",
   "metadata": {},
   "outputs": [],
   "source": [
    "# 차가 100대가 필요하다면...\n",
    "wheels1 = 4\n",
    "color1 = \"white\"\n",
    "acc1 = lambda x: \"차가 앞으로 갑니다.\" if x else \"차가 멈춰있습니다.\"\n",
    "\n",
    "# ...\n",
    "\n",
    "wheels100 = 4\n",
    "color100 = \"red\"\n",
    "acc100 = lambda x: \"차가 앞으로 갑니다.\" if x else \"차가 멈춰있습니다.\""
   ]
  },
  {
   "cell_type": "code",
   "execution_count": null,
   "id": "44b217ea-c4a6-4da9-98ab-88cb52b55637",
   "metadata": {},
   "outputs": [],
   "source": [
    "# 자동차에 대한 특징을 하나 더 넣어야 한다.\n",
    "# sunroof 변수를 추가하고 True 값이면 있고, False 값이면 없다."
   ]
  },
  {
   "cell_type": "code",
   "execution_count": 22,
   "id": "68987322-3e89-48c8-8501-143e5d80eab0",
   "metadata": {},
   "outputs": [],
   "source": [
    "class Car:\n",
    "    def __init__(self, color):\n",
    "        self.wheels = 4\n",
    "        self.color = color\n",
    "\n",
    "    def drive(self, acc):\n",
    "        self.acc = acc\n",
    "        if acc:\n",
    "            print(\"차가 앞으로 갑니다.\")\n",
    "        else:\n",
    "            print(\"차가 멈춰있습니다.\")\n",
    "    def roof(self, sunroof):\n",
    "        self.sunroof = sunroof\n",
    "        if sunroof:\n",
    "            print(\"선루프가 있는 차량입니다.\")\n",
    "        else:\n",
    "            print(\"선루프가 없는 차량입니다.\")"
   ]
  },
  {
   "cell_type": "code",
   "execution_count": 24,
   "id": "7bd0d5cd-18c6-4581-9154-40e95f473749",
   "metadata": {},
   "outputs": [
    {
     "name": "stdout",
     "output_type": "stream",
     "text": [
      "차가 앞으로 갑니다.\n",
      "선루프가 없는 차량입니다.\n"
     ]
    }
   ],
   "source": [
    "car1 = Car(\"white\")\n",
    "car1.drive(True)\n",
    "car1.roof(False)"
   ]
  },
  {
   "cell_type": "code",
   "execution_count": 5,
   "id": "7a62dc5e-fc8f-4d63-aea0-e69a454fe2ab",
   "metadata": {},
   "outputs": [],
   "source": [
    "class Person:\n",
    "    def __init__(self):# __init__(self)는 생성자를 나타내며, 클래스로 하여금 인스턴스가 생성될 때 최소 한 번 실행되는 특수한 매직 메소드입니다.\n",
    "        self.hello = \"안녕하세요\" # 인스턴스의 속성 hello를 만들고 그 값으로 \"안녕하세요\"를 초기화했습니다.\n",
    "    def greeting(self):\n",
    "        print(self.hello)"
   ]
  },
  {
   "cell_type": "code",
   "execution_count": 11,
   "id": "44e750fd-014d-43e2-807c-536d91b01303",
   "metadata": {},
   "outputs": [
    {
     "name": "stdout",
     "output_type": "stream",
     "text": [
      "안녕하세요\n"
     ]
    }
   ],
   "source": [
    "james = Person() # 클래스를 인스턴스화 하는 부분. 여기서 생성자가 호출\n",
    "james.greeting()"
   ]
  },
  {
   "cell_type": "code",
   "execution_count": 13,
   "id": "4cb69539-2385-4d3d-8443-f543708205d7",
   "metadata": {},
   "outputs": [],
   "source": [
    "class Person2:\n",
    "    def __init__(self, name, age, address):\n",
    "        self.hello = \"안녕하세요.\"\n",
    "        self.name = name\n",
    "        self.age = age\n",
    "        self.address = address\n",
    "    def greeting(self):\n",
    "        print(f\"{self.hello} 제 이름은 {self.name}입니다.\")"
   ]
  },
  {
   "cell_type": "code",
   "execution_count": 15,
   "id": "6430dae1-59b9-4ed5-a415-2c3f0717e084",
   "metadata": {},
   "outputs": [],
   "source": [
    "maria = Person2(\"마리아\", 20, \"서울시 서초구\")"
   ]
  },
  {
   "cell_type": "code",
   "execution_count": 17,
   "id": "ec576427-bb95-4200-aabc-09a495faae4d",
   "metadata": {},
   "outputs": [
    {
     "name": "stdout",
     "output_type": "stream",
     "text": [
      "안녕하세요. 제 이름은 마리아입니다.\n"
     ]
    }
   ],
   "source": [
    "maria.greeting()"
   ]
  },
  {
   "cell_type": "code",
   "execution_count": 19,
   "id": "916bb5a5-3ed8-43e3-a07a-df7f9c933105",
   "metadata": {},
   "outputs": [
    {
     "name": "stdout",
     "output_type": "stream",
     "text": [
      "이름: 마리아\n"
     ]
    }
   ],
   "source": [
    "print(f\"이름: {maria.name}\")"
   ]
  },
  {
   "cell_type": "code",
   "execution_count": 21,
   "id": "f69ea6c2-b33a-46bc-a6a2-48637f857930",
   "metadata": {},
   "outputs": [
    {
     "name": "stdout",
     "output_type": "stream",
     "text": [
      "나이: 20\n"
     ]
    }
   ],
   "source": [
    "print(f\"나이: {maria.age}\")"
   ]
  },
  {
   "cell_type": "code",
   "execution_count": 23,
   "id": "984e74e1-c9df-44a7-bb81-a29aaa748007",
   "metadata": {},
   "outputs": [
    {
     "name": "stdout",
     "output_type": "stream",
     "text": [
      "주소: 서울시 서초구\n"
     ]
    }
   ],
   "source": [
    "print(f\"주소: {maria.address}\")"
   ]
  },
  {
   "cell_type": "code",
   "execution_count": 25,
   "id": "b21283d1-2d07-4978-bb71-42a72b75b278",
   "metadata": {},
   "outputs": [],
   "source": [
    "maria.age = 50"
   ]
  },
  {
   "cell_type": "code",
   "execution_count": 27,
   "id": "628b28f6-ea7c-4a79-9b7f-201f4ccfc018",
   "metadata": {},
   "outputs": [
    {
     "name": "stdout",
     "output_type": "stream",
     "text": [
      "나이: 50\n"
     ]
    }
   ],
   "source": [
    "print(f\"나이: {maria.age}\")"
   ]
  },
  {
   "cell_type": "code",
   "execution_count": 41,
   "id": "27c51961-07f4-424b-9772-0535809f50aa",
   "metadata": {},
   "outputs": [],
   "source": [
    "class Person3:\n",
    "    def __init__(self, name, age, address, wallet):\n",
    "        self.hello = \"안녕하세요.\"\n",
    "        self.name = name\n",
    "        self.age = age\n",
    "        self.address = address\n",
    "        self.__wallet = wallet\n",
    "    def pay(self, amount):\n",
    "        if amount > self.__wallet:\n",
    "            print(\"돈이 부족합니다.\")\n",
    "            return\n",
    "        self.__wallet -= amount\n",
    "        print(f\"이제 {self.__wallet}원 남았네요.\")\n",
    "    def greeting(self):\n",
    "        print(f\"{self.hello} 제 이름은 {self.name}입니다.\")"
   ]
  },
  {
   "cell_type": "code",
   "execution_count": 43,
   "id": "1d469866-5493-4e00-9038-a8eb69238264",
   "metadata": {},
   "outputs": [],
   "source": [
    "hong = Person3(\"홍길동\", 18, \"서울시\", 10000)"
   ]
  },
  {
   "cell_type": "code",
   "execution_count": 45,
   "id": "f8ad8539-6fc9-4109-ab5a-c3a64d8ae5ad",
   "metadata": {},
   "outputs": [
    {
     "name": "stdout",
     "output_type": "stream",
     "text": [
      "이제 7000원 남았네요.\n"
     ]
    }
   ],
   "source": [
    "hong.pay(3000)"
   ]
  },
  {
   "cell_type": "code",
   "execution_count": 26,
   "id": "71155793-c7eb-4d25-a2cf-c8c6d9748f7d",
   "metadata": {},
   "outputs": [],
   "source": [
    "# 부모 클래스\n",
    "class Character:\n",
    "    def __init__(self, name, health):\n",
    "        self.name = name\n",
    "        self.health = health\n",
    "\n",
    "    def attack(self):\n",
    "        print(f\"{self.name}이(가) 공격합니다!\")"
   ]
  },
  {
   "cell_type": "code",
   "execution_count": 28,
   "id": "d7b268c9-2ab9-4d88-9e1a-9571a4d7e9aa",
   "metadata": {},
   "outputs": [],
   "source": [
    "# 자식 클래스\n",
    "class Warrior(Character):\n",
    "    def __init__(self, name, health, strength):\n",
    "        super().__init__(name, health)\n",
    "        self.strength = strength\n",
    "\n",
    "    # Override\n",
    "    def attack(self):\n",
    "        super().attack()\n",
    "        print(f\"{self.name}의 강력한 공격!\")"
   ]
  },
  {
   "cell_type": "code",
   "execution_count": 40,
   "id": "40b7262a-1f52-4bb3-83db-ca66ff2531e0",
   "metadata": {},
   "outputs": [],
   "source": [
    "# 자식 클래스\n",
    "class Mage(Character):\n",
    "    def __init__(self, name, health, magic_power):\n",
    "        super().__init__(name, health)\n",
    "        self.magic_power = magic_power\n",
    "\n",
    "    # Override\n",
    "    def attack(self):\n",
    "        super().attack()\n",
    "        print(f\"{self.name}의 마법 공격!\")"
   ]
  },
  {
   "cell_type": "code",
   "execution_count": 42,
   "id": "080c7878-a57c-4c4b-bc59-cf4c3d183120",
   "metadata": {},
   "outputs": [],
   "source": [
    "player1 = Warrior(\"전사\", 100, 10)\n",
    "player2 = Mage(\"마법사\", 100, 15)"
   ]
  },
  {
   "cell_type": "code",
   "execution_count": 48,
   "id": "8467beaf-6489-4672-808e-56143f4b3ca4",
   "metadata": {},
   "outputs": [
    {
     "name": "stdout",
     "output_type": "stream",
     "text": [
      "전사이(가) 공격합니다!\n",
      "전사의 강력한 공격!\n"
     ]
    }
   ],
   "source": [
    "player1.attack()"
   ]
  },
  {
   "cell_type": "code",
   "execution_count": 54,
   "id": "c9c22938-7d89-4e2d-91be-4236b00f616d",
   "metadata": {},
   "outputs": [
    {
     "data": {
      "text/plain": [
       "'전사'"
      ]
     },
     "execution_count": 54,
     "metadata": {},
     "output_type": "execute_result"
    }
   ],
   "source": [
    "player1.name"
   ]
  },
  {
   "cell_type": "code",
   "execution_count": 56,
   "id": "904f8241-0fae-47b9-84de-8faf339ced09",
   "metadata": {},
   "outputs": [
    {
     "data": {
      "text/plain": [
       "10"
      ]
     },
     "execution_count": 56,
     "metadata": {},
     "output_type": "execute_result"
    }
   ],
   "source": [
    "player1.strength"
   ]
  },
  {
   "cell_type": "code",
   "execution_count": 50,
   "id": "d5c483fa-92da-496d-b666-a67a6d0045d3",
   "metadata": {},
   "outputs": [
    {
     "name": "stdout",
     "output_type": "stream",
     "text": [
      "마법사이(가) 공격합니다!\n",
      "마법사의 마법 공격!\n"
     ]
    }
   ],
   "source": [
    "player2.attack()"
   ]
  },
  {
   "cell_type": "code",
   "execution_count": null,
   "id": "04275800-9a8f-4086-b2c8-cf4aff993cde",
   "metadata": {},
   "outputs": [],
   "source": []
  }
 ],
 "metadata": {
  "kernelspec": {
   "display_name": "Python 3 (ipykernel)",
   "language": "python",
   "name": "python3"
  },
  "language_info": {
   "codemirror_mode": {
    "name": "ipython",
    "version": 3
   },
   "file_extension": ".py",
   "mimetype": "text/x-python",
   "name": "python",
   "nbconvert_exporter": "python",
   "pygments_lexer": "ipython3",
   "version": "3.12.4"
  }
 },
 "nbformat": 4,
 "nbformat_minor": 5
}
