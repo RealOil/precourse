{
 "cells": [
  {
   "cell_type": "code",
   "execution_count": 51,
   "id": "4a3fa883-7ecd-40f3-8124-ef01b5da3bbb",
   "metadata": {},
   "outputs": [
    {
     "name": "stdout",
     "output_type": "stream",
     "text": [
      "[3, 4.0]\n"
     ]
    }
   ],
   "source": [
    "number = [\"1\", 2, 3, float(4), str(5)]\n",
    "# \"1\", 2, 3, 4.0, \"5\"\n",
    "if number[4] == 5: # number[4] = str(5)\n",
    "    print(type(number[0]))\n",
    "elif number[3] == 4:\n",
    "    print(number[2:-1]) # number[-1] = str(5)"
   ]
  },
  {
   "cell_type": "code",
   "execution_count": 65,
   "id": "a7d4cfa5-21b2-4bcf-9c70-e016e5245bdb",
   "metadata": {},
   "outputs": [
    {
     "name": "stdout",
     "output_type": "stream",
     "text": [
      "Task end\n",
      "Hire more works\n",
      "Hire more works\n",
      "Task end\n"
     ]
    }
   ],
   "source": [
    "def work_status(task, worker, day):\n",
    "    rest_task = task\n",
    "    for k in range(day):\n",
    "        if rest_task > 0:\n",
    "            rest_task = rest_task - worker\n",
    "        # 기존 코드\n",
    "        # elif rest <= 0:\n",
    "        #   print(\"Task end\")\n",
    "    if rest_task <= 0:\n",
    "            print(\"Task end\")\n",
    "    elif rest_task > 0:\n",
    "        print(\"Hire more works\")\n",
    "\n",
    "work_status(100, 11, 10) # rest_task = -10\n",
    "work_status(100, 1, 10) # rest_task = \n",
    "work_status(100, 9, 10) # rest_task = \n",
    "work_status(100, 10, 10) # rest_task = "
   ]
  },
  {
   "cell_type": "code",
   "execution_count": 19,
   "id": "272272f6-af11-4a24-bd23-069c62a133bb",
   "metadata": {},
   "outputs": [
    {
     "name": "stdout",
     "output_type": "stream",
     "text": [
      "['S', 'M', 'T', 'W', 'T', 'F', 'S']\n"
     ]
    }
   ],
   "source": [
    "words = ['Sunday', 'Monday', 'Tuesday', 'Wednesday', 'Thursday', 'Friday', 'Saturday']\n",
    "initials = [word[0] for word in words]\n",
    "print(initials)"
   ]
  },
  {
   "cell_type": "code",
   "execution_count": 37,
   "id": "92d09003-fa41-4cd4-b795-453e64ff0cc8",
   "metadata": {},
   "outputs": [
    {
     "name": "stdout",
     "output_type": "stream",
     "text": [
      "[2, 4, 6, 8, 10, 12, 14, 16, 18, 20]\n"
     ]
    }
   ],
   "source": [
    "list_even = [i for i in range(1, 21) if i % 2 == 0]\n",
    "print(list_even)\n"
   ]
  },
  {
   "cell_type": "code",
   "execution_count": null,
   "id": "781a33df-697f-496b-a8a9-f0634e8cebfa",
   "metadata": {},
   "outputs": [],
   "source": []
  },
  {
   "cell_type": "code",
   "execution_count": null,
   "id": "9610f450-fee9-404a-beac-061aa8ad9ac1",
   "metadata": {},
   "outputs": [],
   "source": []
  }
 ],
 "metadata": {
  "kernelspec": {
   "display_name": "Python 3 (ipykernel)",
   "language": "python",
   "name": "python3"
  },
  "language_info": {
   "codemirror_mode": {
    "name": "ipython",
    "version": 3
   },
   "file_extension": ".py",
   "mimetype": "text/x-python",
   "name": "python",
   "nbconvert_exporter": "python",
   "pygments_lexer": "ipython3",
   "version": "3.12.4"
  }
 },
 "nbformat": 4,
 "nbformat_minor": 5
}
