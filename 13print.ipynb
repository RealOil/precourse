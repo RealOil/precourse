{
 "cells": [
  {
   "cell_type": "code",
   "execution_count": 1,
   "id": "f2d6407a-1b1a-4d87-a5b6-a1a5efca673d",
   "metadata": {},
   "outputs": [
    {
     "name": "stdout",
     "output_type": "stream",
     "text": [
      "Hello World\n"
     ]
    }
   ],
   "source": [
    "# 화면에 출력\n",
    "# print()라는 내상 함수를 활용하여 할 수 있다.\n",
    "print(\"Hello World\")"
   ]
  },
  {
   "cell_type": "code",
   "execution_count": 3,
   "id": "3d4d8770-f32d-4733-82e8-cb94218c2606",
   "metadata": {},
   "outputs": [
    {
     "name": "stdout",
     "output_type": "stream",
     "text": [
      "1 1.1 [1, '가', 1.3]\n"
     ]
    }
   ],
   "source": [
    "print(1, 1.1, [1, \"가\", 1.3])"
   ]
  },
  {
   "cell_type": "code",
   "execution_count": 5,
   "id": "d0e98e87-3576-4edb-a7bc-3769875ce94c",
   "metadata": {},
   "outputs": [
    {
     "name": "stdout",
     "output_type": "stream",
     "text": [
      "1구분1.1구분[1, '가', 1.3]\n"
     ]
    }
   ],
   "source": [
    "print(1, 1.1, [1, \"가\", 1.3], sep=\"구분\")"
   ]
  },
  {
   "cell_type": "code",
   "execution_count": 13,
   "id": "ffa83b74-1c5f-44a4-b93d-908736e96528",
   "metadata": {},
   "outputs": [
    {
     "name": "stdout",
     "output_type": "stream",
     "text": [
      "출력할 떄 쓰는 print() 내장 합수는\n",
      "기본적으로 개행 문자를 마지막 문자로 사용을 합니다.\n"
     ]
    }
   ],
   "source": [
    "# end라는 keyword argument가 기본값(default)을 \"\\n\" 개행 문자를 가지고 있다\n",
    "print(\"출력할 떄 쓰는 print() 내장 합수는\", end=\"\\n\")\n",
    "print(\"기본적으로 개행 문자를 마지막 문자로 사용을 합니다.\")"
   ]
  },
  {
   "cell_type": "code",
   "execution_count": 15,
   "id": "23d782cb-c4b9-487a-a238-5250140efb95",
   "metadata": {},
   "outputs": [
    {
     "name": "stdout",
     "output_type": "stream",
     "text": [
      "출력할 때 쓰는 print() 내장 함수는마지막에 추가되는 문자를 다른 값으로 변경했습니다.기본적으로 개행 문자를 마지맞 문자로 사용을 합니다.\n"
     ]
    }
   ],
   "source": [
    "print(\"출력할 때 쓰는 print() 내장 함수는\", end=\"마지막에 추가되는 문자를 다른 값으로 변경했습니다.\")\n",
    "print(\"기본적으로 개행 문자를 마지맞 문자로 사용을 합니다.\")"
   ]
  },
  {
   "cell_type": "code",
   "execution_count": null,
   "id": "f531073c-3f48-46cd-97d3-ef525e16de2f",
   "metadata": {},
   "outputs": [],
   "source": []
  }
 ],
 "metadata": {
  "kernelspec": {
   "display_name": "Python 3 (ipykernel)",
   "language": "python",
   "name": "python3"
  },
  "language_info": {
   "codemirror_mode": {
    "name": "ipython",
    "version": 3
   },
   "file_extension": ".py",
   "mimetype": "text/x-python",
   "name": "python",
   "nbconvert_exporter": "python",
   "pygments_lexer": "ipython3",
   "version": "3.12.4"
  }
 },
 "nbformat": 4,
 "nbformat_minor": 5
}
