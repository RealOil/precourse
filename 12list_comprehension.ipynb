{
 "cells": [
  {
   "cell_type": "code",
   "execution_count": 1,
   "id": "ae8e1f5b-699e-4d1c-a3fa-0e53c0b43ba6",
   "metadata": {},
   "outputs": [],
   "source": [
    "# list conprehension: list 를 생성하는 방법 중 하나입니다.\n",
    "# 자주 쓰이는 문법 중 하나\n",
    "list_var = [i for i in range(1,10)]"
   ]
  },
  {
   "cell_type": "code",
   "execution_count": 3,
   "id": "14bd0fe4-0df6-4ff3-b886-88f02f2a58c3",
   "metadata": {},
   "outputs": [
    {
     "name": "stdout",
     "output_type": "stream",
     "text": [
      "[1, 2, 3, 4, 5, 6, 7, 8, 9]\n"
     ]
    }
   ],
   "source": [
    "print(list_var)"
   ]
  },
  {
   "cell_type": "code",
   "execution_count": 5,
   "id": "dec287d8-4cbc-4aab-bdac-2735cef944b8",
   "metadata": {},
   "outputs": [
    {
     "data": {
      "text/plain": [
       "[1, 2, 3, 4, 5, 6, 7, 8, 9, 10, 11, 12, 13, 14, 15, 16, 17, 18, 19]"
      ]
     },
     "execution_count": 5,
     "metadata": {},
     "output_type": "execute_result"
    }
   ],
   "source": [
    "list(range(1,20))"
   ]
  },
  {
   "cell_type": "code",
   "execution_count": 19,
   "id": "c7d1dfcf-ba22-476c-9d12-4b0060185264",
   "metadata": {},
   "outputs": [],
   "source": [
    "list_var2 = [i**2 for i in range(10) if i  % 2 ==0]"
   ]
  },
  {
   "cell_type": "code",
   "execution_count": 23,
   "id": "b12fc922-cf01-496b-a178-6e30ac982266",
   "metadata": {},
   "outputs": [
    {
     "name": "stdout",
     "output_type": "stream",
     "text": [
      "[0, 4, 16, 36, 64]\n"
     ]
    }
   ],
   "source": [
    "print(list_var2)"
   ]
  },
  {
   "cell_type": "code",
   "execution_count": null,
   "id": "7280f346-192f-48f8-b842-ed88dfb1045c",
   "metadata": {},
   "outputs": [],
   "source": []
  }
 ],
 "metadata": {
  "kernelspec": {
   "display_name": "Python 3 (ipykernel)",
   "language": "python",
   "name": "python3"
  },
  "language_info": {
   "codemirror_mode": {
    "name": "ipython",
    "version": 3
   },
   "file_extension": ".py",
   "mimetype": "text/x-python",
   "name": "python",
   "nbconvert_exporter": "python",
   "pygments_lexer": "ipython3",
   "version": "3.12.4"
  }
 },
 "nbformat": 4,
 "nbformat_minor": 5
}
